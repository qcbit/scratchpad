{
  "nbformat": 4,
  "nbformat_minor": 0,
  "metadata": {
    "colab": {
      "provenance": [],
      "gpuType": "T4"
    },
    "kernelspec": {
      "name": "python3",
      "display_name": "Python 3"
    },
    "language_info": {
      "name": "python"
    },
    "accelerator": "GPU",
    "widgets": {
      "application/vnd.jupyter.widget-state+json": {
        "5184fea2d2384a78a3df08a37e64a92d": {
          "model_module": "@jupyter-widgets/controls",
          "model_name": "HBoxModel",
          "model_module_version": "1.5.0",
          "state": {
            "_dom_classes": [],
            "_model_module": "@jupyter-widgets/controls",
            "_model_module_version": "1.5.0",
            "_model_name": "HBoxModel",
            "_view_count": null,
            "_view_module": "@jupyter-widgets/controls",
            "_view_module_version": "1.5.0",
            "_view_name": "HBoxView",
            "box_style": "",
            "children": [
              "IPY_MODEL_28cb51814a23464bbc068a899d7aaecc",
              "IPY_MODEL_c7dadefc80d94aea96e9be279d78c658",
              "IPY_MODEL_670ff5a2f135416dba5e51b9c0bef3d6"
            ],
            "layout": "IPY_MODEL_eab4bd2773ce4d0f8d7f7ac8da0e600b"
          }
        },
        "28cb51814a23464bbc068a899d7aaecc": {
          "model_module": "@jupyter-widgets/controls",
          "model_name": "HTMLModel",
          "model_module_version": "1.5.0",
          "state": {
            "_dom_classes": [],
            "_model_module": "@jupyter-widgets/controls",
            "_model_module_version": "1.5.0",
            "_model_name": "HTMLModel",
            "_view_count": null,
            "_view_module": "@jupyter-widgets/controls",
            "_view_module_version": "1.5.0",
            "_view_name": "HTMLView",
            "description": "",
            "description_tooltip": null,
            "layout": "IPY_MODEL_f6e818438bba40c383c3234f5bc2b652",
            "placeholder": "​",
            "style": "IPY_MODEL_2dac7a094e4c4a5fb61be9f030204ed5",
            "value": "README.md: "
          }
        },
        "c7dadefc80d94aea96e9be279d78c658": {
          "model_module": "@jupyter-widgets/controls",
          "model_name": "FloatProgressModel",
          "model_module_version": "1.5.0",
          "state": {
            "_dom_classes": [],
            "_model_module": "@jupyter-widgets/controls",
            "_model_module_version": "1.5.0",
            "_model_name": "FloatProgressModel",
            "_view_count": null,
            "_view_module": "@jupyter-widgets/controls",
            "_view_module_version": "1.5.0",
            "_view_name": "ProgressView",
            "bar_style": "success",
            "description": "",
            "description_tooltip": null,
            "layout": "IPY_MODEL_022ae90a839c4e18b023782b3179b3f8",
            "max": 1,
            "min": 0,
            "orientation": "horizontal",
            "style": "IPY_MODEL_45b439530e2948429567f8a135ae680b",
            "value": 1
          }
        },
        "670ff5a2f135416dba5e51b9c0bef3d6": {
          "model_module": "@jupyter-widgets/controls",
          "model_name": "HTMLModel",
          "model_module_version": "1.5.0",
          "state": {
            "_dom_classes": [],
            "_model_module": "@jupyter-widgets/controls",
            "_model_module_version": "1.5.0",
            "_model_name": "HTMLModel",
            "_view_count": null,
            "_view_module": "@jupyter-widgets/controls",
            "_view_module_version": "1.5.0",
            "_view_name": "HTMLView",
            "description": "",
            "description_tooltip": null,
            "layout": "IPY_MODEL_fba3002573b34563b3ed7133491a7d23",
            "placeholder": "​",
            "style": "IPY_MODEL_b78bfe2d80284c309327202bd022547a",
            "value": " 35.3k/? [00:00&lt;00:00, 2.01MB/s]"
          }
        },
        "eab4bd2773ce4d0f8d7f7ac8da0e600b": {
          "model_module": "@jupyter-widgets/base",
          "model_name": "LayoutModel",
          "model_module_version": "1.2.0",
          "state": {
            "_model_module": "@jupyter-widgets/base",
            "_model_module_version": "1.2.0",
            "_model_name": "LayoutModel",
            "_view_count": null,
            "_view_module": "@jupyter-widgets/base",
            "_view_module_version": "1.2.0",
            "_view_name": "LayoutView",
            "align_content": null,
            "align_items": null,
            "align_self": null,
            "border": null,
            "bottom": null,
            "display": null,
            "flex": null,
            "flex_flow": null,
            "grid_area": null,
            "grid_auto_columns": null,
            "grid_auto_flow": null,
            "grid_auto_rows": null,
            "grid_column": null,
            "grid_gap": null,
            "grid_row": null,
            "grid_template_areas": null,
            "grid_template_columns": null,
            "grid_template_rows": null,
            "height": null,
            "justify_content": null,
            "justify_items": null,
            "left": null,
            "margin": null,
            "max_height": null,
            "max_width": null,
            "min_height": null,
            "min_width": null,
            "object_fit": null,
            "object_position": null,
            "order": null,
            "overflow": null,
            "overflow_x": null,
            "overflow_y": null,
            "padding": null,
            "right": null,
            "top": null,
            "visibility": null,
            "width": null
          }
        },
        "f6e818438bba40c383c3234f5bc2b652": {
          "model_module": "@jupyter-widgets/base",
          "model_name": "LayoutModel",
          "model_module_version": "1.2.0",
          "state": {
            "_model_module": "@jupyter-widgets/base",
            "_model_module_version": "1.2.0",
            "_model_name": "LayoutModel",
            "_view_count": null,
            "_view_module": "@jupyter-widgets/base",
            "_view_module_version": "1.2.0",
            "_view_name": "LayoutView",
            "align_content": null,
            "align_items": null,
            "align_self": null,
            "border": null,
            "bottom": null,
            "display": null,
            "flex": null,
            "flex_flow": null,
            "grid_area": null,
            "grid_auto_columns": null,
            "grid_auto_flow": null,
            "grid_auto_rows": null,
            "grid_column": null,
            "grid_gap": null,
            "grid_row": null,
            "grid_template_areas": null,
            "grid_template_columns": null,
            "grid_template_rows": null,
            "height": null,
            "justify_content": null,
            "justify_items": null,
            "left": null,
            "margin": null,
            "max_height": null,
            "max_width": null,
            "min_height": null,
            "min_width": null,
            "object_fit": null,
            "object_position": null,
            "order": null,
            "overflow": null,
            "overflow_x": null,
            "overflow_y": null,
            "padding": null,
            "right": null,
            "top": null,
            "visibility": null,
            "width": null
          }
        },
        "2dac7a094e4c4a5fb61be9f030204ed5": {
          "model_module": "@jupyter-widgets/controls",
          "model_name": "DescriptionStyleModel",
          "model_module_version": "1.5.0",
          "state": {
            "_model_module": "@jupyter-widgets/controls",
            "_model_module_version": "1.5.0",
            "_model_name": "DescriptionStyleModel",
            "_view_count": null,
            "_view_module": "@jupyter-widgets/base",
            "_view_module_version": "1.2.0",
            "_view_name": "StyleView",
            "description_width": ""
          }
        },
        "022ae90a839c4e18b023782b3179b3f8": {
          "model_module": "@jupyter-widgets/base",
          "model_name": "LayoutModel",
          "model_module_version": "1.2.0",
          "state": {
            "_model_module": "@jupyter-widgets/base",
            "_model_module_version": "1.2.0",
            "_model_name": "LayoutModel",
            "_view_count": null,
            "_view_module": "@jupyter-widgets/base",
            "_view_module_version": "1.2.0",
            "_view_name": "LayoutView",
            "align_content": null,
            "align_items": null,
            "align_self": null,
            "border": null,
            "bottom": null,
            "display": null,
            "flex": null,
            "flex_flow": null,
            "grid_area": null,
            "grid_auto_columns": null,
            "grid_auto_flow": null,
            "grid_auto_rows": null,
            "grid_column": null,
            "grid_gap": null,
            "grid_row": null,
            "grid_template_areas": null,
            "grid_template_columns": null,
            "grid_template_rows": null,
            "height": null,
            "justify_content": null,
            "justify_items": null,
            "left": null,
            "margin": null,
            "max_height": null,
            "max_width": null,
            "min_height": null,
            "min_width": null,
            "object_fit": null,
            "object_position": null,
            "order": null,
            "overflow": null,
            "overflow_x": null,
            "overflow_y": null,
            "padding": null,
            "right": null,
            "top": null,
            "visibility": null,
            "width": "20px"
          }
        },
        "45b439530e2948429567f8a135ae680b": {
          "model_module": "@jupyter-widgets/controls",
          "model_name": "ProgressStyleModel",
          "model_module_version": "1.5.0",
          "state": {
            "_model_module": "@jupyter-widgets/controls",
            "_model_module_version": "1.5.0",
            "_model_name": "ProgressStyleModel",
            "_view_count": null,
            "_view_module": "@jupyter-widgets/base",
            "_view_module_version": "1.2.0",
            "_view_name": "StyleView",
            "bar_color": null,
            "description_width": ""
          }
        },
        "fba3002573b34563b3ed7133491a7d23": {
          "model_module": "@jupyter-widgets/base",
          "model_name": "LayoutModel",
          "model_module_version": "1.2.0",
          "state": {
            "_model_module": "@jupyter-widgets/base",
            "_model_module_version": "1.2.0",
            "_model_name": "LayoutModel",
            "_view_count": null,
            "_view_module": "@jupyter-widgets/base",
            "_view_module_version": "1.2.0",
            "_view_name": "LayoutView",
            "align_content": null,
            "align_items": null,
            "align_self": null,
            "border": null,
            "bottom": null,
            "display": null,
            "flex": null,
            "flex_flow": null,
            "grid_area": null,
            "grid_auto_columns": null,
            "grid_auto_flow": null,
            "grid_auto_rows": null,
            "grid_column": null,
            "grid_gap": null,
            "grid_row": null,
            "grid_template_areas": null,
            "grid_template_columns": null,
            "grid_template_rows": null,
            "height": null,
            "justify_content": null,
            "justify_items": null,
            "left": null,
            "margin": null,
            "max_height": null,
            "max_width": null,
            "min_height": null,
            "min_width": null,
            "object_fit": null,
            "object_position": null,
            "order": null,
            "overflow": null,
            "overflow_x": null,
            "overflow_y": null,
            "padding": null,
            "right": null,
            "top": null,
            "visibility": null,
            "width": null
          }
        },
        "b78bfe2d80284c309327202bd022547a": {
          "model_module": "@jupyter-widgets/controls",
          "model_name": "DescriptionStyleModel",
          "model_module_version": "1.5.0",
          "state": {
            "_model_module": "@jupyter-widgets/controls",
            "_model_module_version": "1.5.0",
            "_model_name": "DescriptionStyleModel",
            "_view_count": null,
            "_view_module": "@jupyter-widgets/base",
            "_view_module_version": "1.2.0",
            "_view_name": "StyleView",
            "description_width": ""
          }
        },
        "e7d71baafcae424082733a0c5d5a978a": {
          "model_module": "@jupyter-widgets/controls",
          "model_name": "HBoxModel",
          "model_module_version": "1.5.0",
          "state": {
            "_dom_classes": [],
            "_model_module": "@jupyter-widgets/controls",
            "_model_module_version": "1.5.0",
            "_model_name": "HBoxModel",
            "_view_count": null,
            "_view_module": "@jupyter-widgets/controls",
            "_view_module_version": "1.5.0",
            "_view_name": "HBoxView",
            "box_style": "",
            "children": [
              "IPY_MODEL_aa8736c586dc4ca09daaff080f87fc9f",
              "IPY_MODEL_ffdf1be703b44ff5a663702101cd788f",
              "IPY_MODEL_5d5fd68f977f47a9b21dac8524615b9f"
            ],
            "layout": "IPY_MODEL_570ba289d3fa4d05a408b5f8c148ff72"
          }
        },
        "aa8736c586dc4ca09daaff080f87fc9f": {
          "model_module": "@jupyter-widgets/controls",
          "model_name": "HTMLModel",
          "model_module_version": "1.5.0",
          "state": {
            "_dom_classes": [],
            "_model_module": "@jupyter-widgets/controls",
            "_model_module_version": "1.5.0",
            "_model_name": "HTMLModel",
            "_view_count": null,
            "_view_module": "@jupyter-widgets/controls",
            "_view_module_version": "1.5.0",
            "_view_name": "HTMLView",
            "description": "",
            "description_tooltip": null,
            "layout": "IPY_MODEL_b3406ee4f71c4b82bc9da28dd53f8758",
            "placeholder": "​",
            "style": "IPY_MODEL_d100ba70ccc44bb98ee3179b138a0f00",
            "value": "train-00000-of-00001.parquet: 100%"
          }
        },
        "ffdf1be703b44ff5a663702101cd788f": {
          "model_module": "@jupyter-widgets/controls",
          "model_name": "FloatProgressModel",
          "model_module_version": "1.5.0",
          "state": {
            "_dom_classes": [],
            "_model_module": "@jupyter-widgets/controls",
            "_model_module_version": "1.5.0",
            "_model_name": "FloatProgressModel",
            "_view_count": null,
            "_view_module": "@jupyter-widgets/controls",
            "_view_module_version": "1.5.0",
            "_view_name": "ProgressView",
            "bar_style": "success",
            "description": "",
            "description_tooltip": null,
            "layout": "IPY_MODEL_b7e35d8bc23147c69ff2abeacaf7fdc8",
            "max": 649281,
            "min": 0,
            "orientation": "horizontal",
            "style": "IPY_MODEL_eb2f0c47280f4643a93b9093b01831d5",
            "value": 649281
          }
        },
        "5d5fd68f977f47a9b21dac8524615b9f": {
          "model_module": "@jupyter-widgets/controls",
          "model_name": "HTMLModel",
          "model_module_version": "1.5.0",
          "state": {
            "_dom_classes": [],
            "_model_module": "@jupyter-widgets/controls",
            "_model_module_version": "1.5.0",
            "_model_name": "HTMLModel",
            "_view_count": null,
            "_view_module": "@jupyter-widgets/controls",
            "_view_module_version": "1.5.0",
            "_view_name": "HTMLView",
            "description": "",
            "description_tooltip": null,
            "layout": "IPY_MODEL_f448cf2b7a1045ce934c52fdf541c32b",
            "placeholder": "​",
            "style": "IPY_MODEL_acbfd7ba339e41c3b1ce1bea176642df",
            "value": " 649k/649k [00:00&lt;00:00, 8.26MB/s]"
          }
        },
        "570ba289d3fa4d05a408b5f8c148ff72": {
          "model_module": "@jupyter-widgets/base",
          "model_name": "LayoutModel",
          "model_module_version": "1.2.0",
          "state": {
            "_model_module": "@jupyter-widgets/base",
            "_model_module_version": "1.2.0",
            "_model_name": "LayoutModel",
            "_view_count": null,
            "_view_module": "@jupyter-widgets/base",
            "_view_module_version": "1.2.0",
            "_view_name": "LayoutView",
            "align_content": null,
            "align_items": null,
            "align_self": null,
            "border": null,
            "bottom": null,
            "display": null,
            "flex": null,
            "flex_flow": null,
            "grid_area": null,
            "grid_auto_columns": null,
            "grid_auto_flow": null,
            "grid_auto_rows": null,
            "grid_column": null,
            "grid_gap": null,
            "grid_row": null,
            "grid_template_areas": null,
            "grid_template_columns": null,
            "grid_template_rows": null,
            "height": null,
            "justify_content": null,
            "justify_items": null,
            "left": null,
            "margin": null,
            "max_height": null,
            "max_width": null,
            "min_height": null,
            "min_width": null,
            "object_fit": null,
            "object_position": null,
            "order": null,
            "overflow": null,
            "overflow_x": null,
            "overflow_y": null,
            "padding": null,
            "right": null,
            "top": null,
            "visibility": null,
            "width": null
          }
        },
        "b3406ee4f71c4b82bc9da28dd53f8758": {
          "model_module": "@jupyter-widgets/base",
          "model_name": "LayoutModel",
          "model_module_version": "1.2.0",
          "state": {
            "_model_module": "@jupyter-widgets/base",
            "_model_module_version": "1.2.0",
            "_model_name": "LayoutModel",
            "_view_count": null,
            "_view_module": "@jupyter-widgets/base",
            "_view_module_version": "1.2.0",
            "_view_name": "LayoutView",
            "align_content": null,
            "align_items": null,
            "align_self": null,
            "border": null,
            "bottom": null,
            "display": null,
            "flex": null,
            "flex_flow": null,
            "grid_area": null,
            "grid_auto_columns": null,
            "grid_auto_flow": null,
            "grid_auto_rows": null,
            "grid_column": null,
            "grid_gap": null,
            "grid_row": null,
            "grid_template_areas": null,
            "grid_template_columns": null,
            "grid_template_rows": null,
            "height": null,
            "justify_content": null,
            "justify_items": null,
            "left": null,
            "margin": null,
            "max_height": null,
            "max_width": null,
            "min_height": null,
            "min_width": null,
            "object_fit": null,
            "object_position": null,
            "order": null,
            "overflow": null,
            "overflow_x": null,
            "overflow_y": null,
            "padding": null,
            "right": null,
            "top": null,
            "visibility": null,
            "width": null
          }
        },
        "d100ba70ccc44bb98ee3179b138a0f00": {
          "model_module": "@jupyter-widgets/controls",
          "model_name": "DescriptionStyleModel",
          "model_module_version": "1.5.0",
          "state": {
            "_model_module": "@jupyter-widgets/controls",
            "_model_module_version": "1.5.0",
            "_model_name": "DescriptionStyleModel",
            "_view_count": null,
            "_view_module": "@jupyter-widgets/base",
            "_view_module_version": "1.2.0",
            "_view_name": "StyleView",
            "description_width": ""
          }
        },
        "b7e35d8bc23147c69ff2abeacaf7fdc8": {
          "model_module": "@jupyter-widgets/base",
          "model_name": "LayoutModel",
          "model_module_version": "1.2.0",
          "state": {
            "_model_module": "@jupyter-widgets/base",
            "_model_module_version": "1.2.0",
            "_model_name": "LayoutModel",
            "_view_count": null,
            "_view_module": "@jupyter-widgets/base",
            "_view_module_version": "1.2.0",
            "_view_name": "LayoutView",
            "align_content": null,
            "align_items": null,
            "align_self": null,
            "border": null,
            "bottom": null,
            "display": null,
            "flex": null,
            "flex_flow": null,
            "grid_area": null,
            "grid_auto_columns": null,
            "grid_auto_flow": null,
            "grid_auto_rows": null,
            "grid_column": null,
            "grid_gap": null,
            "grid_row": null,
            "grid_template_areas": null,
            "grid_template_columns": null,
            "grid_template_rows": null,
            "height": null,
            "justify_content": null,
            "justify_items": null,
            "left": null,
            "margin": null,
            "max_height": null,
            "max_width": null,
            "min_height": null,
            "min_width": null,
            "object_fit": null,
            "object_position": null,
            "order": null,
            "overflow": null,
            "overflow_x": null,
            "overflow_y": null,
            "padding": null,
            "right": null,
            "top": null,
            "visibility": null,
            "width": null
          }
        },
        "eb2f0c47280f4643a93b9093b01831d5": {
          "model_module": "@jupyter-widgets/controls",
          "model_name": "ProgressStyleModel",
          "model_module_version": "1.5.0",
          "state": {
            "_model_module": "@jupyter-widgets/controls",
            "_model_module_version": "1.5.0",
            "_model_name": "ProgressStyleModel",
            "_view_count": null,
            "_view_module": "@jupyter-widgets/base",
            "_view_module_version": "1.2.0",
            "_view_name": "StyleView",
            "bar_color": null,
            "description_width": ""
          }
        },
        "f448cf2b7a1045ce934c52fdf541c32b": {
          "model_module": "@jupyter-widgets/base",
          "model_name": "LayoutModel",
          "model_module_version": "1.2.0",
          "state": {
            "_model_module": "@jupyter-widgets/base",
            "_model_module_version": "1.2.0",
            "_model_name": "LayoutModel",
            "_view_count": null,
            "_view_module": "@jupyter-widgets/base",
            "_view_module_version": "1.2.0",
            "_view_name": "LayoutView",
            "align_content": null,
            "align_items": null,
            "align_self": null,
            "border": null,
            "bottom": null,
            "display": null,
            "flex": null,
            "flex_flow": null,
            "grid_area": null,
            "grid_auto_columns": null,
            "grid_auto_flow": null,
            "grid_auto_rows": null,
            "grid_column": null,
            "grid_gap": null,
            "grid_row": null,
            "grid_template_areas": null,
            "grid_template_columns": null,
            "grid_template_rows": null,
            "height": null,
            "justify_content": null,
            "justify_items": null,
            "left": null,
            "margin": null,
            "max_height": null,
            "max_width": null,
            "min_height": null,
            "min_width": null,
            "object_fit": null,
            "object_position": null,
            "order": null,
            "overflow": null,
            "overflow_x": null,
            "overflow_y": null,
            "padding": null,
            "right": null,
            "top": null,
            "visibility": null,
            "width": null
          }
        },
        "acbfd7ba339e41c3b1ce1bea176642df": {
          "model_module": "@jupyter-widgets/controls",
          "model_name": "DescriptionStyleModel",
          "model_module_version": "1.5.0",
          "state": {
            "_model_module": "@jupyter-widgets/controls",
            "_model_module_version": "1.5.0",
            "_model_name": "DescriptionStyleModel",
            "_view_count": null,
            "_view_module": "@jupyter-widgets/base",
            "_view_module_version": "1.2.0",
            "_view_name": "StyleView",
            "description_width": ""
          }
        },
        "3e37b628eca7458d95c3cb574f7d4de8": {
          "model_module": "@jupyter-widgets/controls",
          "model_name": "HBoxModel",
          "model_module_version": "1.5.0",
          "state": {
            "_dom_classes": [],
            "_model_module": "@jupyter-widgets/controls",
            "_model_module_version": "1.5.0",
            "_model_name": "HBoxModel",
            "_view_count": null,
            "_view_module": "@jupyter-widgets/controls",
            "_view_module_version": "1.5.0",
            "_view_name": "HBoxView",
            "box_style": "",
            "children": [
              "IPY_MODEL_f7ea6bc971bd40ba808ac977333fd861",
              "IPY_MODEL_f59a5366e1344f2eb425fa46a0721745",
              "IPY_MODEL_67ee8e9ed5394aaaa96b035d017879dc"
            ],
            "layout": "IPY_MODEL_9fd3f366f4724f29892e4ef49679b4b1"
          }
        },
        "f7ea6bc971bd40ba808ac977333fd861": {
          "model_module": "@jupyter-widgets/controls",
          "model_name": "HTMLModel",
          "model_module_version": "1.5.0",
          "state": {
            "_dom_classes": [],
            "_model_module": "@jupyter-widgets/controls",
            "_model_module_version": "1.5.0",
            "_model_name": "HTMLModel",
            "_view_count": null,
            "_view_module": "@jupyter-widgets/controls",
            "_view_module_version": "1.5.0",
            "_view_name": "HTMLView",
            "description": "",
            "description_tooltip": null,
            "layout": "IPY_MODEL_afa26739f46d4bb1b1261c904f21548b",
            "placeholder": "​",
            "style": "IPY_MODEL_a14136f735724bb29b0535b772a59c06",
            "value": "validation-00000-of-00001.parquet: 100%"
          }
        },
        "f59a5366e1344f2eb425fa46a0721745": {
          "model_module": "@jupyter-widgets/controls",
          "model_name": "FloatProgressModel",
          "model_module_version": "1.5.0",
          "state": {
            "_dom_classes": [],
            "_model_module": "@jupyter-widgets/controls",
            "_model_module_version": "1.5.0",
            "_model_name": "FloatProgressModel",
            "_view_count": null,
            "_view_module": "@jupyter-widgets/controls",
            "_view_module_version": "1.5.0",
            "_view_name": "ProgressView",
            "bar_style": "success",
            "description": "",
            "description_tooltip": null,
            "layout": "IPY_MODEL_a72bb25f03354cb786466a3d2061d503",
            "max": 75678,
            "min": 0,
            "orientation": "horizontal",
            "style": "IPY_MODEL_cfef7360331645c09d6391ad00e44ada",
            "value": 75678
          }
        },
        "67ee8e9ed5394aaaa96b035d017879dc": {
          "model_module": "@jupyter-widgets/controls",
          "model_name": "HTMLModel",
          "model_module_version": "1.5.0",
          "state": {
            "_dom_classes": [],
            "_model_module": "@jupyter-widgets/controls",
            "_model_module_version": "1.5.0",
            "_model_name": "HTMLModel",
            "_view_count": null,
            "_view_module": "@jupyter-widgets/controls",
            "_view_module_version": "1.5.0",
            "_view_name": "HTMLView",
            "description": "",
            "description_tooltip": null,
            "layout": "IPY_MODEL_7458992abf004fbda62d4026d834d252",
            "placeholder": "​",
            "style": "IPY_MODEL_d7b4ca0e95d744bf80e59511929fc483",
            "value": " 75.7k/75.7k [00:00&lt;00:00, 7.66MB/s]"
          }
        },
        "9fd3f366f4724f29892e4ef49679b4b1": {
          "model_module": "@jupyter-widgets/base",
          "model_name": "LayoutModel",
          "model_module_version": "1.2.0",
          "state": {
            "_model_module": "@jupyter-widgets/base",
            "_model_module_version": "1.2.0",
            "_model_name": "LayoutModel",
            "_view_count": null,
            "_view_module": "@jupyter-widgets/base",
            "_view_module_version": "1.2.0",
            "_view_name": "LayoutView",
            "align_content": null,
            "align_items": null,
            "align_self": null,
            "border": null,
            "bottom": null,
            "display": null,
            "flex": null,
            "flex_flow": null,
            "grid_area": null,
            "grid_auto_columns": null,
            "grid_auto_flow": null,
            "grid_auto_rows": null,
            "grid_column": null,
            "grid_gap": null,
            "grid_row": null,
            "grid_template_areas": null,
            "grid_template_columns": null,
            "grid_template_rows": null,
            "height": null,
            "justify_content": null,
            "justify_items": null,
            "left": null,
            "margin": null,
            "max_height": null,
            "max_width": null,
            "min_height": null,
            "min_width": null,
            "object_fit": null,
            "object_position": null,
            "order": null,
            "overflow": null,
            "overflow_x": null,
            "overflow_y": null,
            "padding": null,
            "right": null,
            "top": null,
            "visibility": null,
            "width": null
          }
        },
        "afa26739f46d4bb1b1261c904f21548b": {
          "model_module": "@jupyter-widgets/base",
          "model_name": "LayoutModel",
          "model_module_version": "1.2.0",
          "state": {
            "_model_module": "@jupyter-widgets/base",
            "_model_module_version": "1.2.0",
            "_model_name": "LayoutModel",
            "_view_count": null,
            "_view_module": "@jupyter-widgets/base",
            "_view_module_version": "1.2.0",
            "_view_name": "LayoutView",
            "align_content": null,
            "align_items": null,
            "align_self": null,
            "border": null,
            "bottom": null,
            "display": null,
            "flex": null,
            "flex_flow": null,
            "grid_area": null,
            "grid_auto_columns": null,
            "grid_auto_flow": null,
            "grid_auto_rows": null,
            "grid_column": null,
            "grid_gap": null,
            "grid_row": null,
            "grid_template_areas": null,
            "grid_template_columns": null,
            "grid_template_rows": null,
            "height": null,
            "justify_content": null,
            "justify_items": null,
            "left": null,
            "margin": null,
            "max_height": null,
            "max_width": null,
            "min_height": null,
            "min_width": null,
            "object_fit": null,
            "object_position": null,
            "order": null,
            "overflow": null,
            "overflow_x": null,
            "overflow_y": null,
            "padding": null,
            "right": null,
            "top": null,
            "visibility": null,
            "width": null
          }
        },
        "a14136f735724bb29b0535b772a59c06": {
          "model_module": "@jupyter-widgets/controls",
          "model_name": "DescriptionStyleModel",
          "model_module_version": "1.5.0",
          "state": {
            "_model_module": "@jupyter-widgets/controls",
            "_model_module_version": "1.5.0",
            "_model_name": "DescriptionStyleModel",
            "_view_count": null,
            "_view_module": "@jupyter-widgets/base",
            "_view_module_version": "1.2.0",
            "_view_name": "StyleView",
            "description_width": ""
          }
        },
        "a72bb25f03354cb786466a3d2061d503": {
          "model_module": "@jupyter-widgets/base",
          "model_name": "LayoutModel",
          "model_module_version": "1.2.0",
          "state": {
            "_model_module": "@jupyter-widgets/base",
            "_model_module_version": "1.2.0",
            "_model_name": "LayoutModel",
            "_view_count": null,
            "_view_module": "@jupyter-widgets/base",
            "_view_module_version": "1.2.0",
            "_view_name": "LayoutView",
            "align_content": null,
            "align_items": null,
            "align_self": null,
            "border": null,
            "bottom": null,
            "display": null,
            "flex": null,
            "flex_flow": null,
            "grid_area": null,
            "grid_auto_columns": null,
            "grid_auto_flow": null,
            "grid_auto_rows": null,
            "grid_column": null,
            "grid_gap": null,
            "grid_row": null,
            "grid_template_areas": null,
            "grid_template_columns": null,
            "grid_template_rows": null,
            "height": null,
            "justify_content": null,
            "justify_items": null,
            "left": null,
            "margin": null,
            "max_height": null,
            "max_width": null,
            "min_height": null,
            "min_width": null,
            "object_fit": null,
            "object_position": null,
            "order": null,
            "overflow": null,
            "overflow_x": null,
            "overflow_y": null,
            "padding": null,
            "right": null,
            "top": null,
            "visibility": null,
            "width": null
          }
        },
        "cfef7360331645c09d6391ad00e44ada": {
          "model_module": "@jupyter-widgets/controls",
          "model_name": "ProgressStyleModel",
          "model_module_version": "1.5.0",
          "state": {
            "_model_module": "@jupyter-widgets/controls",
            "_model_module_version": "1.5.0",
            "_model_name": "ProgressStyleModel",
            "_view_count": null,
            "_view_module": "@jupyter-widgets/base",
            "_view_module_version": "1.2.0",
            "_view_name": "StyleView",
            "bar_color": null,
            "description_width": ""
          }
        },
        "7458992abf004fbda62d4026d834d252": {
          "model_module": "@jupyter-widgets/base",
          "model_name": "LayoutModel",
          "model_module_version": "1.2.0",
          "state": {
            "_model_module": "@jupyter-widgets/base",
            "_model_module_version": "1.2.0",
            "_model_name": "LayoutModel",
            "_view_count": null,
            "_view_module": "@jupyter-widgets/base",
            "_view_module_version": "1.2.0",
            "_view_name": "LayoutView",
            "align_content": null,
            "align_items": null,
            "align_self": null,
            "border": null,
            "bottom": null,
            "display": null,
            "flex": null,
            "flex_flow": null,
            "grid_area": null,
            "grid_auto_columns": null,
            "grid_auto_flow": null,
            "grid_auto_rows": null,
            "grid_column": null,
            "grid_gap": null,
            "grid_row": null,
            "grid_template_areas": null,
            "grid_template_columns": null,
            "grid_template_rows": null,
            "height": null,
            "justify_content": null,
            "justify_items": null,
            "left": null,
            "margin": null,
            "max_height": null,
            "max_width": null,
            "min_height": null,
            "min_width": null,
            "object_fit": null,
            "object_position": null,
            "order": null,
            "overflow": null,
            "overflow_x": null,
            "overflow_y": null,
            "padding": null,
            "right": null,
            "top": null,
            "visibility": null,
            "width": null
          }
        },
        "d7b4ca0e95d744bf80e59511929fc483": {
          "model_module": "@jupyter-widgets/controls",
          "model_name": "DescriptionStyleModel",
          "model_module_version": "1.5.0",
          "state": {
            "_model_module": "@jupyter-widgets/controls",
            "_model_module_version": "1.5.0",
            "_model_name": "DescriptionStyleModel",
            "_view_count": null,
            "_view_module": "@jupyter-widgets/base",
            "_view_module_version": "1.2.0",
            "_view_name": "StyleView",
            "description_width": ""
          }
        },
        "e4edcce7130447b9ad1019accafd4b5f": {
          "model_module": "@jupyter-widgets/controls",
          "model_name": "HBoxModel",
          "model_module_version": "1.5.0",
          "state": {
            "_dom_classes": [],
            "_model_module": "@jupyter-widgets/controls",
            "_model_module_version": "1.5.0",
            "_model_name": "HBoxModel",
            "_view_count": null,
            "_view_module": "@jupyter-widgets/controls",
            "_view_module_version": "1.5.0",
            "_view_name": "HBoxView",
            "box_style": "",
            "children": [
              "IPY_MODEL_7f499652284b49929ad2a1b4fb45ca6c",
              "IPY_MODEL_7d02a241b1174f0ebf169607c3a6c117",
              "IPY_MODEL_d0bf659a9a3e443989a19311fe3d4096"
            ],
            "layout": "IPY_MODEL_5ce2d6349ade41b0989a9d8bad850d80"
          }
        },
        "7f499652284b49929ad2a1b4fb45ca6c": {
          "model_module": "@jupyter-widgets/controls",
          "model_name": "HTMLModel",
          "model_module_version": "1.5.0",
          "state": {
            "_dom_classes": [],
            "_model_module": "@jupyter-widgets/controls",
            "_model_module_version": "1.5.0",
            "_model_name": "HTMLModel",
            "_view_count": null,
            "_view_module": "@jupyter-widgets/controls",
            "_view_module_version": "1.5.0",
            "_view_name": "HTMLView",
            "description": "",
            "description_tooltip": null,
            "layout": "IPY_MODEL_43fcd0bf3fa249a0990765654fb2eb59",
            "placeholder": "​",
            "style": "IPY_MODEL_92e48228a8244497b02fccd6cafd7ee8",
            "value": "test-00000-of-00001.parquet: 100%"
          }
        },
        "7d02a241b1174f0ebf169607c3a6c117": {
          "model_module": "@jupyter-widgets/controls",
          "model_name": "FloatProgressModel",
          "model_module_version": "1.5.0",
          "state": {
            "_dom_classes": [],
            "_model_module": "@jupyter-widgets/controls",
            "_model_module_version": "1.5.0",
            "_model_name": "FloatProgressModel",
            "_view_count": null,
            "_view_module": "@jupyter-widgets/controls",
            "_view_module_version": "1.5.0",
            "_view_name": "ProgressView",
            "bar_style": "success",
            "description": "",
            "description_tooltip": null,
            "layout": "IPY_MODEL_a6b824ce95234ddea90edd2a682425fa",
            "max": 308441,
            "min": 0,
            "orientation": "horizontal",
            "style": "IPY_MODEL_1b38d203e98d4a2cadb28baa369d2c97",
            "value": 308441
          }
        },
        "d0bf659a9a3e443989a19311fe3d4096": {
          "model_module": "@jupyter-widgets/controls",
          "model_name": "HTMLModel",
          "model_module_version": "1.5.0",
          "state": {
            "_dom_classes": [],
            "_model_module": "@jupyter-widgets/controls",
            "_model_module_version": "1.5.0",
            "_model_name": "HTMLModel",
            "_view_count": null,
            "_view_module": "@jupyter-widgets/controls",
            "_view_module_version": "1.5.0",
            "_view_name": "HTMLView",
            "description": "",
            "description_tooltip": null,
            "layout": "IPY_MODEL_48a69220a9484f5fb1bb8b74161e6488",
            "placeholder": "​",
            "style": "IPY_MODEL_69d74e9f71724eb9964c61bc3567a5bb",
            "value": " 308k/308k [00:00&lt;00:00, 27.3MB/s]"
          }
        },
        "5ce2d6349ade41b0989a9d8bad850d80": {
          "model_module": "@jupyter-widgets/base",
          "model_name": "LayoutModel",
          "model_module_version": "1.2.0",
          "state": {
            "_model_module": "@jupyter-widgets/base",
            "_model_module_version": "1.2.0",
            "_model_name": "LayoutModel",
            "_view_count": null,
            "_view_module": "@jupyter-widgets/base",
            "_view_module_version": "1.2.0",
            "_view_name": "LayoutView",
            "align_content": null,
            "align_items": null,
            "align_self": null,
            "border": null,
            "bottom": null,
            "display": null,
            "flex": null,
            "flex_flow": null,
            "grid_area": null,
            "grid_auto_columns": null,
            "grid_auto_flow": null,
            "grid_auto_rows": null,
            "grid_column": null,
            "grid_gap": null,
            "grid_row": null,
            "grid_template_areas": null,
            "grid_template_columns": null,
            "grid_template_rows": null,
            "height": null,
            "justify_content": null,
            "justify_items": null,
            "left": null,
            "margin": null,
            "max_height": null,
            "max_width": null,
            "min_height": null,
            "min_width": null,
            "object_fit": null,
            "object_position": null,
            "order": null,
            "overflow": null,
            "overflow_x": null,
            "overflow_y": null,
            "padding": null,
            "right": null,
            "top": null,
            "visibility": null,
            "width": null
          }
        },
        "43fcd0bf3fa249a0990765654fb2eb59": {
          "model_module": "@jupyter-widgets/base",
          "model_name": "LayoutModel",
          "model_module_version": "1.2.0",
          "state": {
            "_model_module": "@jupyter-widgets/base",
            "_model_module_version": "1.2.0",
            "_model_name": "LayoutModel",
            "_view_count": null,
            "_view_module": "@jupyter-widgets/base",
            "_view_module_version": "1.2.0",
            "_view_name": "LayoutView",
            "align_content": null,
            "align_items": null,
            "align_self": null,
            "border": null,
            "bottom": null,
            "display": null,
            "flex": null,
            "flex_flow": null,
            "grid_area": null,
            "grid_auto_columns": null,
            "grid_auto_flow": null,
            "grid_auto_rows": null,
            "grid_column": null,
            "grid_gap": null,
            "grid_row": null,
            "grid_template_areas": null,
            "grid_template_columns": null,
            "grid_template_rows": null,
            "height": null,
            "justify_content": null,
            "justify_items": null,
            "left": null,
            "margin": null,
            "max_height": null,
            "max_width": null,
            "min_height": null,
            "min_width": null,
            "object_fit": null,
            "object_position": null,
            "order": null,
            "overflow": null,
            "overflow_x": null,
            "overflow_y": null,
            "padding": null,
            "right": null,
            "top": null,
            "visibility": null,
            "width": null
          }
        },
        "92e48228a8244497b02fccd6cafd7ee8": {
          "model_module": "@jupyter-widgets/controls",
          "model_name": "DescriptionStyleModel",
          "model_module_version": "1.5.0",
          "state": {
            "_model_module": "@jupyter-widgets/controls",
            "_model_module_version": "1.5.0",
            "_model_name": "DescriptionStyleModel",
            "_view_count": null,
            "_view_module": "@jupyter-widgets/base",
            "_view_module_version": "1.2.0",
            "_view_name": "StyleView",
            "description_width": ""
          }
        },
        "a6b824ce95234ddea90edd2a682425fa": {
          "model_module": "@jupyter-widgets/base",
          "model_name": "LayoutModel",
          "model_module_version": "1.2.0",
          "state": {
            "_model_module": "@jupyter-widgets/base",
            "_model_module_version": "1.2.0",
            "_model_name": "LayoutModel",
            "_view_count": null,
            "_view_module": "@jupyter-widgets/base",
            "_view_module_version": "1.2.0",
            "_view_name": "LayoutView",
            "align_content": null,
            "align_items": null,
            "align_self": null,
            "border": null,
            "bottom": null,
            "display": null,
            "flex": null,
            "flex_flow": null,
            "grid_area": null,
            "grid_auto_columns": null,
            "grid_auto_flow": null,
            "grid_auto_rows": null,
            "grid_column": null,
            "grid_gap": null,
            "grid_row": null,
            "grid_template_areas": null,
            "grid_template_columns": null,
            "grid_template_rows": null,
            "height": null,
            "justify_content": null,
            "justify_items": null,
            "left": null,
            "margin": null,
            "max_height": null,
            "max_width": null,
            "min_height": null,
            "min_width": null,
            "object_fit": null,
            "object_position": null,
            "order": null,
            "overflow": null,
            "overflow_x": null,
            "overflow_y": null,
            "padding": null,
            "right": null,
            "top": null,
            "visibility": null,
            "width": null
          }
        },
        "1b38d203e98d4a2cadb28baa369d2c97": {
          "model_module": "@jupyter-widgets/controls",
          "model_name": "ProgressStyleModel",
          "model_module_version": "1.5.0",
          "state": {
            "_model_module": "@jupyter-widgets/controls",
            "_model_module_version": "1.5.0",
            "_model_name": "ProgressStyleModel",
            "_view_count": null,
            "_view_module": "@jupyter-widgets/base",
            "_view_module_version": "1.2.0",
            "_view_name": "StyleView",
            "bar_color": null,
            "description_width": ""
          }
        },
        "48a69220a9484f5fb1bb8b74161e6488": {
          "model_module": "@jupyter-widgets/base",
          "model_name": "LayoutModel",
          "model_module_version": "1.2.0",
          "state": {
            "_model_module": "@jupyter-widgets/base",
            "_model_module_version": "1.2.0",
            "_model_name": "LayoutModel",
            "_view_count": null,
            "_view_module": "@jupyter-widgets/base",
            "_view_module_version": "1.2.0",
            "_view_name": "LayoutView",
            "align_content": null,
            "align_items": null,
            "align_self": null,
            "border": null,
            "bottom": null,
            "display": null,
            "flex": null,
            "flex_flow": null,
            "grid_area": null,
            "grid_auto_columns": null,
            "grid_auto_flow": null,
            "grid_auto_rows": null,
            "grid_column": null,
            "grid_gap": null,
            "grid_row": null,
            "grid_template_areas": null,
            "grid_template_columns": null,
            "grid_template_rows": null,
            "height": null,
            "justify_content": null,
            "justify_items": null,
            "left": null,
            "margin": null,
            "max_height": null,
            "max_width": null,
            "min_height": null,
            "min_width": null,
            "object_fit": null,
            "object_position": null,
            "order": null,
            "overflow": null,
            "overflow_x": null,
            "overflow_y": null,
            "padding": null,
            "right": null,
            "top": null,
            "visibility": null,
            "width": null
          }
        },
        "69d74e9f71724eb9964c61bc3567a5bb": {
          "model_module": "@jupyter-widgets/controls",
          "model_name": "DescriptionStyleModel",
          "model_module_version": "1.5.0",
          "state": {
            "_model_module": "@jupyter-widgets/controls",
            "_model_module_version": "1.5.0",
            "_model_name": "DescriptionStyleModel",
            "_view_count": null,
            "_view_module": "@jupyter-widgets/base",
            "_view_module_version": "1.2.0",
            "_view_name": "StyleView",
            "description_width": ""
          }
        },
        "05653b846a824a46af2193db20738398": {
          "model_module": "@jupyter-widgets/controls",
          "model_name": "HBoxModel",
          "model_module_version": "1.5.0",
          "state": {
            "_dom_classes": [],
            "_model_module": "@jupyter-widgets/controls",
            "_model_module_version": "1.5.0",
            "_model_name": "HBoxModel",
            "_view_count": null,
            "_view_module": "@jupyter-widgets/controls",
            "_view_module_version": "1.5.0",
            "_view_name": "HBoxView",
            "box_style": "",
            "children": [
              "IPY_MODEL_8d0548f9906b4b84920b3cb0b8a60a3c",
              "IPY_MODEL_cf633155c02c40839cd0a02cb78f75c9",
              "IPY_MODEL_7fd7d75522d4470eb7410261e8e5ddba"
            ],
            "layout": "IPY_MODEL_e7d8dba1186646549fb3da9027e28632"
          }
        },
        "8d0548f9906b4b84920b3cb0b8a60a3c": {
          "model_module": "@jupyter-widgets/controls",
          "model_name": "HTMLModel",
          "model_module_version": "1.5.0",
          "state": {
            "_dom_classes": [],
            "_model_module": "@jupyter-widgets/controls",
            "_model_module_version": "1.5.0",
            "_model_name": "HTMLModel",
            "_view_count": null,
            "_view_module": "@jupyter-widgets/controls",
            "_view_module_version": "1.5.0",
            "_view_name": "HTMLView",
            "description": "",
            "description_tooltip": null,
            "layout": "IPY_MODEL_a75facff06cf4699933c7a069747d856",
            "placeholder": "​",
            "style": "IPY_MODEL_caa961b23a454474a98398b899e34c8f",
            "value": "Generating train split: 100%"
          }
        },
        "cf633155c02c40839cd0a02cb78f75c9": {
          "model_module": "@jupyter-widgets/controls",
          "model_name": "FloatProgressModel",
          "model_module_version": "1.5.0",
          "state": {
            "_dom_classes": [],
            "_model_module": "@jupyter-widgets/controls",
            "_model_module_version": "1.5.0",
            "_model_name": "FloatProgressModel",
            "_view_count": null,
            "_view_module": "@jupyter-widgets/controls",
            "_view_module_version": "1.5.0",
            "_view_name": "ProgressView",
            "bar_style": "success",
            "description": "",
            "description_tooltip": null,
            "layout": "IPY_MODEL_28a7e6d747744deb807aac25b3f03557",
            "max": 3668,
            "min": 0,
            "orientation": "horizontal",
            "style": "IPY_MODEL_bb5d82f10cdb439e924dea52196e4298",
            "value": 3668
          }
        },
        "7fd7d75522d4470eb7410261e8e5ddba": {
          "model_module": "@jupyter-widgets/controls",
          "model_name": "HTMLModel",
          "model_module_version": "1.5.0",
          "state": {
            "_dom_classes": [],
            "_model_module": "@jupyter-widgets/controls",
            "_model_module_version": "1.5.0",
            "_model_name": "HTMLModel",
            "_view_count": null,
            "_view_module": "@jupyter-widgets/controls",
            "_view_module_version": "1.5.0",
            "_view_name": "HTMLView",
            "description": "",
            "description_tooltip": null,
            "layout": "IPY_MODEL_dd965f33cdab4827a0b6b93505c50f00",
            "placeholder": "​",
            "style": "IPY_MODEL_2d7b5ce6e00e40c9a8f4bc552e752386",
            "value": " 3668/3668 [00:00&lt;00:00, 50933.46 examples/s]"
          }
        },
        "e7d8dba1186646549fb3da9027e28632": {
          "model_module": "@jupyter-widgets/base",
          "model_name": "LayoutModel",
          "model_module_version": "1.2.0",
          "state": {
            "_model_module": "@jupyter-widgets/base",
            "_model_module_version": "1.2.0",
            "_model_name": "LayoutModel",
            "_view_count": null,
            "_view_module": "@jupyter-widgets/base",
            "_view_module_version": "1.2.0",
            "_view_name": "LayoutView",
            "align_content": null,
            "align_items": null,
            "align_self": null,
            "border": null,
            "bottom": null,
            "display": null,
            "flex": null,
            "flex_flow": null,
            "grid_area": null,
            "grid_auto_columns": null,
            "grid_auto_flow": null,
            "grid_auto_rows": null,
            "grid_column": null,
            "grid_gap": null,
            "grid_row": null,
            "grid_template_areas": null,
            "grid_template_columns": null,
            "grid_template_rows": null,
            "height": null,
            "justify_content": null,
            "justify_items": null,
            "left": null,
            "margin": null,
            "max_height": null,
            "max_width": null,
            "min_height": null,
            "min_width": null,
            "object_fit": null,
            "object_position": null,
            "order": null,
            "overflow": null,
            "overflow_x": null,
            "overflow_y": null,
            "padding": null,
            "right": null,
            "top": null,
            "visibility": null,
            "width": null
          }
        },
        "a75facff06cf4699933c7a069747d856": {
          "model_module": "@jupyter-widgets/base",
          "model_name": "LayoutModel",
          "model_module_version": "1.2.0",
          "state": {
            "_model_module": "@jupyter-widgets/base",
            "_model_module_version": "1.2.0",
            "_model_name": "LayoutModel",
            "_view_count": null,
            "_view_module": "@jupyter-widgets/base",
            "_view_module_version": "1.2.0",
            "_view_name": "LayoutView",
            "align_content": null,
            "align_items": null,
            "align_self": null,
            "border": null,
            "bottom": null,
            "display": null,
            "flex": null,
            "flex_flow": null,
            "grid_area": null,
            "grid_auto_columns": null,
            "grid_auto_flow": null,
            "grid_auto_rows": null,
            "grid_column": null,
            "grid_gap": null,
            "grid_row": null,
            "grid_template_areas": null,
            "grid_template_columns": null,
            "grid_template_rows": null,
            "height": null,
            "justify_content": null,
            "justify_items": null,
            "left": null,
            "margin": null,
            "max_height": null,
            "max_width": null,
            "min_height": null,
            "min_width": null,
            "object_fit": null,
            "object_position": null,
            "order": null,
            "overflow": null,
            "overflow_x": null,
            "overflow_y": null,
            "padding": null,
            "right": null,
            "top": null,
            "visibility": null,
            "width": null
          }
        },
        "caa961b23a454474a98398b899e34c8f": {
          "model_module": "@jupyter-widgets/controls",
          "model_name": "DescriptionStyleModel",
          "model_module_version": "1.5.0",
          "state": {
            "_model_module": "@jupyter-widgets/controls",
            "_model_module_version": "1.5.0",
            "_model_name": "DescriptionStyleModel",
            "_view_count": null,
            "_view_module": "@jupyter-widgets/base",
            "_view_module_version": "1.2.0",
            "_view_name": "StyleView",
            "description_width": ""
          }
        },
        "28a7e6d747744deb807aac25b3f03557": {
          "model_module": "@jupyter-widgets/base",
          "model_name": "LayoutModel",
          "model_module_version": "1.2.0",
          "state": {
            "_model_module": "@jupyter-widgets/base",
            "_model_module_version": "1.2.0",
            "_model_name": "LayoutModel",
            "_view_count": null,
            "_view_module": "@jupyter-widgets/base",
            "_view_module_version": "1.2.0",
            "_view_name": "LayoutView",
            "align_content": null,
            "align_items": null,
            "align_self": null,
            "border": null,
            "bottom": null,
            "display": null,
            "flex": null,
            "flex_flow": null,
            "grid_area": null,
            "grid_auto_columns": null,
            "grid_auto_flow": null,
            "grid_auto_rows": null,
            "grid_column": null,
            "grid_gap": null,
            "grid_row": null,
            "grid_template_areas": null,
            "grid_template_columns": null,
            "grid_template_rows": null,
            "height": null,
            "justify_content": null,
            "justify_items": null,
            "left": null,
            "margin": null,
            "max_height": null,
            "max_width": null,
            "min_height": null,
            "min_width": null,
            "object_fit": null,
            "object_position": null,
            "order": null,
            "overflow": null,
            "overflow_x": null,
            "overflow_y": null,
            "padding": null,
            "right": null,
            "top": null,
            "visibility": null,
            "width": null
          }
        },
        "bb5d82f10cdb439e924dea52196e4298": {
          "model_module": "@jupyter-widgets/controls",
          "model_name": "ProgressStyleModel",
          "model_module_version": "1.5.0",
          "state": {
            "_model_module": "@jupyter-widgets/controls",
            "_model_module_version": "1.5.0",
            "_model_name": "ProgressStyleModel",
            "_view_count": null,
            "_view_module": "@jupyter-widgets/base",
            "_view_module_version": "1.2.0",
            "_view_name": "StyleView",
            "bar_color": null,
            "description_width": ""
          }
        },
        "dd965f33cdab4827a0b6b93505c50f00": {
          "model_module": "@jupyter-widgets/base",
          "model_name": "LayoutModel",
          "model_module_version": "1.2.0",
          "state": {
            "_model_module": "@jupyter-widgets/base",
            "_model_module_version": "1.2.0",
            "_model_name": "LayoutModel",
            "_view_count": null,
            "_view_module": "@jupyter-widgets/base",
            "_view_module_version": "1.2.0",
            "_view_name": "LayoutView",
            "align_content": null,
            "align_items": null,
            "align_self": null,
            "border": null,
            "bottom": null,
            "display": null,
            "flex": null,
            "flex_flow": null,
            "grid_area": null,
            "grid_auto_columns": null,
            "grid_auto_flow": null,
            "grid_auto_rows": null,
            "grid_column": null,
            "grid_gap": null,
            "grid_row": null,
            "grid_template_areas": null,
            "grid_template_columns": null,
            "grid_template_rows": null,
            "height": null,
            "justify_content": null,
            "justify_items": null,
            "left": null,
            "margin": null,
            "max_height": null,
            "max_width": null,
            "min_height": null,
            "min_width": null,
            "object_fit": null,
            "object_position": null,
            "order": null,
            "overflow": null,
            "overflow_x": null,
            "overflow_y": null,
            "padding": null,
            "right": null,
            "top": null,
            "visibility": null,
            "width": null
          }
        },
        "2d7b5ce6e00e40c9a8f4bc552e752386": {
          "model_module": "@jupyter-widgets/controls",
          "model_name": "DescriptionStyleModel",
          "model_module_version": "1.5.0",
          "state": {
            "_model_module": "@jupyter-widgets/controls",
            "_model_module_version": "1.5.0",
            "_model_name": "DescriptionStyleModel",
            "_view_count": null,
            "_view_module": "@jupyter-widgets/base",
            "_view_module_version": "1.2.0",
            "_view_name": "StyleView",
            "description_width": ""
          }
        },
        "63e3df05b04c41c9ba7fb79314987684": {
          "model_module": "@jupyter-widgets/controls",
          "model_name": "HBoxModel",
          "model_module_version": "1.5.0",
          "state": {
            "_dom_classes": [],
            "_model_module": "@jupyter-widgets/controls",
            "_model_module_version": "1.5.0",
            "_model_name": "HBoxModel",
            "_view_count": null,
            "_view_module": "@jupyter-widgets/controls",
            "_view_module_version": "1.5.0",
            "_view_name": "HBoxView",
            "box_style": "",
            "children": [
              "IPY_MODEL_0ced0efe57374af4bdac1a9065425d12",
              "IPY_MODEL_c0079def805547208c10fddeb886eb45",
              "IPY_MODEL_157b48bee03a4f0e80ac558c920ae996"
            ],
            "layout": "IPY_MODEL_d30244d148b74b119b23cf92a3cacfc0"
          }
        },
        "0ced0efe57374af4bdac1a9065425d12": {
          "model_module": "@jupyter-widgets/controls",
          "model_name": "HTMLModel",
          "model_module_version": "1.5.0",
          "state": {
            "_dom_classes": [],
            "_model_module": "@jupyter-widgets/controls",
            "_model_module_version": "1.5.0",
            "_model_name": "HTMLModel",
            "_view_count": null,
            "_view_module": "@jupyter-widgets/controls",
            "_view_module_version": "1.5.0",
            "_view_name": "HTMLView",
            "description": "",
            "description_tooltip": null,
            "layout": "IPY_MODEL_b1661f5b54824024abbd3d657a84f5af",
            "placeholder": "​",
            "style": "IPY_MODEL_fa1830caaf83471785cb38f853592e8f",
            "value": "Generating validation split: 100%"
          }
        },
        "c0079def805547208c10fddeb886eb45": {
          "model_module": "@jupyter-widgets/controls",
          "model_name": "FloatProgressModel",
          "model_module_version": "1.5.0",
          "state": {
            "_dom_classes": [],
            "_model_module": "@jupyter-widgets/controls",
            "_model_module_version": "1.5.0",
            "_model_name": "FloatProgressModel",
            "_view_count": null,
            "_view_module": "@jupyter-widgets/controls",
            "_view_module_version": "1.5.0",
            "_view_name": "ProgressView",
            "bar_style": "success",
            "description": "",
            "description_tooltip": null,
            "layout": "IPY_MODEL_68783aa9197d44cf91e169feba5bf3f5",
            "max": 408,
            "min": 0,
            "orientation": "horizontal",
            "style": "IPY_MODEL_141f0680dd744db69d8c1041bac8d006",
            "value": 408
          }
        },
        "157b48bee03a4f0e80ac558c920ae996": {
          "model_module": "@jupyter-widgets/controls",
          "model_name": "HTMLModel",
          "model_module_version": "1.5.0",
          "state": {
            "_dom_classes": [],
            "_model_module": "@jupyter-widgets/controls",
            "_model_module_version": "1.5.0",
            "_model_name": "HTMLModel",
            "_view_count": null,
            "_view_module": "@jupyter-widgets/controls",
            "_view_module_version": "1.5.0",
            "_view_name": "HTMLView",
            "description": "",
            "description_tooltip": null,
            "layout": "IPY_MODEL_76ab6a7dcf3e44ce86a96f06cdd4f73b",
            "placeholder": "​",
            "style": "IPY_MODEL_2db57fa4039e4a68932a2bf422704207",
            "value": " 408/408 [00:00&lt;00:00, 24597.90 examples/s]"
          }
        },
        "d30244d148b74b119b23cf92a3cacfc0": {
          "model_module": "@jupyter-widgets/base",
          "model_name": "LayoutModel",
          "model_module_version": "1.2.0",
          "state": {
            "_model_module": "@jupyter-widgets/base",
            "_model_module_version": "1.2.0",
            "_model_name": "LayoutModel",
            "_view_count": null,
            "_view_module": "@jupyter-widgets/base",
            "_view_module_version": "1.2.0",
            "_view_name": "LayoutView",
            "align_content": null,
            "align_items": null,
            "align_self": null,
            "border": null,
            "bottom": null,
            "display": null,
            "flex": null,
            "flex_flow": null,
            "grid_area": null,
            "grid_auto_columns": null,
            "grid_auto_flow": null,
            "grid_auto_rows": null,
            "grid_column": null,
            "grid_gap": null,
            "grid_row": null,
            "grid_template_areas": null,
            "grid_template_columns": null,
            "grid_template_rows": null,
            "height": null,
            "justify_content": null,
            "justify_items": null,
            "left": null,
            "margin": null,
            "max_height": null,
            "max_width": null,
            "min_height": null,
            "min_width": null,
            "object_fit": null,
            "object_position": null,
            "order": null,
            "overflow": null,
            "overflow_x": null,
            "overflow_y": null,
            "padding": null,
            "right": null,
            "top": null,
            "visibility": null,
            "width": null
          }
        },
        "b1661f5b54824024abbd3d657a84f5af": {
          "model_module": "@jupyter-widgets/base",
          "model_name": "LayoutModel",
          "model_module_version": "1.2.0",
          "state": {
            "_model_module": "@jupyter-widgets/base",
            "_model_module_version": "1.2.0",
            "_model_name": "LayoutModel",
            "_view_count": null,
            "_view_module": "@jupyter-widgets/base",
            "_view_module_version": "1.2.0",
            "_view_name": "LayoutView",
            "align_content": null,
            "align_items": null,
            "align_self": null,
            "border": null,
            "bottom": null,
            "display": null,
            "flex": null,
            "flex_flow": null,
            "grid_area": null,
            "grid_auto_columns": null,
            "grid_auto_flow": null,
            "grid_auto_rows": null,
            "grid_column": null,
            "grid_gap": null,
            "grid_row": null,
            "grid_template_areas": null,
            "grid_template_columns": null,
            "grid_template_rows": null,
            "height": null,
            "justify_content": null,
            "justify_items": null,
            "left": null,
            "margin": null,
            "max_height": null,
            "max_width": null,
            "min_height": null,
            "min_width": null,
            "object_fit": null,
            "object_position": null,
            "order": null,
            "overflow": null,
            "overflow_x": null,
            "overflow_y": null,
            "padding": null,
            "right": null,
            "top": null,
            "visibility": null,
            "width": null
          }
        },
        "fa1830caaf83471785cb38f853592e8f": {
          "model_module": "@jupyter-widgets/controls",
          "model_name": "DescriptionStyleModel",
          "model_module_version": "1.5.0",
          "state": {
            "_model_module": "@jupyter-widgets/controls",
            "_model_module_version": "1.5.0",
            "_model_name": "DescriptionStyleModel",
            "_view_count": null,
            "_view_module": "@jupyter-widgets/base",
            "_view_module_version": "1.2.0",
            "_view_name": "StyleView",
            "description_width": ""
          }
        },
        "68783aa9197d44cf91e169feba5bf3f5": {
          "model_module": "@jupyter-widgets/base",
          "model_name": "LayoutModel",
          "model_module_version": "1.2.0",
          "state": {
            "_model_module": "@jupyter-widgets/base",
            "_model_module_version": "1.2.0",
            "_model_name": "LayoutModel",
            "_view_count": null,
            "_view_module": "@jupyter-widgets/base",
            "_view_module_version": "1.2.0",
            "_view_name": "LayoutView",
            "align_content": null,
            "align_items": null,
            "align_self": null,
            "border": null,
            "bottom": null,
            "display": null,
            "flex": null,
            "flex_flow": null,
            "grid_area": null,
            "grid_auto_columns": null,
            "grid_auto_flow": null,
            "grid_auto_rows": null,
            "grid_column": null,
            "grid_gap": null,
            "grid_row": null,
            "grid_template_areas": null,
            "grid_template_columns": null,
            "grid_template_rows": null,
            "height": null,
            "justify_content": null,
            "justify_items": null,
            "left": null,
            "margin": null,
            "max_height": null,
            "max_width": null,
            "min_height": null,
            "min_width": null,
            "object_fit": null,
            "object_position": null,
            "order": null,
            "overflow": null,
            "overflow_x": null,
            "overflow_y": null,
            "padding": null,
            "right": null,
            "top": null,
            "visibility": null,
            "width": null
          }
        },
        "141f0680dd744db69d8c1041bac8d006": {
          "model_module": "@jupyter-widgets/controls",
          "model_name": "ProgressStyleModel",
          "model_module_version": "1.5.0",
          "state": {
            "_model_module": "@jupyter-widgets/controls",
            "_model_module_version": "1.5.0",
            "_model_name": "ProgressStyleModel",
            "_view_count": null,
            "_view_module": "@jupyter-widgets/base",
            "_view_module_version": "1.2.0",
            "_view_name": "StyleView",
            "bar_color": null,
            "description_width": ""
          }
        },
        "76ab6a7dcf3e44ce86a96f06cdd4f73b": {
          "model_module": "@jupyter-widgets/base",
          "model_name": "LayoutModel",
          "model_module_version": "1.2.0",
          "state": {
            "_model_module": "@jupyter-widgets/base",
            "_model_module_version": "1.2.0",
            "_model_name": "LayoutModel",
            "_view_count": null,
            "_view_module": "@jupyter-widgets/base",
            "_view_module_version": "1.2.0",
            "_view_name": "LayoutView",
            "align_content": null,
            "align_items": null,
            "align_self": null,
            "border": null,
            "bottom": null,
            "display": null,
            "flex": null,
            "flex_flow": null,
            "grid_area": null,
            "grid_auto_columns": null,
            "grid_auto_flow": null,
            "grid_auto_rows": null,
            "grid_column": null,
            "grid_gap": null,
            "grid_row": null,
            "grid_template_areas": null,
            "grid_template_columns": null,
            "grid_template_rows": null,
            "height": null,
            "justify_content": null,
            "justify_items": null,
            "left": null,
            "margin": null,
            "max_height": null,
            "max_width": null,
            "min_height": null,
            "min_width": null,
            "object_fit": null,
            "object_position": null,
            "order": null,
            "overflow": null,
            "overflow_x": null,
            "overflow_y": null,
            "padding": null,
            "right": null,
            "top": null,
            "visibility": null,
            "width": null
          }
        },
        "2db57fa4039e4a68932a2bf422704207": {
          "model_module": "@jupyter-widgets/controls",
          "model_name": "DescriptionStyleModel",
          "model_module_version": "1.5.0",
          "state": {
            "_model_module": "@jupyter-widgets/controls",
            "_model_module_version": "1.5.0",
            "_model_name": "DescriptionStyleModel",
            "_view_count": null,
            "_view_module": "@jupyter-widgets/base",
            "_view_module_version": "1.2.0",
            "_view_name": "StyleView",
            "description_width": ""
          }
        },
        "f5436e63977a41459a2b4ad9b0a2862b": {
          "model_module": "@jupyter-widgets/controls",
          "model_name": "HBoxModel",
          "model_module_version": "1.5.0",
          "state": {
            "_dom_classes": [],
            "_model_module": "@jupyter-widgets/controls",
            "_model_module_version": "1.5.0",
            "_model_name": "HBoxModel",
            "_view_count": null,
            "_view_module": "@jupyter-widgets/controls",
            "_view_module_version": "1.5.0",
            "_view_name": "HBoxView",
            "box_style": "",
            "children": [
              "IPY_MODEL_30e8bf5ee8704738bf82a4e082eea79c",
              "IPY_MODEL_8f86594a4bbe43e0a52ec79c4eca09f7",
              "IPY_MODEL_08388b1039304ef89f51997a42830796"
            ],
            "layout": "IPY_MODEL_ddfe11293b694d1aaa72e7e31885426c"
          }
        },
        "30e8bf5ee8704738bf82a4e082eea79c": {
          "model_module": "@jupyter-widgets/controls",
          "model_name": "HTMLModel",
          "model_module_version": "1.5.0",
          "state": {
            "_dom_classes": [],
            "_model_module": "@jupyter-widgets/controls",
            "_model_module_version": "1.5.0",
            "_model_name": "HTMLModel",
            "_view_count": null,
            "_view_module": "@jupyter-widgets/controls",
            "_view_module_version": "1.5.0",
            "_view_name": "HTMLView",
            "description": "",
            "description_tooltip": null,
            "layout": "IPY_MODEL_d2a640b9db7a448e93dd6798c0ac5195",
            "placeholder": "​",
            "style": "IPY_MODEL_aa03ae91b95946faa3ccf602606b86ea",
            "value": "Generating test split: 100%"
          }
        },
        "8f86594a4bbe43e0a52ec79c4eca09f7": {
          "model_module": "@jupyter-widgets/controls",
          "model_name": "FloatProgressModel",
          "model_module_version": "1.5.0",
          "state": {
            "_dom_classes": [],
            "_model_module": "@jupyter-widgets/controls",
            "_model_module_version": "1.5.0",
            "_model_name": "FloatProgressModel",
            "_view_count": null,
            "_view_module": "@jupyter-widgets/controls",
            "_view_module_version": "1.5.0",
            "_view_name": "ProgressView",
            "bar_style": "success",
            "description": "",
            "description_tooltip": null,
            "layout": "IPY_MODEL_e893e66f2a45471e9c3aeedd17a07b72",
            "max": 1725,
            "min": 0,
            "orientation": "horizontal",
            "style": "IPY_MODEL_d6355c56571449078fc12ca9cb1f6974",
            "value": 1725
          }
        },
        "08388b1039304ef89f51997a42830796": {
          "model_module": "@jupyter-widgets/controls",
          "model_name": "HTMLModel",
          "model_module_version": "1.5.0",
          "state": {
            "_dom_classes": [],
            "_model_module": "@jupyter-widgets/controls",
            "_model_module_version": "1.5.0",
            "_model_name": "HTMLModel",
            "_view_count": null,
            "_view_module": "@jupyter-widgets/controls",
            "_view_module_version": "1.5.0",
            "_view_name": "HTMLView",
            "description": "",
            "description_tooltip": null,
            "layout": "IPY_MODEL_b8593d50fe464a589a00dc5f0c2d4a25",
            "placeholder": "​",
            "style": "IPY_MODEL_b06ea8102223444699bafbff97ffc833",
            "value": " 1725/1725 [00:00&lt;00:00, 85310.39 examples/s]"
          }
        },
        "ddfe11293b694d1aaa72e7e31885426c": {
          "model_module": "@jupyter-widgets/base",
          "model_name": "LayoutModel",
          "model_module_version": "1.2.0",
          "state": {
            "_model_module": "@jupyter-widgets/base",
            "_model_module_version": "1.2.0",
            "_model_name": "LayoutModel",
            "_view_count": null,
            "_view_module": "@jupyter-widgets/base",
            "_view_module_version": "1.2.0",
            "_view_name": "LayoutView",
            "align_content": null,
            "align_items": null,
            "align_self": null,
            "border": null,
            "bottom": null,
            "display": null,
            "flex": null,
            "flex_flow": null,
            "grid_area": null,
            "grid_auto_columns": null,
            "grid_auto_flow": null,
            "grid_auto_rows": null,
            "grid_column": null,
            "grid_gap": null,
            "grid_row": null,
            "grid_template_areas": null,
            "grid_template_columns": null,
            "grid_template_rows": null,
            "height": null,
            "justify_content": null,
            "justify_items": null,
            "left": null,
            "margin": null,
            "max_height": null,
            "max_width": null,
            "min_height": null,
            "min_width": null,
            "object_fit": null,
            "object_position": null,
            "order": null,
            "overflow": null,
            "overflow_x": null,
            "overflow_y": null,
            "padding": null,
            "right": null,
            "top": null,
            "visibility": null,
            "width": null
          }
        },
        "d2a640b9db7a448e93dd6798c0ac5195": {
          "model_module": "@jupyter-widgets/base",
          "model_name": "LayoutModel",
          "model_module_version": "1.2.0",
          "state": {
            "_model_module": "@jupyter-widgets/base",
            "_model_module_version": "1.2.0",
            "_model_name": "LayoutModel",
            "_view_count": null,
            "_view_module": "@jupyter-widgets/base",
            "_view_module_version": "1.2.0",
            "_view_name": "LayoutView",
            "align_content": null,
            "align_items": null,
            "align_self": null,
            "border": null,
            "bottom": null,
            "display": null,
            "flex": null,
            "flex_flow": null,
            "grid_area": null,
            "grid_auto_columns": null,
            "grid_auto_flow": null,
            "grid_auto_rows": null,
            "grid_column": null,
            "grid_gap": null,
            "grid_row": null,
            "grid_template_areas": null,
            "grid_template_columns": null,
            "grid_template_rows": null,
            "height": null,
            "justify_content": null,
            "justify_items": null,
            "left": null,
            "margin": null,
            "max_height": null,
            "max_width": null,
            "min_height": null,
            "min_width": null,
            "object_fit": null,
            "object_position": null,
            "order": null,
            "overflow": null,
            "overflow_x": null,
            "overflow_y": null,
            "padding": null,
            "right": null,
            "top": null,
            "visibility": null,
            "width": null
          }
        },
        "aa03ae91b95946faa3ccf602606b86ea": {
          "model_module": "@jupyter-widgets/controls",
          "model_name": "DescriptionStyleModel",
          "model_module_version": "1.5.0",
          "state": {
            "_model_module": "@jupyter-widgets/controls",
            "_model_module_version": "1.5.0",
            "_model_name": "DescriptionStyleModel",
            "_view_count": null,
            "_view_module": "@jupyter-widgets/base",
            "_view_module_version": "1.2.0",
            "_view_name": "StyleView",
            "description_width": ""
          }
        },
        "e893e66f2a45471e9c3aeedd17a07b72": {
          "model_module": "@jupyter-widgets/base",
          "model_name": "LayoutModel",
          "model_module_version": "1.2.0",
          "state": {
            "_model_module": "@jupyter-widgets/base",
            "_model_module_version": "1.2.0",
            "_model_name": "LayoutModel",
            "_view_count": null,
            "_view_module": "@jupyter-widgets/base",
            "_view_module_version": "1.2.0",
            "_view_name": "LayoutView",
            "align_content": null,
            "align_items": null,
            "align_self": null,
            "border": null,
            "bottom": null,
            "display": null,
            "flex": null,
            "flex_flow": null,
            "grid_area": null,
            "grid_auto_columns": null,
            "grid_auto_flow": null,
            "grid_auto_rows": null,
            "grid_column": null,
            "grid_gap": null,
            "grid_row": null,
            "grid_template_areas": null,
            "grid_template_columns": null,
            "grid_template_rows": null,
            "height": null,
            "justify_content": null,
            "justify_items": null,
            "left": null,
            "margin": null,
            "max_height": null,
            "max_width": null,
            "min_height": null,
            "min_width": null,
            "object_fit": null,
            "object_position": null,
            "order": null,
            "overflow": null,
            "overflow_x": null,
            "overflow_y": null,
            "padding": null,
            "right": null,
            "top": null,
            "visibility": null,
            "width": null
          }
        },
        "d6355c56571449078fc12ca9cb1f6974": {
          "model_module": "@jupyter-widgets/controls",
          "model_name": "ProgressStyleModel",
          "model_module_version": "1.5.0",
          "state": {
            "_model_module": "@jupyter-widgets/controls",
            "_model_module_version": "1.5.0",
            "_model_name": "ProgressStyleModel",
            "_view_count": null,
            "_view_module": "@jupyter-widgets/base",
            "_view_module_version": "1.2.0",
            "_view_name": "StyleView",
            "bar_color": null,
            "description_width": ""
          }
        },
        "b8593d50fe464a589a00dc5f0c2d4a25": {
          "model_module": "@jupyter-widgets/base",
          "model_name": "LayoutModel",
          "model_module_version": "1.2.0",
          "state": {
            "_model_module": "@jupyter-widgets/base",
            "_model_module_version": "1.2.0",
            "_model_name": "LayoutModel",
            "_view_count": null,
            "_view_module": "@jupyter-widgets/base",
            "_view_module_version": "1.2.0",
            "_view_name": "LayoutView",
            "align_content": null,
            "align_items": null,
            "align_self": null,
            "border": null,
            "bottom": null,
            "display": null,
            "flex": null,
            "flex_flow": null,
            "grid_area": null,
            "grid_auto_columns": null,
            "grid_auto_flow": null,
            "grid_auto_rows": null,
            "grid_column": null,
            "grid_gap": null,
            "grid_row": null,
            "grid_template_areas": null,
            "grid_template_columns": null,
            "grid_template_rows": null,
            "height": null,
            "justify_content": null,
            "justify_items": null,
            "left": null,
            "margin": null,
            "max_height": null,
            "max_width": null,
            "min_height": null,
            "min_width": null,
            "object_fit": null,
            "object_position": null,
            "order": null,
            "overflow": null,
            "overflow_x": null,
            "overflow_y": null,
            "padding": null,
            "right": null,
            "top": null,
            "visibility": null,
            "width": null
          }
        },
        "b06ea8102223444699bafbff97ffc833": {
          "model_module": "@jupyter-widgets/controls",
          "model_name": "DescriptionStyleModel",
          "model_module_version": "1.5.0",
          "state": {
            "_model_module": "@jupyter-widgets/controls",
            "_model_module_version": "1.5.0",
            "_model_name": "DescriptionStyleModel",
            "_view_count": null,
            "_view_module": "@jupyter-widgets/base",
            "_view_module_version": "1.2.0",
            "_view_name": "StyleView",
            "description_width": ""
          }
        },
        "dfa86c707fa74e95a9c4019b667fa858": {
          "model_module": "@jupyter-widgets/controls",
          "model_name": "HBoxModel",
          "model_module_version": "1.5.0",
          "state": {
            "_dom_classes": [],
            "_model_module": "@jupyter-widgets/controls",
            "_model_module_version": "1.5.0",
            "_model_name": "HBoxModel",
            "_view_count": null,
            "_view_module": "@jupyter-widgets/controls",
            "_view_module_version": "1.5.0",
            "_view_name": "HBoxView",
            "box_style": "",
            "children": [
              "IPY_MODEL_3fd68cc1d8dc4fa99e7572d61ad37d63",
              "IPY_MODEL_ee07b0c4b88c4d11a8bf0d7c380a916a",
              "IPY_MODEL_c84afd195032491f9fd3d0bd99760403"
            ],
            "layout": "IPY_MODEL_0497536d30d24f9c8f198ea230675b2b"
          }
        },
        "3fd68cc1d8dc4fa99e7572d61ad37d63": {
          "model_module": "@jupyter-widgets/controls",
          "model_name": "HTMLModel",
          "model_module_version": "1.5.0",
          "state": {
            "_dom_classes": [],
            "_model_module": "@jupyter-widgets/controls",
            "_model_module_version": "1.5.0",
            "_model_name": "HTMLModel",
            "_view_count": null,
            "_view_module": "@jupyter-widgets/controls",
            "_view_module_version": "1.5.0",
            "_view_name": "HTMLView",
            "description": "",
            "description_tooltip": null,
            "layout": "IPY_MODEL_98850bf2d8a04c42abf5d77d56cf3f94",
            "placeholder": "​",
            "style": "IPY_MODEL_6b014f3040b04d9ebf1247343a97c9fb",
            "value": "Downloading builder script: "
          }
        },
        "ee07b0c4b88c4d11a8bf0d7c380a916a": {
          "model_module": "@jupyter-widgets/controls",
          "model_name": "FloatProgressModel",
          "model_module_version": "1.5.0",
          "state": {
            "_dom_classes": [],
            "_model_module": "@jupyter-widgets/controls",
            "_model_module_version": "1.5.0",
            "_model_name": "FloatProgressModel",
            "_view_count": null,
            "_view_module": "@jupyter-widgets/controls",
            "_view_module_version": "1.5.0",
            "_view_name": "ProgressView",
            "bar_style": "success",
            "description": "",
            "description_tooltip": null,
            "layout": "IPY_MODEL_8ce3be909d9f48339dae397925cd210c",
            "max": 1,
            "min": 0,
            "orientation": "horizontal",
            "style": "IPY_MODEL_dfae786e07a04667ae6a04b432d73b74",
            "value": 1
          }
        },
        "c84afd195032491f9fd3d0bd99760403": {
          "model_module": "@jupyter-widgets/controls",
          "model_name": "HTMLModel",
          "model_module_version": "1.5.0",
          "state": {
            "_dom_classes": [],
            "_model_module": "@jupyter-widgets/controls",
            "_model_module_version": "1.5.0",
            "_model_name": "HTMLModel",
            "_view_count": null,
            "_view_module": "@jupyter-widgets/controls",
            "_view_module_version": "1.5.0",
            "_view_name": "HTMLView",
            "description": "",
            "description_tooltip": null,
            "layout": "IPY_MODEL_70a94c07e5c141e3b8c2810dc6611b27",
            "placeholder": "​",
            "style": "IPY_MODEL_b93926bb393a48519d1211cf9e5c506d",
            "value": " 5.75k/? [00:00&lt;00:00, 543kB/s]"
          }
        },
        "0497536d30d24f9c8f198ea230675b2b": {
          "model_module": "@jupyter-widgets/base",
          "model_name": "LayoutModel",
          "model_module_version": "1.2.0",
          "state": {
            "_model_module": "@jupyter-widgets/base",
            "_model_module_version": "1.2.0",
            "_model_name": "LayoutModel",
            "_view_count": null,
            "_view_module": "@jupyter-widgets/base",
            "_view_module_version": "1.2.0",
            "_view_name": "LayoutView",
            "align_content": null,
            "align_items": null,
            "align_self": null,
            "border": null,
            "bottom": null,
            "display": null,
            "flex": null,
            "flex_flow": null,
            "grid_area": null,
            "grid_auto_columns": null,
            "grid_auto_flow": null,
            "grid_auto_rows": null,
            "grid_column": null,
            "grid_gap": null,
            "grid_row": null,
            "grid_template_areas": null,
            "grid_template_columns": null,
            "grid_template_rows": null,
            "height": null,
            "justify_content": null,
            "justify_items": null,
            "left": null,
            "margin": null,
            "max_height": null,
            "max_width": null,
            "min_height": null,
            "min_width": null,
            "object_fit": null,
            "object_position": null,
            "order": null,
            "overflow": null,
            "overflow_x": null,
            "overflow_y": null,
            "padding": null,
            "right": null,
            "top": null,
            "visibility": null,
            "width": null
          }
        },
        "98850bf2d8a04c42abf5d77d56cf3f94": {
          "model_module": "@jupyter-widgets/base",
          "model_name": "LayoutModel",
          "model_module_version": "1.2.0",
          "state": {
            "_model_module": "@jupyter-widgets/base",
            "_model_module_version": "1.2.0",
            "_model_name": "LayoutModel",
            "_view_count": null,
            "_view_module": "@jupyter-widgets/base",
            "_view_module_version": "1.2.0",
            "_view_name": "LayoutView",
            "align_content": null,
            "align_items": null,
            "align_self": null,
            "border": null,
            "bottom": null,
            "display": null,
            "flex": null,
            "flex_flow": null,
            "grid_area": null,
            "grid_auto_columns": null,
            "grid_auto_flow": null,
            "grid_auto_rows": null,
            "grid_column": null,
            "grid_gap": null,
            "grid_row": null,
            "grid_template_areas": null,
            "grid_template_columns": null,
            "grid_template_rows": null,
            "height": null,
            "justify_content": null,
            "justify_items": null,
            "left": null,
            "margin": null,
            "max_height": null,
            "max_width": null,
            "min_height": null,
            "min_width": null,
            "object_fit": null,
            "object_position": null,
            "order": null,
            "overflow": null,
            "overflow_x": null,
            "overflow_y": null,
            "padding": null,
            "right": null,
            "top": null,
            "visibility": null,
            "width": null
          }
        },
        "6b014f3040b04d9ebf1247343a97c9fb": {
          "model_module": "@jupyter-widgets/controls",
          "model_name": "DescriptionStyleModel",
          "model_module_version": "1.5.0",
          "state": {
            "_model_module": "@jupyter-widgets/controls",
            "_model_module_version": "1.5.0",
            "_model_name": "DescriptionStyleModel",
            "_view_count": null,
            "_view_module": "@jupyter-widgets/base",
            "_view_module_version": "1.2.0",
            "_view_name": "StyleView",
            "description_width": ""
          }
        },
        "8ce3be909d9f48339dae397925cd210c": {
          "model_module": "@jupyter-widgets/base",
          "model_name": "LayoutModel",
          "model_module_version": "1.2.0",
          "state": {
            "_model_module": "@jupyter-widgets/base",
            "_model_module_version": "1.2.0",
            "_model_name": "LayoutModel",
            "_view_count": null,
            "_view_module": "@jupyter-widgets/base",
            "_view_module_version": "1.2.0",
            "_view_name": "LayoutView",
            "align_content": null,
            "align_items": null,
            "align_self": null,
            "border": null,
            "bottom": null,
            "display": null,
            "flex": null,
            "flex_flow": null,
            "grid_area": null,
            "grid_auto_columns": null,
            "grid_auto_flow": null,
            "grid_auto_rows": null,
            "grid_column": null,
            "grid_gap": null,
            "grid_row": null,
            "grid_template_areas": null,
            "grid_template_columns": null,
            "grid_template_rows": null,
            "height": null,
            "justify_content": null,
            "justify_items": null,
            "left": null,
            "margin": null,
            "max_height": null,
            "max_width": null,
            "min_height": null,
            "min_width": null,
            "object_fit": null,
            "object_position": null,
            "order": null,
            "overflow": null,
            "overflow_x": null,
            "overflow_y": null,
            "padding": null,
            "right": null,
            "top": null,
            "visibility": null,
            "width": "20px"
          }
        },
        "dfae786e07a04667ae6a04b432d73b74": {
          "model_module": "@jupyter-widgets/controls",
          "model_name": "ProgressStyleModel",
          "model_module_version": "1.5.0",
          "state": {
            "_model_module": "@jupyter-widgets/controls",
            "_model_module_version": "1.5.0",
            "_model_name": "ProgressStyleModel",
            "_view_count": null,
            "_view_module": "@jupyter-widgets/base",
            "_view_module_version": "1.2.0",
            "_view_name": "StyleView",
            "bar_color": null,
            "description_width": ""
          }
        },
        "70a94c07e5c141e3b8c2810dc6611b27": {
          "model_module": "@jupyter-widgets/base",
          "model_name": "LayoutModel",
          "model_module_version": "1.2.0",
          "state": {
            "_model_module": "@jupyter-widgets/base",
            "_model_module_version": "1.2.0",
            "_model_name": "LayoutModel",
            "_view_count": null,
            "_view_module": "@jupyter-widgets/base",
            "_view_module_version": "1.2.0",
            "_view_name": "LayoutView",
            "align_content": null,
            "align_items": null,
            "align_self": null,
            "border": null,
            "bottom": null,
            "display": null,
            "flex": null,
            "flex_flow": null,
            "grid_area": null,
            "grid_auto_columns": null,
            "grid_auto_flow": null,
            "grid_auto_rows": null,
            "grid_column": null,
            "grid_gap": null,
            "grid_row": null,
            "grid_template_areas": null,
            "grid_template_columns": null,
            "grid_template_rows": null,
            "height": null,
            "justify_content": null,
            "justify_items": null,
            "left": null,
            "margin": null,
            "max_height": null,
            "max_width": null,
            "min_height": null,
            "min_width": null,
            "object_fit": null,
            "object_position": null,
            "order": null,
            "overflow": null,
            "overflow_x": null,
            "overflow_y": null,
            "padding": null,
            "right": null,
            "top": null,
            "visibility": null,
            "width": null
          }
        },
        "b93926bb393a48519d1211cf9e5c506d": {
          "model_module": "@jupyter-widgets/controls",
          "model_name": "DescriptionStyleModel",
          "model_module_version": "1.5.0",
          "state": {
            "_model_module": "@jupyter-widgets/controls",
            "_model_module_version": "1.5.0",
            "_model_name": "DescriptionStyleModel",
            "_view_count": null,
            "_view_module": "@jupyter-widgets/base",
            "_view_module_version": "1.2.0",
            "_view_name": "StyleView",
            "description_width": ""
          }
        },
        "6190b596d2184bc5920dd7efc3bdfcc4": {
          "model_module": "@jupyter-widgets/controls",
          "model_name": "HBoxModel",
          "model_module_version": "1.5.0",
          "state": {
            "_dom_classes": [],
            "_model_module": "@jupyter-widgets/controls",
            "_model_module_version": "1.5.0",
            "_model_name": "HBoxModel",
            "_view_count": null,
            "_view_module": "@jupyter-widgets/controls",
            "_view_module_version": "1.5.0",
            "_view_name": "HBoxView",
            "box_style": "",
            "children": [
              "IPY_MODEL_179f47191e3b4ffbabf3e6c61580d2f0",
              "IPY_MODEL_14b75b068fa549cba416f936a7157575",
              "IPY_MODEL_0f86179a7ed8401fad9bb464dc1161bb"
            ],
            "layout": "IPY_MODEL_1e83d1b0634346c5a504f4880bf60261"
          }
        },
        "179f47191e3b4ffbabf3e6c61580d2f0": {
          "model_module": "@jupyter-widgets/controls",
          "model_name": "HTMLModel",
          "model_module_version": "1.5.0",
          "state": {
            "_dom_classes": [],
            "_model_module": "@jupyter-widgets/controls",
            "_model_module_version": "1.5.0",
            "_model_name": "HTMLModel",
            "_view_count": null,
            "_view_module": "@jupyter-widgets/controls",
            "_view_module_version": "1.5.0",
            "_view_name": "HTMLView",
            "description": "",
            "description_tooltip": null,
            "layout": "IPY_MODEL_1e9b8b33cada455f816ca7884bebe00c",
            "placeholder": "​",
            "style": "IPY_MODEL_6a227c24396b45e39cbe41b70234d7b8",
            "value": "tokenizer_config.json: 100%"
          }
        },
        "14b75b068fa549cba416f936a7157575": {
          "model_module": "@jupyter-widgets/controls",
          "model_name": "FloatProgressModel",
          "model_module_version": "1.5.0",
          "state": {
            "_dom_classes": [],
            "_model_module": "@jupyter-widgets/controls",
            "_model_module_version": "1.5.0",
            "_model_name": "FloatProgressModel",
            "_view_count": null,
            "_view_module": "@jupyter-widgets/controls",
            "_view_module_version": "1.5.0",
            "_view_name": "ProgressView",
            "bar_style": "success",
            "description": "",
            "description_tooltip": null,
            "layout": "IPY_MODEL_1b36373f586a4883aec848bebfdb3caf",
            "max": 25,
            "min": 0,
            "orientation": "horizontal",
            "style": "IPY_MODEL_d220054bc5d841f6b07d6b4397454d4f",
            "value": 25
          }
        },
        "0f86179a7ed8401fad9bb464dc1161bb": {
          "model_module": "@jupyter-widgets/controls",
          "model_name": "HTMLModel",
          "model_module_version": "1.5.0",
          "state": {
            "_dom_classes": [],
            "_model_module": "@jupyter-widgets/controls",
            "_model_module_version": "1.5.0",
            "_model_name": "HTMLModel",
            "_view_count": null,
            "_view_module": "@jupyter-widgets/controls",
            "_view_module_version": "1.5.0",
            "_view_name": "HTMLView",
            "description": "",
            "description_tooltip": null,
            "layout": "IPY_MODEL_3d1ef1a360ff4c97b1e0bd88045fe99c",
            "placeholder": "​",
            "style": "IPY_MODEL_3b4ea0bd06bc449cb36a0df52e34a90a",
            "value": " 25.0/25.0 [00:00&lt;00:00, 1.37kB/s]"
          }
        },
        "1e83d1b0634346c5a504f4880bf60261": {
          "model_module": "@jupyter-widgets/base",
          "model_name": "LayoutModel",
          "model_module_version": "1.2.0",
          "state": {
            "_model_module": "@jupyter-widgets/base",
            "_model_module_version": "1.2.0",
            "_model_name": "LayoutModel",
            "_view_count": null,
            "_view_module": "@jupyter-widgets/base",
            "_view_module_version": "1.2.0",
            "_view_name": "LayoutView",
            "align_content": null,
            "align_items": null,
            "align_self": null,
            "border": null,
            "bottom": null,
            "display": null,
            "flex": null,
            "flex_flow": null,
            "grid_area": null,
            "grid_auto_columns": null,
            "grid_auto_flow": null,
            "grid_auto_rows": null,
            "grid_column": null,
            "grid_gap": null,
            "grid_row": null,
            "grid_template_areas": null,
            "grid_template_columns": null,
            "grid_template_rows": null,
            "height": null,
            "justify_content": null,
            "justify_items": null,
            "left": null,
            "margin": null,
            "max_height": null,
            "max_width": null,
            "min_height": null,
            "min_width": null,
            "object_fit": null,
            "object_position": null,
            "order": null,
            "overflow": null,
            "overflow_x": null,
            "overflow_y": null,
            "padding": null,
            "right": null,
            "top": null,
            "visibility": null,
            "width": null
          }
        },
        "1e9b8b33cada455f816ca7884bebe00c": {
          "model_module": "@jupyter-widgets/base",
          "model_name": "LayoutModel",
          "model_module_version": "1.2.0",
          "state": {
            "_model_module": "@jupyter-widgets/base",
            "_model_module_version": "1.2.0",
            "_model_name": "LayoutModel",
            "_view_count": null,
            "_view_module": "@jupyter-widgets/base",
            "_view_module_version": "1.2.0",
            "_view_name": "LayoutView",
            "align_content": null,
            "align_items": null,
            "align_self": null,
            "border": null,
            "bottom": null,
            "display": null,
            "flex": null,
            "flex_flow": null,
            "grid_area": null,
            "grid_auto_columns": null,
            "grid_auto_flow": null,
            "grid_auto_rows": null,
            "grid_column": null,
            "grid_gap": null,
            "grid_row": null,
            "grid_template_areas": null,
            "grid_template_columns": null,
            "grid_template_rows": null,
            "height": null,
            "justify_content": null,
            "justify_items": null,
            "left": null,
            "margin": null,
            "max_height": null,
            "max_width": null,
            "min_height": null,
            "min_width": null,
            "object_fit": null,
            "object_position": null,
            "order": null,
            "overflow": null,
            "overflow_x": null,
            "overflow_y": null,
            "padding": null,
            "right": null,
            "top": null,
            "visibility": null,
            "width": null
          }
        },
        "6a227c24396b45e39cbe41b70234d7b8": {
          "model_module": "@jupyter-widgets/controls",
          "model_name": "DescriptionStyleModel",
          "model_module_version": "1.5.0",
          "state": {
            "_model_module": "@jupyter-widgets/controls",
            "_model_module_version": "1.5.0",
            "_model_name": "DescriptionStyleModel",
            "_view_count": null,
            "_view_module": "@jupyter-widgets/base",
            "_view_module_version": "1.2.0",
            "_view_name": "StyleView",
            "description_width": ""
          }
        },
        "1b36373f586a4883aec848bebfdb3caf": {
          "model_module": "@jupyter-widgets/base",
          "model_name": "LayoutModel",
          "model_module_version": "1.2.0",
          "state": {
            "_model_module": "@jupyter-widgets/base",
            "_model_module_version": "1.2.0",
            "_model_name": "LayoutModel",
            "_view_count": null,
            "_view_module": "@jupyter-widgets/base",
            "_view_module_version": "1.2.0",
            "_view_name": "LayoutView",
            "align_content": null,
            "align_items": null,
            "align_self": null,
            "border": null,
            "bottom": null,
            "display": null,
            "flex": null,
            "flex_flow": null,
            "grid_area": null,
            "grid_auto_columns": null,
            "grid_auto_flow": null,
            "grid_auto_rows": null,
            "grid_column": null,
            "grid_gap": null,
            "grid_row": null,
            "grid_template_areas": null,
            "grid_template_columns": null,
            "grid_template_rows": null,
            "height": null,
            "justify_content": null,
            "justify_items": null,
            "left": null,
            "margin": null,
            "max_height": null,
            "max_width": null,
            "min_height": null,
            "min_width": null,
            "object_fit": null,
            "object_position": null,
            "order": null,
            "overflow": null,
            "overflow_x": null,
            "overflow_y": null,
            "padding": null,
            "right": null,
            "top": null,
            "visibility": null,
            "width": null
          }
        },
        "d220054bc5d841f6b07d6b4397454d4f": {
          "model_module": "@jupyter-widgets/controls",
          "model_name": "ProgressStyleModel",
          "model_module_version": "1.5.0",
          "state": {
            "_model_module": "@jupyter-widgets/controls",
            "_model_module_version": "1.5.0",
            "_model_name": "ProgressStyleModel",
            "_view_count": null,
            "_view_module": "@jupyter-widgets/base",
            "_view_module_version": "1.2.0",
            "_view_name": "StyleView",
            "bar_color": null,
            "description_width": ""
          }
        },
        "3d1ef1a360ff4c97b1e0bd88045fe99c": {
          "model_module": "@jupyter-widgets/base",
          "model_name": "LayoutModel",
          "model_module_version": "1.2.0",
          "state": {
            "_model_module": "@jupyter-widgets/base",
            "_model_module_version": "1.2.0",
            "_model_name": "LayoutModel",
            "_view_count": null,
            "_view_module": "@jupyter-widgets/base",
            "_view_module_version": "1.2.0",
            "_view_name": "LayoutView",
            "align_content": null,
            "align_items": null,
            "align_self": null,
            "border": null,
            "bottom": null,
            "display": null,
            "flex": null,
            "flex_flow": null,
            "grid_area": null,
            "grid_auto_columns": null,
            "grid_auto_flow": null,
            "grid_auto_rows": null,
            "grid_column": null,
            "grid_gap": null,
            "grid_row": null,
            "grid_template_areas": null,
            "grid_template_columns": null,
            "grid_template_rows": null,
            "height": null,
            "justify_content": null,
            "justify_items": null,
            "left": null,
            "margin": null,
            "max_height": null,
            "max_width": null,
            "min_height": null,
            "min_width": null,
            "object_fit": null,
            "object_position": null,
            "order": null,
            "overflow": null,
            "overflow_x": null,
            "overflow_y": null,
            "padding": null,
            "right": null,
            "top": null,
            "visibility": null,
            "width": null
          }
        },
        "3b4ea0bd06bc449cb36a0df52e34a90a": {
          "model_module": "@jupyter-widgets/controls",
          "model_name": "DescriptionStyleModel",
          "model_module_version": "1.5.0",
          "state": {
            "_model_module": "@jupyter-widgets/controls",
            "_model_module_version": "1.5.0",
            "_model_name": "DescriptionStyleModel",
            "_view_count": null,
            "_view_module": "@jupyter-widgets/base",
            "_view_module_version": "1.2.0",
            "_view_name": "StyleView",
            "description_width": ""
          }
        },
        "bceaf52df57f4781980cf6bcb6b2970e": {
          "model_module": "@jupyter-widgets/controls",
          "model_name": "HBoxModel",
          "model_module_version": "1.5.0",
          "state": {
            "_dom_classes": [],
            "_model_module": "@jupyter-widgets/controls",
            "_model_module_version": "1.5.0",
            "_model_name": "HBoxModel",
            "_view_count": null,
            "_view_module": "@jupyter-widgets/controls",
            "_view_module_version": "1.5.0",
            "_view_name": "HBoxView",
            "box_style": "",
            "children": [
              "IPY_MODEL_bc97894339b243aebec50c70c53a355b",
              "IPY_MODEL_70b5c63299ce4e46a3e6966a5088f120",
              "IPY_MODEL_ca509e0e8f7d4bf0b8a5d6f179900b5e"
            ],
            "layout": "IPY_MODEL_2615450894474d6792bafd26fff62654"
          }
        },
        "bc97894339b243aebec50c70c53a355b": {
          "model_module": "@jupyter-widgets/controls",
          "model_name": "HTMLModel",
          "model_module_version": "1.5.0",
          "state": {
            "_dom_classes": [],
            "_model_module": "@jupyter-widgets/controls",
            "_model_module_version": "1.5.0",
            "_model_name": "HTMLModel",
            "_view_count": null,
            "_view_module": "@jupyter-widgets/controls",
            "_view_module_version": "1.5.0",
            "_view_name": "HTMLView",
            "description": "",
            "description_tooltip": null,
            "layout": "IPY_MODEL_73cd85d61b334b97b586380b07057781",
            "placeholder": "​",
            "style": "IPY_MODEL_8e0dc3d3cc134da4aac06d19b6b61404",
            "value": "config.json: 100%"
          }
        },
        "70b5c63299ce4e46a3e6966a5088f120": {
          "model_module": "@jupyter-widgets/controls",
          "model_name": "FloatProgressModel",
          "model_module_version": "1.5.0",
          "state": {
            "_dom_classes": [],
            "_model_module": "@jupyter-widgets/controls",
            "_model_module_version": "1.5.0",
            "_model_name": "FloatProgressModel",
            "_view_count": null,
            "_view_module": "@jupyter-widgets/controls",
            "_view_module_version": "1.5.0",
            "_view_name": "ProgressView",
            "bar_style": "success",
            "description": "",
            "description_tooltip": null,
            "layout": "IPY_MODEL_aaf94ee0b3204c3cb85b3e20237dc36a",
            "max": 481,
            "min": 0,
            "orientation": "horizontal",
            "style": "IPY_MODEL_f26c533a7a5a4f6382f88946706b09c9",
            "value": 481
          }
        },
        "ca509e0e8f7d4bf0b8a5d6f179900b5e": {
          "model_module": "@jupyter-widgets/controls",
          "model_name": "HTMLModel",
          "model_module_version": "1.5.0",
          "state": {
            "_dom_classes": [],
            "_model_module": "@jupyter-widgets/controls",
            "_model_module_version": "1.5.0",
            "_model_name": "HTMLModel",
            "_view_count": null,
            "_view_module": "@jupyter-widgets/controls",
            "_view_module_version": "1.5.0",
            "_view_name": "HTMLView",
            "description": "",
            "description_tooltip": null,
            "layout": "IPY_MODEL_377b667ed8ec4c7dac521e539beee9f0",
            "placeholder": "​",
            "style": "IPY_MODEL_8ae05d1360b4435ea15f9675a461f69a",
            "value": " 481/481 [00:00&lt;00:00, 29.4kB/s]"
          }
        },
        "2615450894474d6792bafd26fff62654": {
          "model_module": "@jupyter-widgets/base",
          "model_name": "LayoutModel",
          "model_module_version": "1.2.0",
          "state": {
            "_model_module": "@jupyter-widgets/base",
            "_model_module_version": "1.2.0",
            "_model_name": "LayoutModel",
            "_view_count": null,
            "_view_module": "@jupyter-widgets/base",
            "_view_module_version": "1.2.0",
            "_view_name": "LayoutView",
            "align_content": null,
            "align_items": null,
            "align_self": null,
            "border": null,
            "bottom": null,
            "display": null,
            "flex": null,
            "flex_flow": null,
            "grid_area": null,
            "grid_auto_columns": null,
            "grid_auto_flow": null,
            "grid_auto_rows": null,
            "grid_column": null,
            "grid_gap": null,
            "grid_row": null,
            "grid_template_areas": null,
            "grid_template_columns": null,
            "grid_template_rows": null,
            "height": null,
            "justify_content": null,
            "justify_items": null,
            "left": null,
            "margin": null,
            "max_height": null,
            "max_width": null,
            "min_height": null,
            "min_width": null,
            "object_fit": null,
            "object_position": null,
            "order": null,
            "overflow": null,
            "overflow_x": null,
            "overflow_y": null,
            "padding": null,
            "right": null,
            "top": null,
            "visibility": null,
            "width": null
          }
        },
        "73cd85d61b334b97b586380b07057781": {
          "model_module": "@jupyter-widgets/base",
          "model_name": "LayoutModel",
          "model_module_version": "1.2.0",
          "state": {
            "_model_module": "@jupyter-widgets/base",
            "_model_module_version": "1.2.0",
            "_model_name": "LayoutModel",
            "_view_count": null,
            "_view_module": "@jupyter-widgets/base",
            "_view_module_version": "1.2.0",
            "_view_name": "LayoutView",
            "align_content": null,
            "align_items": null,
            "align_self": null,
            "border": null,
            "bottom": null,
            "display": null,
            "flex": null,
            "flex_flow": null,
            "grid_area": null,
            "grid_auto_columns": null,
            "grid_auto_flow": null,
            "grid_auto_rows": null,
            "grid_column": null,
            "grid_gap": null,
            "grid_row": null,
            "grid_template_areas": null,
            "grid_template_columns": null,
            "grid_template_rows": null,
            "height": null,
            "justify_content": null,
            "justify_items": null,
            "left": null,
            "margin": null,
            "max_height": null,
            "max_width": null,
            "min_height": null,
            "min_width": null,
            "object_fit": null,
            "object_position": null,
            "order": null,
            "overflow": null,
            "overflow_x": null,
            "overflow_y": null,
            "padding": null,
            "right": null,
            "top": null,
            "visibility": null,
            "width": null
          }
        },
        "8e0dc3d3cc134da4aac06d19b6b61404": {
          "model_module": "@jupyter-widgets/controls",
          "model_name": "DescriptionStyleModel",
          "model_module_version": "1.5.0",
          "state": {
            "_model_module": "@jupyter-widgets/controls",
            "_model_module_version": "1.5.0",
            "_model_name": "DescriptionStyleModel",
            "_view_count": null,
            "_view_module": "@jupyter-widgets/base",
            "_view_module_version": "1.2.0",
            "_view_name": "StyleView",
            "description_width": ""
          }
        },
        "aaf94ee0b3204c3cb85b3e20237dc36a": {
          "model_module": "@jupyter-widgets/base",
          "model_name": "LayoutModel",
          "model_module_version": "1.2.0",
          "state": {
            "_model_module": "@jupyter-widgets/base",
            "_model_module_version": "1.2.0",
            "_model_name": "LayoutModel",
            "_view_count": null,
            "_view_module": "@jupyter-widgets/base",
            "_view_module_version": "1.2.0",
            "_view_name": "LayoutView",
            "align_content": null,
            "align_items": null,
            "align_self": null,
            "border": null,
            "bottom": null,
            "display": null,
            "flex": null,
            "flex_flow": null,
            "grid_area": null,
            "grid_auto_columns": null,
            "grid_auto_flow": null,
            "grid_auto_rows": null,
            "grid_column": null,
            "grid_gap": null,
            "grid_row": null,
            "grid_template_areas": null,
            "grid_template_columns": null,
            "grid_template_rows": null,
            "height": null,
            "justify_content": null,
            "justify_items": null,
            "left": null,
            "margin": null,
            "max_height": null,
            "max_width": null,
            "min_height": null,
            "min_width": null,
            "object_fit": null,
            "object_position": null,
            "order": null,
            "overflow": null,
            "overflow_x": null,
            "overflow_y": null,
            "padding": null,
            "right": null,
            "top": null,
            "visibility": null,
            "width": null
          }
        },
        "f26c533a7a5a4f6382f88946706b09c9": {
          "model_module": "@jupyter-widgets/controls",
          "model_name": "ProgressStyleModel",
          "model_module_version": "1.5.0",
          "state": {
            "_model_module": "@jupyter-widgets/controls",
            "_model_module_version": "1.5.0",
            "_model_name": "ProgressStyleModel",
            "_view_count": null,
            "_view_module": "@jupyter-widgets/base",
            "_view_module_version": "1.2.0",
            "_view_name": "StyleView",
            "bar_color": null,
            "description_width": ""
          }
        },
        "377b667ed8ec4c7dac521e539beee9f0": {
          "model_module": "@jupyter-widgets/base",
          "model_name": "LayoutModel",
          "model_module_version": "1.2.0",
          "state": {
            "_model_module": "@jupyter-widgets/base",
            "_model_module_version": "1.2.0",
            "_model_name": "LayoutModel",
            "_view_count": null,
            "_view_module": "@jupyter-widgets/base",
            "_view_module_version": "1.2.0",
            "_view_name": "LayoutView",
            "align_content": null,
            "align_items": null,
            "align_self": null,
            "border": null,
            "bottom": null,
            "display": null,
            "flex": null,
            "flex_flow": null,
            "grid_area": null,
            "grid_auto_columns": null,
            "grid_auto_flow": null,
            "grid_auto_rows": null,
            "grid_column": null,
            "grid_gap": null,
            "grid_row": null,
            "grid_template_areas": null,
            "grid_template_columns": null,
            "grid_template_rows": null,
            "height": null,
            "justify_content": null,
            "justify_items": null,
            "left": null,
            "margin": null,
            "max_height": null,
            "max_width": null,
            "min_height": null,
            "min_width": null,
            "object_fit": null,
            "object_position": null,
            "order": null,
            "overflow": null,
            "overflow_x": null,
            "overflow_y": null,
            "padding": null,
            "right": null,
            "top": null,
            "visibility": null,
            "width": null
          }
        },
        "8ae05d1360b4435ea15f9675a461f69a": {
          "model_module": "@jupyter-widgets/controls",
          "model_name": "DescriptionStyleModel",
          "model_module_version": "1.5.0",
          "state": {
            "_model_module": "@jupyter-widgets/controls",
            "_model_module_version": "1.5.0",
            "_model_name": "DescriptionStyleModel",
            "_view_count": null,
            "_view_module": "@jupyter-widgets/base",
            "_view_module_version": "1.2.0",
            "_view_name": "StyleView",
            "description_width": ""
          }
        },
        "6a78d3b3793444ecb2f0ac7cd16e9289": {
          "model_module": "@jupyter-widgets/controls",
          "model_name": "HBoxModel",
          "model_module_version": "1.5.0",
          "state": {
            "_dom_classes": [],
            "_model_module": "@jupyter-widgets/controls",
            "_model_module_version": "1.5.0",
            "_model_name": "HBoxModel",
            "_view_count": null,
            "_view_module": "@jupyter-widgets/controls",
            "_view_module_version": "1.5.0",
            "_view_name": "HBoxView",
            "box_style": "",
            "children": [
              "IPY_MODEL_558d49a357524780995c24e1fbbb2d71",
              "IPY_MODEL_66d749f15528491ab05a8f650ed31d7c",
              "IPY_MODEL_1d3b5d1dbd7c44f3b22975de36e09cea"
            ],
            "layout": "IPY_MODEL_821ff0fc2eba4798bdd64b1541969244"
          }
        },
        "558d49a357524780995c24e1fbbb2d71": {
          "model_module": "@jupyter-widgets/controls",
          "model_name": "HTMLModel",
          "model_module_version": "1.5.0",
          "state": {
            "_dom_classes": [],
            "_model_module": "@jupyter-widgets/controls",
            "_model_module_version": "1.5.0",
            "_model_name": "HTMLModel",
            "_view_count": null,
            "_view_module": "@jupyter-widgets/controls",
            "_view_module_version": "1.5.0",
            "_view_name": "HTMLView",
            "description": "",
            "description_tooltip": null,
            "layout": "IPY_MODEL_1934b95050854a7db4423f7cd3288d8b",
            "placeholder": "​",
            "style": "IPY_MODEL_b549483b2edd4515b3d463f922220870",
            "value": "vocab.json: 100%"
          }
        },
        "66d749f15528491ab05a8f650ed31d7c": {
          "model_module": "@jupyter-widgets/controls",
          "model_name": "FloatProgressModel",
          "model_module_version": "1.5.0",
          "state": {
            "_dom_classes": [],
            "_model_module": "@jupyter-widgets/controls",
            "_model_module_version": "1.5.0",
            "_model_name": "FloatProgressModel",
            "_view_count": null,
            "_view_module": "@jupyter-widgets/controls",
            "_view_module_version": "1.5.0",
            "_view_name": "ProgressView",
            "bar_style": "success",
            "description": "",
            "description_tooltip": null,
            "layout": "IPY_MODEL_ba4d2c43be6a441aadec1fdc87096d39",
            "max": 898823,
            "min": 0,
            "orientation": "horizontal",
            "style": "IPY_MODEL_5be34d695cb4452ba1d71619ddc48c9e",
            "value": 898823
          }
        },
        "1d3b5d1dbd7c44f3b22975de36e09cea": {
          "model_module": "@jupyter-widgets/controls",
          "model_name": "HTMLModel",
          "model_module_version": "1.5.0",
          "state": {
            "_dom_classes": [],
            "_model_module": "@jupyter-widgets/controls",
            "_model_module_version": "1.5.0",
            "_model_name": "HTMLModel",
            "_view_count": null,
            "_view_module": "@jupyter-widgets/controls",
            "_view_module_version": "1.5.0",
            "_view_name": "HTMLView",
            "description": "",
            "description_tooltip": null,
            "layout": "IPY_MODEL_ba7f060e839345e58173e26bf0e9bc66",
            "placeholder": "​",
            "style": "IPY_MODEL_9d46d15a15c3491fb4333d5ccd1d40b7",
            "value": " 899k/899k [00:00&lt;00:00, 12.5MB/s]"
          }
        },
        "821ff0fc2eba4798bdd64b1541969244": {
          "model_module": "@jupyter-widgets/base",
          "model_name": "LayoutModel",
          "model_module_version": "1.2.0",
          "state": {
            "_model_module": "@jupyter-widgets/base",
            "_model_module_version": "1.2.0",
            "_model_name": "LayoutModel",
            "_view_count": null,
            "_view_module": "@jupyter-widgets/base",
            "_view_module_version": "1.2.0",
            "_view_name": "LayoutView",
            "align_content": null,
            "align_items": null,
            "align_self": null,
            "border": null,
            "bottom": null,
            "display": null,
            "flex": null,
            "flex_flow": null,
            "grid_area": null,
            "grid_auto_columns": null,
            "grid_auto_flow": null,
            "grid_auto_rows": null,
            "grid_column": null,
            "grid_gap": null,
            "grid_row": null,
            "grid_template_areas": null,
            "grid_template_columns": null,
            "grid_template_rows": null,
            "height": null,
            "justify_content": null,
            "justify_items": null,
            "left": null,
            "margin": null,
            "max_height": null,
            "max_width": null,
            "min_height": null,
            "min_width": null,
            "object_fit": null,
            "object_position": null,
            "order": null,
            "overflow": null,
            "overflow_x": null,
            "overflow_y": null,
            "padding": null,
            "right": null,
            "top": null,
            "visibility": null,
            "width": null
          }
        },
        "1934b95050854a7db4423f7cd3288d8b": {
          "model_module": "@jupyter-widgets/base",
          "model_name": "LayoutModel",
          "model_module_version": "1.2.0",
          "state": {
            "_model_module": "@jupyter-widgets/base",
            "_model_module_version": "1.2.0",
            "_model_name": "LayoutModel",
            "_view_count": null,
            "_view_module": "@jupyter-widgets/base",
            "_view_module_version": "1.2.0",
            "_view_name": "LayoutView",
            "align_content": null,
            "align_items": null,
            "align_self": null,
            "border": null,
            "bottom": null,
            "display": null,
            "flex": null,
            "flex_flow": null,
            "grid_area": null,
            "grid_auto_columns": null,
            "grid_auto_flow": null,
            "grid_auto_rows": null,
            "grid_column": null,
            "grid_gap": null,
            "grid_row": null,
            "grid_template_areas": null,
            "grid_template_columns": null,
            "grid_template_rows": null,
            "height": null,
            "justify_content": null,
            "justify_items": null,
            "left": null,
            "margin": null,
            "max_height": null,
            "max_width": null,
            "min_height": null,
            "min_width": null,
            "object_fit": null,
            "object_position": null,
            "order": null,
            "overflow": null,
            "overflow_x": null,
            "overflow_y": null,
            "padding": null,
            "right": null,
            "top": null,
            "visibility": null,
            "width": null
          }
        },
        "b549483b2edd4515b3d463f922220870": {
          "model_module": "@jupyter-widgets/controls",
          "model_name": "DescriptionStyleModel",
          "model_module_version": "1.5.0",
          "state": {
            "_model_module": "@jupyter-widgets/controls",
            "_model_module_version": "1.5.0",
            "_model_name": "DescriptionStyleModel",
            "_view_count": null,
            "_view_module": "@jupyter-widgets/base",
            "_view_module_version": "1.2.0",
            "_view_name": "StyleView",
            "description_width": ""
          }
        },
        "ba4d2c43be6a441aadec1fdc87096d39": {
          "model_module": "@jupyter-widgets/base",
          "model_name": "LayoutModel",
          "model_module_version": "1.2.0",
          "state": {
            "_model_module": "@jupyter-widgets/base",
            "_model_module_version": "1.2.0",
            "_model_name": "LayoutModel",
            "_view_count": null,
            "_view_module": "@jupyter-widgets/base",
            "_view_module_version": "1.2.0",
            "_view_name": "LayoutView",
            "align_content": null,
            "align_items": null,
            "align_self": null,
            "border": null,
            "bottom": null,
            "display": null,
            "flex": null,
            "flex_flow": null,
            "grid_area": null,
            "grid_auto_columns": null,
            "grid_auto_flow": null,
            "grid_auto_rows": null,
            "grid_column": null,
            "grid_gap": null,
            "grid_row": null,
            "grid_template_areas": null,
            "grid_template_columns": null,
            "grid_template_rows": null,
            "height": null,
            "justify_content": null,
            "justify_items": null,
            "left": null,
            "margin": null,
            "max_height": null,
            "max_width": null,
            "min_height": null,
            "min_width": null,
            "object_fit": null,
            "object_position": null,
            "order": null,
            "overflow": null,
            "overflow_x": null,
            "overflow_y": null,
            "padding": null,
            "right": null,
            "top": null,
            "visibility": null,
            "width": null
          }
        },
        "5be34d695cb4452ba1d71619ddc48c9e": {
          "model_module": "@jupyter-widgets/controls",
          "model_name": "ProgressStyleModel",
          "model_module_version": "1.5.0",
          "state": {
            "_model_module": "@jupyter-widgets/controls",
            "_model_module_version": "1.5.0",
            "_model_name": "ProgressStyleModel",
            "_view_count": null,
            "_view_module": "@jupyter-widgets/base",
            "_view_module_version": "1.2.0",
            "_view_name": "StyleView",
            "bar_color": null,
            "description_width": ""
          }
        },
        "ba7f060e839345e58173e26bf0e9bc66": {
          "model_module": "@jupyter-widgets/base",
          "model_name": "LayoutModel",
          "model_module_version": "1.2.0",
          "state": {
            "_model_module": "@jupyter-widgets/base",
            "_model_module_version": "1.2.0",
            "_model_name": "LayoutModel",
            "_view_count": null,
            "_view_module": "@jupyter-widgets/base",
            "_view_module_version": "1.2.0",
            "_view_name": "LayoutView",
            "align_content": null,
            "align_items": null,
            "align_self": null,
            "border": null,
            "bottom": null,
            "display": null,
            "flex": null,
            "flex_flow": null,
            "grid_area": null,
            "grid_auto_columns": null,
            "grid_auto_flow": null,
            "grid_auto_rows": null,
            "grid_column": null,
            "grid_gap": null,
            "grid_row": null,
            "grid_template_areas": null,
            "grid_template_columns": null,
            "grid_template_rows": null,
            "height": null,
            "justify_content": null,
            "justify_items": null,
            "left": null,
            "margin": null,
            "max_height": null,
            "max_width": null,
            "min_height": null,
            "min_width": null,
            "object_fit": null,
            "object_position": null,
            "order": null,
            "overflow": null,
            "overflow_x": null,
            "overflow_y": null,
            "padding": null,
            "right": null,
            "top": null,
            "visibility": null,
            "width": null
          }
        },
        "9d46d15a15c3491fb4333d5ccd1d40b7": {
          "model_module": "@jupyter-widgets/controls",
          "model_name": "DescriptionStyleModel",
          "model_module_version": "1.5.0",
          "state": {
            "_model_module": "@jupyter-widgets/controls",
            "_model_module_version": "1.5.0",
            "_model_name": "DescriptionStyleModel",
            "_view_count": null,
            "_view_module": "@jupyter-widgets/base",
            "_view_module_version": "1.2.0",
            "_view_name": "StyleView",
            "description_width": ""
          }
        },
        "0f82cffa712f45a1bb8787538b153c7f": {
          "model_module": "@jupyter-widgets/controls",
          "model_name": "HBoxModel",
          "model_module_version": "1.5.0",
          "state": {
            "_dom_classes": [],
            "_model_module": "@jupyter-widgets/controls",
            "_model_module_version": "1.5.0",
            "_model_name": "HBoxModel",
            "_view_count": null,
            "_view_module": "@jupyter-widgets/controls",
            "_view_module_version": "1.5.0",
            "_view_name": "HBoxView",
            "box_style": "",
            "children": [
              "IPY_MODEL_95d7108ee9e9404ca134931470f3f566",
              "IPY_MODEL_c88dc2385be64f86ae0a9d87c8fdb4fc",
              "IPY_MODEL_73e402b235b244aba7b3bec1d43f5b73"
            ],
            "layout": "IPY_MODEL_a4a4b6b8e99549cda573f76abc71aad6"
          }
        },
        "95d7108ee9e9404ca134931470f3f566": {
          "model_module": "@jupyter-widgets/controls",
          "model_name": "HTMLModel",
          "model_module_version": "1.5.0",
          "state": {
            "_dom_classes": [],
            "_model_module": "@jupyter-widgets/controls",
            "_model_module_version": "1.5.0",
            "_model_name": "HTMLModel",
            "_view_count": null,
            "_view_module": "@jupyter-widgets/controls",
            "_view_module_version": "1.5.0",
            "_view_name": "HTMLView",
            "description": "",
            "description_tooltip": null,
            "layout": "IPY_MODEL_b8e7429ebbee4dd788fef0040cb0c26b",
            "placeholder": "​",
            "style": "IPY_MODEL_995a84c3841c42dfa024cb2b0a5ae7fe",
            "value": "merges.txt: 100%"
          }
        },
        "c88dc2385be64f86ae0a9d87c8fdb4fc": {
          "model_module": "@jupyter-widgets/controls",
          "model_name": "FloatProgressModel",
          "model_module_version": "1.5.0",
          "state": {
            "_dom_classes": [],
            "_model_module": "@jupyter-widgets/controls",
            "_model_module_version": "1.5.0",
            "_model_name": "FloatProgressModel",
            "_view_count": null,
            "_view_module": "@jupyter-widgets/controls",
            "_view_module_version": "1.5.0",
            "_view_name": "ProgressView",
            "bar_style": "success",
            "description": "",
            "description_tooltip": null,
            "layout": "IPY_MODEL_e4a4775d27df465d9c3bee5ddf6cc5e9",
            "max": 456318,
            "min": 0,
            "orientation": "horizontal",
            "style": "IPY_MODEL_61daef6174594605b398a44e4a5c85a5",
            "value": 456318
          }
        },
        "73e402b235b244aba7b3bec1d43f5b73": {
          "model_module": "@jupyter-widgets/controls",
          "model_name": "HTMLModel",
          "model_module_version": "1.5.0",
          "state": {
            "_dom_classes": [],
            "_model_module": "@jupyter-widgets/controls",
            "_model_module_version": "1.5.0",
            "_model_name": "HTMLModel",
            "_view_count": null,
            "_view_module": "@jupyter-widgets/controls",
            "_view_module_version": "1.5.0",
            "_view_name": "HTMLView",
            "description": "",
            "description_tooltip": null,
            "layout": "IPY_MODEL_4a4590f5047a40b39b94fe3ebc309697",
            "placeholder": "​",
            "style": "IPY_MODEL_696a47f23db14e44a40632c8de2f6a1d",
            "value": " 456k/456k [00:00&lt;00:00, 15.0MB/s]"
          }
        },
        "a4a4b6b8e99549cda573f76abc71aad6": {
          "model_module": "@jupyter-widgets/base",
          "model_name": "LayoutModel",
          "model_module_version": "1.2.0",
          "state": {
            "_model_module": "@jupyter-widgets/base",
            "_model_module_version": "1.2.0",
            "_model_name": "LayoutModel",
            "_view_count": null,
            "_view_module": "@jupyter-widgets/base",
            "_view_module_version": "1.2.0",
            "_view_name": "LayoutView",
            "align_content": null,
            "align_items": null,
            "align_self": null,
            "border": null,
            "bottom": null,
            "display": null,
            "flex": null,
            "flex_flow": null,
            "grid_area": null,
            "grid_auto_columns": null,
            "grid_auto_flow": null,
            "grid_auto_rows": null,
            "grid_column": null,
            "grid_gap": null,
            "grid_row": null,
            "grid_template_areas": null,
            "grid_template_columns": null,
            "grid_template_rows": null,
            "height": null,
            "justify_content": null,
            "justify_items": null,
            "left": null,
            "margin": null,
            "max_height": null,
            "max_width": null,
            "min_height": null,
            "min_width": null,
            "object_fit": null,
            "object_position": null,
            "order": null,
            "overflow": null,
            "overflow_x": null,
            "overflow_y": null,
            "padding": null,
            "right": null,
            "top": null,
            "visibility": null,
            "width": null
          }
        },
        "b8e7429ebbee4dd788fef0040cb0c26b": {
          "model_module": "@jupyter-widgets/base",
          "model_name": "LayoutModel",
          "model_module_version": "1.2.0",
          "state": {
            "_model_module": "@jupyter-widgets/base",
            "_model_module_version": "1.2.0",
            "_model_name": "LayoutModel",
            "_view_count": null,
            "_view_module": "@jupyter-widgets/base",
            "_view_module_version": "1.2.0",
            "_view_name": "LayoutView",
            "align_content": null,
            "align_items": null,
            "align_self": null,
            "border": null,
            "bottom": null,
            "display": null,
            "flex": null,
            "flex_flow": null,
            "grid_area": null,
            "grid_auto_columns": null,
            "grid_auto_flow": null,
            "grid_auto_rows": null,
            "grid_column": null,
            "grid_gap": null,
            "grid_row": null,
            "grid_template_areas": null,
            "grid_template_columns": null,
            "grid_template_rows": null,
            "height": null,
            "justify_content": null,
            "justify_items": null,
            "left": null,
            "margin": null,
            "max_height": null,
            "max_width": null,
            "min_height": null,
            "min_width": null,
            "object_fit": null,
            "object_position": null,
            "order": null,
            "overflow": null,
            "overflow_x": null,
            "overflow_y": null,
            "padding": null,
            "right": null,
            "top": null,
            "visibility": null,
            "width": null
          }
        },
        "995a84c3841c42dfa024cb2b0a5ae7fe": {
          "model_module": "@jupyter-widgets/controls",
          "model_name": "DescriptionStyleModel",
          "model_module_version": "1.5.0",
          "state": {
            "_model_module": "@jupyter-widgets/controls",
            "_model_module_version": "1.5.0",
            "_model_name": "DescriptionStyleModel",
            "_view_count": null,
            "_view_module": "@jupyter-widgets/base",
            "_view_module_version": "1.2.0",
            "_view_name": "StyleView",
            "description_width": ""
          }
        },
        "e4a4775d27df465d9c3bee5ddf6cc5e9": {
          "model_module": "@jupyter-widgets/base",
          "model_name": "LayoutModel",
          "model_module_version": "1.2.0",
          "state": {
            "_model_module": "@jupyter-widgets/base",
            "_model_module_version": "1.2.0",
            "_model_name": "LayoutModel",
            "_view_count": null,
            "_view_module": "@jupyter-widgets/base",
            "_view_module_version": "1.2.0",
            "_view_name": "LayoutView",
            "align_content": null,
            "align_items": null,
            "align_self": null,
            "border": null,
            "bottom": null,
            "display": null,
            "flex": null,
            "flex_flow": null,
            "grid_area": null,
            "grid_auto_columns": null,
            "grid_auto_flow": null,
            "grid_auto_rows": null,
            "grid_column": null,
            "grid_gap": null,
            "grid_row": null,
            "grid_template_areas": null,
            "grid_template_columns": null,
            "grid_template_rows": null,
            "height": null,
            "justify_content": null,
            "justify_items": null,
            "left": null,
            "margin": null,
            "max_height": null,
            "max_width": null,
            "min_height": null,
            "min_width": null,
            "object_fit": null,
            "object_position": null,
            "order": null,
            "overflow": null,
            "overflow_x": null,
            "overflow_y": null,
            "padding": null,
            "right": null,
            "top": null,
            "visibility": null,
            "width": null
          }
        },
        "61daef6174594605b398a44e4a5c85a5": {
          "model_module": "@jupyter-widgets/controls",
          "model_name": "ProgressStyleModel",
          "model_module_version": "1.5.0",
          "state": {
            "_model_module": "@jupyter-widgets/controls",
            "_model_module_version": "1.5.0",
            "_model_name": "ProgressStyleModel",
            "_view_count": null,
            "_view_module": "@jupyter-widgets/base",
            "_view_module_version": "1.2.0",
            "_view_name": "StyleView",
            "bar_color": null,
            "description_width": ""
          }
        },
        "4a4590f5047a40b39b94fe3ebc309697": {
          "model_module": "@jupyter-widgets/base",
          "model_name": "LayoutModel",
          "model_module_version": "1.2.0",
          "state": {
            "_model_module": "@jupyter-widgets/base",
            "_model_module_version": "1.2.0",
            "_model_name": "LayoutModel",
            "_view_count": null,
            "_view_module": "@jupyter-widgets/base",
            "_view_module_version": "1.2.0",
            "_view_name": "LayoutView",
            "align_content": null,
            "align_items": null,
            "align_self": null,
            "border": null,
            "bottom": null,
            "display": null,
            "flex": null,
            "flex_flow": null,
            "grid_area": null,
            "grid_auto_columns": null,
            "grid_auto_flow": null,
            "grid_auto_rows": null,
            "grid_column": null,
            "grid_gap": null,
            "grid_row": null,
            "grid_template_areas": null,
            "grid_template_columns": null,
            "grid_template_rows": null,
            "height": null,
            "justify_content": null,
            "justify_items": null,
            "left": null,
            "margin": null,
            "max_height": null,
            "max_width": null,
            "min_height": null,
            "min_width": null,
            "object_fit": null,
            "object_position": null,
            "order": null,
            "overflow": null,
            "overflow_x": null,
            "overflow_y": null,
            "padding": null,
            "right": null,
            "top": null,
            "visibility": null,
            "width": null
          }
        },
        "696a47f23db14e44a40632c8de2f6a1d": {
          "model_module": "@jupyter-widgets/controls",
          "model_name": "DescriptionStyleModel",
          "model_module_version": "1.5.0",
          "state": {
            "_model_module": "@jupyter-widgets/controls",
            "_model_module_version": "1.5.0",
            "_model_name": "DescriptionStyleModel",
            "_view_count": null,
            "_view_module": "@jupyter-widgets/base",
            "_view_module_version": "1.2.0",
            "_view_name": "StyleView",
            "description_width": ""
          }
        },
        "ba259abe1686419988f4624f1117af95": {
          "model_module": "@jupyter-widgets/controls",
          "model_name": "HBoxModel",
          "model_module_version": "1.5.0",
          "state": {
            "_dom_classes": [],
            "_model_module": "@jupyter-widgets/controls",
            "_model_module_version": "1.5.0",
            "_model_name": "HBoxModel",
            "_view_count": null,
            "_view_module": "@jupyter-widgets/controls",
            "_view_module_version": "1.5.0",
            "_view_name": "HBoxView",
            "box_style": "",
            "children": [
              "IPY_MODEL_77d1278725d74428bfba1b24b7ab6158",
              "IPY_MODEL_d2842c6e9e174b2688ebb6200dcd6273",
              "IPY_MODEL_f563e711779f4159b2f51364079e8c41"
            ],
            "layout": "IPY_MODEL_e8351aacb4d74860985ac500bfc40120"
          }
        },
        "77d1278725d74428bfba1b24b7ab6158": {
          "model_module": "@jupyter-widgets/controls",
          "model_name": "HTMLModel",
          "model_module_version": "1.5.0",
          "state": {
            "_dom_classes": [],
            "_model_module": "@jupyter-widgets/controls",
            "_model_module_version": "1.5.0",
            "_model_name": "HTMLModel",
            "_view_count": null,
            "_view_module": "@jupyter-widgets/controls",
            "_view_module_version": "1.5.0",
            "_view_name": "HTMLView",
            "description": "",
            "description_tooltip": null,
            "layout": "IPY_MODEL_0176e5a769904b21a06b97759c2c7ad4",
            "placeholder": "​",
            "style": "IPY_MODEL_58f78c7ed246476cb4050f1b8c270404",
            "value": "tokenizer.json: 100%"
          }
        },
        "d2842c6e9e174b2688ebb6200dcd6273": {
          "model_module": "@jupyter-widgets/controls",
          "model_name": "FloatProgressModel",
          "model_module_version": "1.5.0",
          "state": {
            "_dom_classes": [],
            "_model_module": "@jupyter-widgets/controls",
            "_model_module_version": "1.5.0",
            "_model_name": "FloatProgressModel",
            "_view_count": null,
            "_view_module": "@jupyter-widgets/controls",
            "_view_module_version": "1.5.0",
            "_view_name": "ProgressView",
            "bar_style": "success",
            "description": "",
            "description_tooltip": null,
            "layout": "IPY_MODEL_fdb00b7254ea4506a6cbb89fe0ca11fb",
            "max": 1355863,
            "min": 0,
            "orientation": "horizontal",
            "style": "IPY_MODEL_d9f4ddf0d3a14b4791ecc05dbeaa977c",
            "value": 1355863
          }
        },
        "f563e711779f4159b2f51364079e8c41": {
          "model_module": "@jupyter-widgets/controls",
          "model_name": "HTMLModel",
          "model_module_version": "1.5.0",
          "state": {
            "_dom_classes": [],
            "_model_module": "@jupyter-widgets/controls",
            "_model_module_version": "1.5.0",
            "_model_name": "HTMLModel",
            "_view_count": null,
            "_view_module": "@jupyter-widgets/controls",
            "_view_module_version": "1.5.0",
            "_view_name": "HTMLView",
            "description": "",
            "description_tooltip": null,
            "layout": "IPY_MODEL_92307769308d419aba4b6f15f231e5e3",
            "placeholder": "​",
            "style": "IPY_MODEL_35648cd6a1f44dafab166926a6ba7937",
            "value": " 1.36M/1.36M [00:00&lt;00:00, 4.12MB/s]"
          }
        },
        "e8351aacb4d74860985ac500bfc40120": {
          "model_module": "@jupyter-widgets/base",
          "model_name": "LayoutModel",
          "model_module_version": "1.2.0",
          "state": {
            "_model_module": "@jupyter-widgets/base",
            "_model_module_version": "1.2.0",
            "_model_name": "LayoutModel",
            "_view_count": null,
            "_view_module": "@jupyter-widgets/base",
            "_view_module_version": "1.2.0",
            "_view_name": "LayoutView",
            "align_content": null,
            "align_items": null,
            "align_self": null,
            "border": null,
            "bottom": null,
            "display": null,
            "flex": null,
            "flex_flow": null,
            "grid_area": null,
            "grid_auto_columns": null,
            "grid_auto_flow": null,
            "grid_auto_rows": null,
            "grid_column": null,
            "grid_gap": null,
            "grid_row": null,
            "grid_template_areas": null,
            "grid_template_columns": null,
            "grid_template_rows": null,
            "height": null,
            "justify_content": null,
            "justify_items": null,
            "left": null,
            "margin": null,
            "max_height": null,
            "max_width": null,
            "min_height": null,
            "min_width": null,
            "object_fit": null,
            "object_position": null,
            "order": null,
            "overflow": null,
            "overflow_x": null,
            "overflow_y": null,
            "padding": null,
            "right": null,
            "top": null,
            "visibility": null,
            "width": null
          }
        },
        "0176e5a769904b21a06b97759c2c7ad4": {
          "model_module": "@jupyter-widgets/base",
          "model_name": "LayoutModel",
          "model_module_version": "1.2.0",
          "state": {
            "_model_module": "@jupyter-widgets/base",
            "_model_module_version": "1.2.0",
            "_model_name": "LayoutModel",
            "_view_count": null,
            "_view_module": "@jupyter-widgets/base",
            "_view_module_version": "1.2.0",
            "_view_name": "LayoutView",
            "align_content": null,
            "align_items": null,
            "align_self": null,
            "border": null,
            "bottom": null,
            "display": null,
            "flex": null,
            "flex_flow": null,
            "grid_area": null,
            "grid_auto_columns": null,
            "grid_auto_flow": null,
            "grid_auto_rows": null,
            "grid_column": null,
            "grid_gap": null,
            "grid_row": null,
            "grid_template_areas": null,
            "grid_template_columns": null,
            "grid_template_rows": null,
            "height": null,
            "justify_content": null,
            "justify_items": null,
            "left": null,
            "margin": null,
            "max_height": null,
            "max_width": null,
            "min_height": null,
            "min_width": null,
            "object_fit": null,
            "object_position": null,
            "order": null,
            "overflow": null,
            "overflow_x": null,
            "overflow_y": null,
            "padding": null,
            "right": null,
            "top": null,
            "visibility": null,
            "width": null
          }
        },
        "58f78c7ed246476cb4050f1b8c270404": {
          "model_module": "@jupyter-widgets/controls",
          "model_name": "DescriptionStyleModel",
          "model_module_version": "1.5.0",
          "state": {
            "_model_module": "@jupyter-widgets/controls",
            "_model_module_version": "1.5.0",
            "_model_name": "DescriptionStyleModel",
            "_view_count": null,
            "_view_module": "@jupyter-widgets/base",
            "_view_module_version": "1.2.0",
            "_view_name": "StyleView",
            "description_width": ""
          }
        },
        "fdb00b7254ea4506a6cbb89fe0ca11fb": {
          "model_module": "@jupyter-widgets/base",
          "model_name": "LayoutModel",
          "model_module_version": "1.2.0",
          "state": {
            "_model_module": "@jupyter-widgets/base",
            "_model_module_version": "1.2.0",
            "_model_name": "LayoutModel",
            "_view_count": null,
            "_view_module": "@jupyter-widgets/base",
            "_view_module_version": "1.2.0",
            "_view_name": "LayoutView",
            "align_content": null,
            "align_items": null,
            "align_self": null,
            "border": null,
            "bottom": null,
            "display": null,
            "flex": null,
            "flex_flow": null,
            "grid_area": null,
            "grid_auto_columns": null,
            "grid_auto_flow": null,
            "grid_auto_rows": null,
            "grid_column": null,
            "grid_gap": null,
            "grid_row": null,
            "grid_template_areas": null,
            "grid_template_columns": null,
            "grid_template_rows": null,
            "height": null,
            "justify_content": null,
            "justify_items": null,
            "left": null,
            "margin": null,
            "max_height": null,
            "max_width": null,
            "min_height": null,
            "min_width": null,
            "object_fit": null,
            "object_position": null,
            "order": null,
            "overflow": null,
            "overflow_x": null,
            "overflow_y": null,
            "padding": null,
            "right": null,
            "top": null,
            "visibility": null,
            "width": null
          }
        },
        "d9f4ddf0d3a14b4791ecc05dbeaa977c": {
          "model_module": "@jupyter-widgets/controls",
          "model_name": "ProgressStyleModel",
          "model_module_version": "1.5.0",
          "state": {
            "_model_module": "@jupyter-widgets/controls",
            "_model_module_version": "1.5.0",
            "_model_name": "ProgressStyleModel",
            "_view_count": null,
            "_view_module": "@jupyter-widgets/base",
            "_view_module_version": "1.2.0",
            "_view_name": "StyleView",
            "bar_color": null,
            "description_width": ""
          }
        },
        "92307769308d419aba4b6f15f231e5e3": {
          "model_module": "@jupyter-widgets/base",
          "model_name": "LayoutModel",
          "model_module_version": "1.2.0",
          "state": {
            "_model_module": "@jupyter-widgets/base",
            "_model_module_version": "1.2.0",
            "_model_name": "LayoutModel",
            "_view_count": null,
            "_view_module": "@jupyter-widgets/base",
            "_view_module_version": "1.2.0",
            "_view_name": "LayoutView",
            "align_content": null,
            "align_items": null,
            "align_self": null,
            "border": null,
            "bottom": null,
            "display": null,
            "flex": null,
            "flex_flow": null,
            "grid_area": null,
            "grid_auto_columns": null,
            "grid_auto_flow": null,
            "grid_auto_rows": null,
            "grid_column": null,
            "grid_gap": null,
            "grid_row": null,
            "grid_template_areas": null,
            "grid_template_columns": null,
            "grid_template_rows": null,
            "height": null,
            "justify_content": null,
            "justify_items": null,
            "left": null,
            "margin": null,
            "max_height": null,
            "max_width": null,
            "min_height": null,
            "min_width": null,
            "object_fit": null,
            "object_position": null,
            "order": null,
            "overflow": null,
            "overflow_x": null,
            "overflow_y": null,
            "padding": null,
            "right": null,
            "top": null,
            "visibility": null,
            "width": null
          }
        },
        "35648cd6a1f44dafab166926a6ba7937": {
          "model_module": "@jupyter-widgets/controls",
          "model_name": "DescriptionStyleModel",
          "model_module_version": "1.5.0",
          "state": {
            "_model_module": "@jupyter-widgets/controls",
            "_model_module_version": "1.5.0",
            "_model_name": "DescriptionStyleModel",
            "_view_count": null,
            "_view_module": "@jupyter-widgets/base",
            "_view_module_version": "1.2.0",
            "_view_name": "StyleView",
            "description_width": ""
          }
        },
        "cedb54182ef04fb0b0cd1c38eb3fd2f3": {
          "model_module": "@jupyter-widgets/controls",
          "model_name": "HBoxModel",
          "model_module_version": "1.5.0",
          "state": {
            "_dom_classes": [],
            "_model_module": "@jupyter-widgets/controls",
            "_model_module_version": "1.5.0",
            "_model_name": "HBoxModel",
            "_view_count": null,
            "_view_module": "@jupyter-widgets/controls",
            "_view_module_version": "1.5.0",
            "_view_name": "HBoxView",
            "box_style": "",
            "children": [
              "IPY_MODEL_64bed42fc82649e69601334b2ef84729",
              "IPY_MODEL_1e460de103234a45b887d446031e79d6",
              "IPY_MODEL_92facced5c0d46e786b7b4557ba0c57a"
            ],
            "layout": "IPY_MODEL_4d23a93212e14e7d9e99c2a740c5b340"
          }
        },
        "64bed42fc82649e69601334b2ef84729": {
          "model_module": "@jupyter-widgets/controls",
          "model_name": "HTMLModel",
          "model_module_version": "1.5.0",
          "state": {
            "_dom_classes": [],
            "_model_module": "@jupyter-widgets/controls",
            "_model_module_version": "1.5.0",
            "_model_name": "HTMLModel",
            "_view_count": null,
            "_view_module": "@jupyter-widgets/controls",
            "_view_module_version": "1.5.0",
            "_view_name": "HTMLView",
            "description": "",
            "description_tooltip": null,
            "layout": "IPY_MODEL_26952966a2414e87b3af1da382e3ec37",
            "placeholder": "​",
            "style": "IPY_MODEL_9f94572f9f994644a210ff448079f705",
            "value": "Map: 100%"
          }
        },
        "1e460de103234a45b887d446031e79d6": {
          "model_module": "@jupyter-widgets/controls",
          "model_name": "FloatProgressModel",
          "model_module_version": "1.5.0",
          "state": {
            "_dom_classes": [],
            "_model_module": "@jupyter-widgets/controls",
            "_model_module_version": "1.5.0",
            "_model_name": "FloatProgressModel",
            "_view_count": null,
            "_view_module": "@jupyter-widgets/controls",
            "_view_module_version": "1.5.0",
            "_view_name": "ProgressView",
            "bar_style": "success",
            "description": "",
            "description_tooltip": null,
            "layout": "IPY_MODEL_977dbeda2ad14801bbb929eb259c18ae",
            "max": 3668,
            "min": 0,
            "orientation": "horizontal",
            "style": "IPY_MODEL_ed0361fc54e94b94b8e68ce30fb3dfe6",
            "value": 3668
          }
        },
        "92facced5c0d46e786b7b4557ba0c57a": {
          "model_module": "@jupyter-widgets/controls",
          "model_name": "HTMLModel",
          "model_module_version": "1.5.0",
          "state": {
            "_dom_classes": [],
            "_model_module": "@jupyter-widgets/controls",
            "_model_module_version": "1.5.0",
            "_model_name": "HTMLModel",
            "_view_count": null,
            "_view_module": "@jupyter-widgets/controls",
            "_view_module_version": "1.5.0",
            "_view_name": "HTMLView",
            "description": "",
            "description_tooltip": null,
            "layout": "IPY_MODEL_1bfbb45d328a47fe8bdbc66cedecf2e6",
            "placeholder": "​",
            "style": "IPY_MODEL_ef3a4bd0cbdb41d699823733ccef933e",
            "value": " 3668/3668 [00:01&lt;00:00, 3581.81 examples/s]"
          }
        },
        "4d23a93212e14e7d9e99c2a740c5b340": {
          "model_module": "@jupyter-widgets/base",
          "model_name": "LayoutModel",
          "model_module_version": "1.2.0",
          "state": {
            "_model_module": "@jupyter-widgets/base",
            "_model_module_version": "1.2.0",
            "_model_name": "LayoutModel",
            "_view_count": null,
            "_view_module": "@jupyter-widgets/base",
            "_view_module_version": "1.2.0",
            "_view_name": "LayoutView",
            "align_content": null,
            "align_items": null,
            "align_self": null,
            "border": null,
            "bottom": null,
            "display": null,
            "flex": null,
            "flex_flow": null,
            "grid_area": null,
            "grid_auto_columns": null,
            "grid_auto_flow": null,
            "grid_auto_rows": null,
            "grid_column": null,
            "grid_gap": null,
            "grid_row": null,
            "grid_template_areas": null,
            "grid_template_columns": null,
            "grid_template_rows": null,
            "height": null,
            "justify_content": null,
            "justify_items": null,
            "left": null,
            "margin": null,
            "max_height": null,
            "max_width": null,
            "min_height": null,
            "min_width": null,
            "object_fit": null,
            "object_position": null,
            "order": null,
            "overflow": null,
            "overflow_x": null,
            "overflow_y": null,
            "padding": null,
            "right": null,
            "top": null,
            "visibility": null,
            "width": null
          }
        },
        "26952966a2414e87b3af1da382e3ec37": {
          "model_module": "@jupyter-widgets/base",
          "model_name": "LayoutModel",
          "model_module_version": "1.2.0",
          "state": {
            "_model_module": "@jupyter-widgets/base",
            "_model_module_version": "1.2.0",
            "_model_name": "LayoutModel",
            "_view_count": null,
            "_view_module": "@jupyter-widgets/base",
            "_view_module_version": "1.2.0",
            "_view_name": "LayoutView",
            "align_content": null,
            "align_items": null,
            "align_self": null,
            "border": null,
            "bottom": null,
            "display": null,
            "flex": null,
            "flex_flow": null,
            "grid_area": null,
            "grid_auto_columns": null,
            "grid_auto_flow": null,
            "grid_auto_rows": null,
            "grid_column": null,
            "grid_gap": null,
            "grid_row": null,
            "grid_template_areas": null,
            "grid_template_columns": null,
            "grid_template_rows": null,
            "height": null,
            "justify_content": null,
            "justify_items": null,
            "left": null,
            "margin": null,
            "max_height": null,
            "max_width": null,
            "min_height": null,
            "min_width": null,
            "object_fit": null,
            "object_position": null,
            "order": null,
            "overflow": null,
            "overflow_x": null,
            "overflow_y": null,
            "padding": null,
            "right": null,
            "top": null,
            "visibility": null,
            "width": null
          }
        },
        "9f94572f9f994644a210ff448079f705": {
          "model_module": "@jupyter-widgets/controls",
          "model_name": "DescriptionStyleModel",
          "model_module_version": "1.5.0",
          "state": {
            "_model_module": "@jupyter-widgets/controls",
            "_model_module_version": "1.5.0",
            "_model_name": "DescriptionStyleModel",
            "_view_count": null,
            "_view_module": "@jupyter-widgets/base",
            "_view_module_version": "1.2.0",
            "_view_name": "StyleView",
            "description_width": ""
          }
        },
        "977dbeda2ad14801bbb929eb259c18ae": {
          "model_module": "@jupyter-widgets/base",
          "model_name": "LayoutModel",
          "model_module_version": "1.2.0",
          "state": {
            "_model_module": "@jupyter-widgets/base",
            "_model_module_version": "1.2.0",
            "_model_name": "LayoutModel",
            "_view_count": null,
            "_view_module": "@jupyter-widgets/base",
            "_view_module_version": "1.2.0",
            "_view_name": "LayoutView",
            "align_content": null,
            "align_items": null,
            "align_self": null,
            "border": null,
            "bottom": null,
            "display": null,
            "flex": null,
            "flex_flow": null,
            "grid_area": null,
            "grid_auto_columns": null,
            "grid_auto_flow": null,
            "grid_auto_rows": null,
            "grid_column": null,
            "grid_gap": null,
            "grid_row": null,
            "grid_template_areas": null,
            "grid_template_columns": null,
            "grid_template_rows": null,
            "height": null,
            "justify_content": null,
            "justify_items": null,
            "left": null,
            "margin": null,
            "max_height": null,
            "max_width": null,
            "min_height": null,
            "min_width": null,
            "object_fit": null,
            "object_position": null,
            "order": null,
            "overflow": null,
            "overflow_x": null,
            "overflow_y": null,
            "padding": null,
            "right": null,
            "top": null,
            "visibility": null,
            "width": null
          }
        },
        "ed0361fc54e94b94b8e68ce30fb3dfe6": {
          "model_module": "@jupyter-widgets/controls",
          "model_name": "ProgressStyleModel",
          "model_module_version": "1.5.0",
          "state": {
            "_model_module": "@jupyter-widgets/controls",
            "_model_module_version": "1.5.0",
            "_model_name": "ProgressStyleModel",
            "_view_count": null,
            "_view_module": "@jupyter-widgets/base",
            "_view_module_version": "1.2.0",
            "_view_name": "StyleView",
            "bar_color": null,
            "description_width": ""
          }
        },
        "1bfbb45d328a47fe8bdbc66cedecf2e6": {
          "model_module": "@jupyter-widgets/base",
          "model_name": "LayoutModel",
          "model_module_version": "1.2.0",
          "state": {
            "_model_module": "@jupyter-widgets/base",
            "_model_module_version": "1.2.0",
            "_model_name": "LayoutModel",
            "_view_count": null,
            "_view_module": "@jupyter-widgets/base",
            "_view_module_version": "1.2.0",
            "_view_name": "LayoutView",
            "align_content": null,
            "align_items": null,
            "align_self": null,
            "border": null,
            "bottom": null,
            "display": null,
            "flex": null,
            "flex_flow": null,
            "grid_area": null,
            "grid_auto_columns": null,
            "grid_auto_flow": null,
            "grid_auto_rows": null,
            "grid_column": null,
            "grid_gap": null,
            "grid_row": null,
            "grid_template_areas": null,
            "grid_template_columns": null,
            "grid_template_rows": null,
            "height": null,
            "justify_content": null,
            "justify_items": null,
            "left": null,
            "margin": null,
            "max_height": null,
            "max_width": null,
            "min_height": null,
            "min_width": null,
            "object_fit": null,
            "object_position": null,
            "order": null,
            "overflow": null,
            "overflow_x": null,
            "overflow_y": null,
            "padding": null,
            "right": null,
            "top": null,
            "visibility": null,
            "width": null
          }
        },
        "ef3a4bd0cbdb41d699823733ccef933e": {
          "model_module": "@jupyter-widgets/controls",
          "model_name": "DescriptionStyleModel",
          "model_module_version": "1.5.0",
          "state": {
            "_model_module": "@jupyter-widgets/controls",
            "_model_module_version": "1.5.0",
            "_model_name": "DescriptionStyleModel",
            "_view_count": null,
            "_view_module": "@jupyter-widgets/base",
            "_view_module_version": "1.2.0",
            "_view_name": "StyleView",
            "description_width": ""
          }
        },
        "cfed27f50c0b4becad9b446ec03462d0": {
          "model_module": "@jupyter-widgets/controls",
          "model_name": "HBoxModel",
          "model_module_version": "1.5.0",
          "state": {
            "_dom_classes": [],
            "_model_module": "@jupyter-widgets/controls",
            "_model_module_version": "1.5.0",
            "_model_name": "HBoxModel",
            "_view_count": null,
            "_view_module": "@jupyter-widgets/controls",
            "_view_module_version": "1.5.0",
            "_view_name": "HBoxView",
            "box_style": "",
            "children": [
              "IPY_MODEL_ed9169c7387846099fd5d95a289495bc",
              "IPY_MODEL_f451f0608a734aee9e8e0d23a54a6437",
              "IPY_MODEL_9fcc7ab86fb344f8b301e398bf49f5bb"
            ],
            "layout": "IPY_MODEL_4e586f83bf074104aa7d4b9d5351f1b3"
          }
        },
        "ed9169c7387846099fd5d95a289495bc": {
          "model_module": "@jupyter-widgets/controls",
          "model_name": "HTMLModel",
          "model_module_version": "1.5.0",
          "state": {
            "_dom_classes": [],
            "_model_module": "@jupyter-widgets/controls",
            "_model_module_version": "1.5.0",
            "_model_name": "HTMLModel",
            "_view_count": null,
            "_view_module": "@jupyter-widgets/controls",
            "_view_module_version": "1.5.0",
            "_view_name": "HTMLView",
            "description": "",
            "description_tooltip": null,
            "layout": "IPY_MODEL_5230b10468cc441faa2e5b23593113f9",
            "placeholder": "​",
            "style": "IPY_MODEL_ee38414dce94442da82f8db0022c195d",
            "value": "Map: 100%"
          }
        },
        "f451f0608a734aee9e8e0d23a54a6437": {
          "model_module": "@jupyter-widgets/controls",
          "model_name": "FloatProgressModel",
          "model_module_version": "1.5.0",
          "state": {
            "_dom_classes": [],
            "_model_module": "@jupyter-widgets/controls",
            "_model_module_version": "1.5.0",
            "_model_name": "FloatProgressModel",
            "_view_count": null,
            "_view_module": "@jupyter-widgets/controls",
            "_view_module_version": "1.5.0",
            "_view_name": "ProgressView",
            "bar_style": "success",
            "description": "",
            "description_tooltip": null,
            "layout": "IPY_MODEL_d389f52570f84a1cb4f830077db96761",
            "max": 408,
            "min": 0,
            "orientation": "horizontal",
            "style": "IPY_MODEL_48ceedaddb7c424d94c5ad95fa58f65a",
            "value": 408
          }
        },
        "9fcc7ab86fb344f8b301e398bf49f5bb": {
          "model_module": "@jupyter-widgets/controls",
          "model_name": "HTMLModel",
          "model_module_version": "1.5.0",
          "state": {
            "_dom_classes": [],
            "_model_module": "@jupyter-widgets/controls",
            "_model_module_version": "1.5.0",
            "_model_name": "HTMLModel",
            "_view_count": null,
            "_view_module": "@jupyter-widgets/controls",
            "_view_module_version": "1.5.0",
            "_view_name": "HTMLView",
            "description": "",
            "description_tooltip": null,
            "layout": "IPY_MODEL_179057b8eef04d35a11a7c8ded77d620",
            "placeholder": "​",
            "style": "IPY_MODEL_ac968f5bafb44163abc83e9dcfc9a58c",
            "value": " 408/408 [00:00&lt;00:00, 3110.12 examples/s]"
          }
        },
        "4e586f83bf074104aa7d4b9d5351f1b3": {
          "model_module": "@jupyter-widgets/base",
          "model_name": "LayoutModel",
          "model_module_version": "1.2.0",
          "state": {
            "_model_module": "@jupyter-widgets/base",
            "_model_module_version": "1.2.0",
            "_model_name": "LayoutModel",
            "_view_count": null,
            "_view_module": "@jupyter-widgets/base",
            "_view_module_version": "1.2.0",
            "_view_name": "LayoutView",
            "align_content": null,
            "align_items": null,
            "align_self": null,
            "border": null,
            "bottom": null,
            "display": null,
            "flex": null,
            "flex_flow": null,
            "grid_area": null,
            "grid_auto_columns": null,
            "grid_auto_flow": null,
            "grid_auto_rows": null,
            "grid_column": null,
            "grid_gap": null,
            "grid_row": null,
            "grid_template_areas": null,
            "grid_template_columns": null,
            "grid_template_rows": null,
            "height": null,
            "justify_content": null,
            "justify_items": null,
            "left": null,
            "margin": null,
            "max_height": null,
            "max_width": null,
            "min_height": null,
            "min_width": null,
            "object_fit": null,
            "object_position": null,
            "order": null,
            "overflow": null,
            "overflow_x": null,
            "overflow_y": null,
            "padding": null,
            "right": null,
            "top": null,
            "visibility": null,
            "width": null
          }
        },
        "5230b10468cc441faa2e5b23593113f9": {
          "model_module": "@jupyter-widgets/base",
          "model_name": "LayoutModel",
          "model_module_version": "1.2.0",
          "state": {
            "_model_module": "@jupyter-widgets/base",
            "_model_module_version": "1.2.0",
            "_model_name": "LayoutModel",
            "_view_count": null,
            "_view_module": "@jupyter-widgets/base",
            "_view_module_version": "1.2.0",
            "_view_name": "LayoutView",
            "align_content": null,
            "align_items": null,
            "align_self": null,
            "border": null,
            "bottom": null,
            "display": null,
            "flex": null,
            "flex_flow": null,
            "grid_area": null,
            "grid_auto_columns": null,
            "grid_auto_flow": null,
            "grid_auto_rows": null,
            "grid_column": null,
            "grid_gap": null,
            "grid_row": null,
            "grid_template_areas": null,
            "grid_template_columns": null,
            "grid_template_rows": null,
            "height": null,
            "justify_content": null,
            "justify_items": null,
            "left": null,
            "margin": null,
            "max_height": null,
            "max_width": null,
            "min_height": null,
            "min_width": null,
            "object_fit": null,
            "object_position": null,
            "order": null,
            "overflow": null,
            "overflow_x": null,
            "overflow_y": null,
            "padding": null,
            "right": null,
            "top": null,
            "visibility": null,
            "width": null
          }
        },
        "ee38414dce94442da82f8db0022c195d": {
          "model_module": "@jupyter-widgets/controls",
          "model_name": "DescriptionStyleModel",
          "model_module_version": "1.5.0",
          "state": {
            "_model_module": "@jupyter-widgets/controls",
            "_model_module_version": "1.5.0",
            "_model_name": "DescriptionStyleModel",
            "_view_count": null,
            "_view_module": "@jupyter-widgets/base",
            "_view_module_version": "1.2.0",
            "_view_name": "StyleView",
            "description_width": ""
          }
        },
        "d389f52570f84a1cb4f830077db96761": {
          "model_module": "@jupyter-widgets/base",
          "model_name": "LayoutModel",
          "model_module_version": "1.2.0",
          "state": {
            "_model_module": "@jupyter-widgets/base",
            "_model_module_version": "1.2.0",
            "_model_name": "LayoutModel",
            "_view_count": null,
            "_view_module": "@jupyter-widgets/base",
            "_view_module_version": "1.2.0",
            "_view_name": "LayoutView",
            "align_content": null,
            "align_items": null,
            "align_self": null,
            "border": null,
            "bottom": null,
            "display": null,
            "flex": null,
            "flex_flow": null,
            "grid_area": null,
            "grid_auto_columns": null,
            "grid_auto_flow": null,
            "grid_auto_rows": null,
            "grid_column": null,
            "grid_gap": null,
            "grid_row": null,
            "grid_template_areas": null,
            "grid_template_columns": null,
            "grid_template_rows": null,
            "height": null,
            "justify_content": null,
            "justify_items": null,
            "left": null,
            "margin": null,
            "max_height": null,
            "max_width": null,
            "min_height": null,
            "min_width": null,
            "object_fit": null,
            "object_position": null,
            "order": null,
            "overflow": null,
            "overflow_x": null,
            "overflow_y": null,
            "padding": null,
            "right": null,
            "top": null,
            "visibility": null,
            "width": null
          }
        },
        "48ceedaddb7c424d94c5ad95fa58f65a": {
          "model_module": "@jupyter-widgets/controls",
          "model_name": "ProgressStyleModel",
          "model_module_version": "1.5.0",
          "state": {
            "_model_module": "@jupyter-widgets/controls",
            "_model_module_version": "1.5.0",
            "_model_name": "ProgressStyleModel",
            "_view_count": null,
            "_view_module": "@jupyter-widgets/base",
            "_view_module_version": "1.2.0",
            "_view_name": "StyleView",
            "bar_color": null,
            "description_width": ""
          }
        },
        "179057b8eef04d35a11a7c8ded77d620": {
          "model_module": "@jupyter-widgets/base",
          "model_name": "LayoutModel",
          "model_module_version": "1.2.0",
          "state": {
            "_model_module": "@jupyter-widgets/base",
            "_model_module_version": "1.2.0",
            "_model_name": "LayoutModel",
            "_view_count": null,
            "_view_module": "@jupyter-widgets/base",
            "_view_module_version": "1.2.0",
            "_view_name": "LayoutView",
            "align_content": null,
            "align_items": null,
            "align_self": null,
            "border": null,
            "bottom": null,
            "display": null,
            "flex": null,
            "flex_flow": null,
            "grid_area": null,
            "grid_auto_columns": null,
            "grid_auto_flow": null,
            "grid_auto_rows": null,
            "grid_column": null,
            "grid_gap": null,
            "grid_row": null,
            "grid_template_areas": null,
            "grid_template_columns": null,
            "grid_template_rows": null,
            "height": null,
            "justify_content": null,
            "justify_items": null,
            "left": null,
            "margin": null,
            "max_height": null,
            "max_width": null,
            "min_height": null,
            "min_width": null,
            "object_fit": null,
            "object_position": null,
            "order": null,
            "overflow": null,
            "overflow_x": null,
            "overflow_y": null,
            "padding": null,
            "right": null,
            "top": null,
            "visibility": null,
            "width": null
          }
        },
        "ac968f5bafb44163abc83e9dcfc9a58c": {
          "model_module": "@jupyter-widgets/controls",
          "model_name": "DescriptionStyleModel",
          "model_module_version": "1.5.0",
          "state": {
            "_model_module": "@jupyter-widgets/controls",
            "_model_module_version": "1.5.0",
            "_model_name": "DescriptionStyleModel",
            "_view_count": null,
            "_view_module": "@jupyter-widgets/base",
            "_view_module_version": "1.2.0",
            "_view_name": "StyleView",
            "description_width": ""
          }
        },
        "2b7ed430590f4538b69c6b5f2f45946b": {
          "model_module": "@jupyter-widgets/controls",
          "model_name": "HBoxModel",
          "model_module_version": "1.5.0",
          "state": {
            "_dom_classes": [],
            "_model_module": "@jupyter-widgets/controls",
            "_model_module_version": "1.5.0",
            "_model_name": "HBoxModel",
            "_view_count": null,
            "_view_module": "@jupyter-widgets/controls",
            "_view_module_version": "1.5.0",
            "_view_name": "HBoxView",
            "box_style": "",
            "children": [
              "IPY_MODEL_d28df3beed1e4d669b49eaf54bbcb36f",
              "IPY_MODEL_062e9f34e63d4315828dd085539b9a72",
              "IPY_MODEL_eb9d351991cb41f199152ca0c9e752de"
            ],
            "layout": "IPY_MODEL_eb013dce9cdb4c3baa444ac4b007be69"
          }
        },
        "d28df3beed1e4d669b49eaf54bbcb36f": {
          "model_module": "@jupyter-widgets/controls",
          "model_name": "HTMLModel",
          "model_module_version": "1.5.0",
          "state": {
            "_dom_classes": [],
            "_model_module": "@jupyter-widgets/controls",
            "_model_module_version": "1.5.0",
            "_model_name": "HTMLModel",
            "_view_count": null,
            "_view_module": "@jupyter-widgets/controls",
            "_view_module_version": "1.5.0",
            "_view_name": "HTMLView",
            "description": "",
            "description_tooltip": null,
            "layout": "IPY_MODEL_8dfc150d0721403283aa1d2ccf7c6414",
            "placeholder": "​",
            "style": "IPY_MODEL_314366eeda5a4369818470023779e76b",
            "value": "Map: 100%"
          }
        },
        "062e9f34e63d4315828dd085539b9a72": {
          "model_module": "@jupyter-widgets/controls",
          "model_name": "FloatProgressModel",
          "model_module_version": "1.5.0",
          "state": {
            "_dom_classes": [],
            "_model_module": "@jupyter-widgets/controls",
            "_model_module_version": "1.5.0",
            "_model_name": "FloatProgressModel",
            "_view_count": null,
            "_view_module": "@jupyter-widgets/controls",
            "_view_module_version": "1.5.0",
            "_view_name": "ProgressView",
            "bar_style": "success",
            "description": "",
            "description_tooltip": null,
            "layout": "IPY_MODEL_5919131b290f4ddb8c21cfaeda178c15",
            "max": 1725,
            "min": 0,
            "orientation": "horizontal",
            "style": "IPY_MODEL_4ced28e315ca46f99fddaab32dea287f",
            "value": 1725
          }
        },
        "eb9d351991cb41f199152ca0c9e752de": {
          "model_module": "@jupyter-widgets/controls",
          "model_name": "HTMLModel",
          "model_module_version": "1.5.0",
          "state": {
            "_dom_classes": [],
            "_model_module": "@jupyter-widgets/controls",
            "_model_module_version": "1.5.0",
            "_model_name": "HTMLModel",
            "_view_count": null,
            "_view_module": "@jupyter-widgets/controls",
            "_view_module_version": "1.5.0",
            "_view_name": "HTMLView",
            "description": "",
            "description_tooltip": null,
            "layout": "IPY_MODEL_ccf7fa7baba649048b6240f8e8d68c7d",
            "placeholder": "​",
            "style": "IPY_MODEL_2d5f93769cb04dd880d70918e66ba48c",
            "value": " 1725/1725 [00:00&lt;00:00, 3723.49 examples/s]"
          }
        },
        "eb013dce9cdb4c3baa444ac4b007be69": {
          "model_module": "@jupyter-widgets/base",
          "model_name": "LayoutModel",
          "model_module_version": "1.2.0",
          "state": {
            "_model_module": "@jupyter-widgets/base",
            "_model_module_version": "1.2.0",
            "_model_name": "LayoutModel",
            "_view_count": null,
            "_view_module": "@jupyter-widgets/base",
            "_view_module_version": "1.2.0",
            "_view_name": "LayoutView",
            "align_content": null,
            "align_items": null,
            "align_self": null,
            "border": null,
            "bottom": null,
            "display": null,
            "flex": null,
            "flex_flow": null,
            "grid_area": null,
            "grid_auto_columns": null,
            "grid_auto_flow": null,
            "grid_auto_rows": null,
            "grid_column": null,
            "grid_gap": null,
            "grid_row": null,
            "grid_template_areas": null,
            "grid_template_columns": null,
            "grid_template_rows": null,
            "height": null,
            "justify_content": null,
            "justify_items": null,
            "left": null,
            "margin": null,
            "max_height": null,
            "max_width": null,
            "min_height": null,
            "min_width": null,
            "object_fit": null,
            "object_position": null,
            "order": null,
            "overflow": null,
            "overflow_x": null,
            "overflow_y": null,
            "padding": null,
            "right": null,
            "top": null,
            "visibility": null,
            "width": null
          }
        },
        "8dfc150d0721403283aa1d2ccf7c6414": {
          "model_module": "@jupyter-widgets/base",
          "model_name": "LayoutModel",
          "model_module_version": "1.2.0",
          "state": {
            "_model_module": "@jupyter-widgets/base",
            "_model_module_version": "1.2.0",
            "_model_name": "LayoutModel",
            "_view_count": null,
            "_view_module": "@jupyter-widgets/base",
            "_view_module_version": "1.2.0",
            "_view_name": "LayoutView",
            "align_content": null,
            "align_items": null,
            "align_self": null,
            "border": null,
            "bottom": null,
            "display": null,
            "flex": null,
            "flex_flow": null,
            "grid_area": null,
            "grid_auto_columns": null,
            "grid_auto_flow": null,
            "grid_auto_rows": null,
            "grid_column": null,
            "grid_gap": null,
            "grid_row": null,
            "grid_template_areas": null,
            "grid_template_columns": null,
            "grid_template_rows": null,
            "height": null,
            "justify_content": null,
            "justify_items": null,
            "left": null,
            "margin": null,
            "max_height": null,
            "max_width": null,
            "min_height": null,
            "min_width": null,
            "object_fit": null,
            "object_position": null,
            "order": null,
            "overflow": null,
            "overflow_x": null,
            "overflow_y": null,
            "padding": null,
            "right": null,
            "top": null,
            "visibility": null,
            "width": null
          }
        },
        "314366eeda5a4369818470023779e76b": {
          "model_module": "@jupyter-widgets/controls",
          "model_name": "DescriptionStyleModel",
          "model_module_version": "1.5.0",
          "state": {
            "_model_module": "@jupyter-widgets/controls",
            "_model_module_version": "1.5.0",
            "_model_name": "DescriptionStyleModel",
            "_view_count": null,
            "_view_module": "@jupyter-widgets/base",
            "_view_module_version": "1.2.0",
            "_view_name": "StyleView",
            "description_width": ""
          }
        },
        "5919131b290f4ddb8c21cfaeda178c15": {
          "model_module": "@jupyter-widgets/base",
          "model_name": "LayoutModel",
          "model_module_version": "1.2.0",
          "state": {
            "_model_module": "@jupyter-widgets/base",
            "_model_module_version": "1.2.0",
            "_model_name": "LayoutModel",
            "_view_count": null,
            "_view_module": "@jupyter-widgets/base",
            "_view_module_version": "1.2.0",
            "_view_name": "LayoutView",
            "align_content": null,
            "align_items": null,
            "align_self": null,
            "border": null,
            "bottom": null,
            "display": null,
            "flex": null,
            "flex_flow": null,
            "grid_area": null,
            "grid_auto_columns": null,
            "grid_auto_flow": null,
            "grid_auto_rows": null,
            "grid_column": null,
            "grid_gap": null,
            "grid_row": null,
            "grid_template_areas": null,
            "grid_template_columns": null,
            "grid_template_rows": null,
            "height": null,
            "justify_content": null,
            "justify_items": null,
            "left": null,
            "margin": null,
            "max_height": null,
            "max_width": null,
            "min_height": null,
            "min_width": null,
            "object_fit": null,
            "object_position": null,
            "order": null,
            "overflow": null,
            "overflow_x": null,
            "overflow_y": null,
            "padding": null,
            "right": null,
            "top": null,
            "visibility": null,
            "width": null
          }
        },
        "4ced28e315ca46f99fddaab32dea287f": {
          "model_module": "@jupyter-widgets/controls",
          "model_name": "ProgressStyleModel",
          "model_module_version": "1.5.0",
          "state": {
            "_model_module": "@jupyter-widgets/controls",
            "_model_module_version": "1.5.0",
            "_model_name": "ProgressStyleModel",
            "_view_count": null,
            "_view_module": "@jupyter-widgets/base",
            "_view_module_version": "1.2.0",
            "_view_name": "StyleView",
            "bar_color": null,
            "description_width": ""
          }
        },
        "ccf7fa7baba649048b6240f8e8d68c7d": {
          "model_module": "@jupyter-widgets/base",
          "model_name": "LayoutModel",
          "model_module_version": "1.2.0",
          "state": {
            "_model_module": "@jupyter-widgets/base",
            "_model_module_version": "1.2.0",
            "_model_name": "LayoutModel",
            "_view_count": null,
            "_view_module": "@jupyter-widgets/base",
            "_view_module_version": "1.2.0",
            "_view_name": "LayoutView",
            "align_content": null,
            "align_items": null,
            "align_self": null,
            "border": null,
            "bottom": null,
            "display": null,
            "flex": null,
            "flex_flow": null,
            "grid_area": null,
            "grid_auto_columns": null,
            "grid_auto_flow": null,
            "grid_auto_rows": null,
            "grid_column": null,
            "grid_gap": null,
            "grid_row": null,
            "grid_template_areas": null,
            "grid_template_columns": null,
            "grid_template_rows": null,
            "height": null,
            "justify_content": null,
            "justify_items": null,
            "left": null,
            "margin": null,
            "max_height": null,
            "max_width": null,
            "min_height": null,
            "min_width": null,
            "object_fit": null,
            "object_position": null,
            "order": null,
            "overflow": null,
            "overflow_x": null,
            "overflow_y": null,
            "padding": null,
            "right": null,
            "top": null,
            "visibility": null,
            "width": null
          }
        },
        "2d5f93769cb04dd880d70918e66ba48c": {
          "model_module": "@jupyter-widgets/controls",
          "model_name": "DescriptionStyleModel",
          "model_module_version": "1.5.0",
          "state": {
            "_model_module": "@jupyter-widgets/controls",
            "_model_module_version": "1.5.0",
            "_model_name": "DescriptionStyleModel",
            "_view_count": null,
            "_view_module": "@jupyter-widgets/base",
            "_view_module_version": "1.2.0",
            "_view_name": "StyleView",
            "description_width": ""
          }
        },
        "3dced6c9c4b5401a85672481bd60d741": {
          "model_module": "@jupyter-widgets/controls",
          "model_name": "HBoxModel",
          "model_module_version": "1.5.0",
          "state": {
            "_dom_classes": [],
            "_model_module": "@jupyter-widgets/controls",
            "_model_module_version": "1.5.0",
            "_model_name": "HBoxModel",
            "_view_count": null,
            "_view_module": "@jupyter-widgets/controls",
            "_view_module_version": "1.5.0",
            "_view_name": "HBoxView",
            "box_style": "",
            "children": [
              "IPY_MODEL_2f0c25a63a6d43e2b78acf601f39ff6a",
              "IPY_MODEL_bfcf6ac2a9af412d938cf0cfabf753c2",
              "IPY_MODEL_29abe6c0ac1c4337b03e7a8a8bbc8fbe"
            ],
            "layout": "IPY_MODEL_c1c1c90a30c4416cb5327b3c878f65f9"
          }
        },
        "2f0c25a63a6d43e2b78acf601f39ff6a": {
          "model_module": "@jupyter-widgets/controls",
          "model_name": "HTMLModel",
          "model_module_version": "1.5.0",
          "state": {
            "_dom_classes": [],
            "_model_module": "@jupyter-widgets/controls",
            "_model_module_version": "1.5.0",
            "_model_name": "HTMLModel",
            "_view_count": null,
            "_view_module": "@jupyter-widgets/controls",
            "_view_module_version": "1.5.0",
            "_view_name": "HTMLView",
            "description": "",
            "description_tooltip": null,
            "layout": "IPY_MODEL_37b431b40b8d46ec9336fb72f068fc8d",
            "placeholder": "​",
            "style": "IPY_MODEL_8e2bf2ea4e4b4186880d4b98cb6cb7b5",
            "value": "model.safetensors: 100%"
          }
        },
        "bfcf6ac2a9af412d938cf0cfabf753c2": {
          "model_module": "@jupyter-widgets/controls",
          "model_name": "FloatProgressModel",
          "model_module_version": "1.5.0",
          "state": {
            "_dom_classes": [],
            "_model_module": "@jupyter-widgets/controls",
            "_model_module_version": "1.5.0",
            "_model_name": "FloatProgressModel",
            "_view_count": null,
            "_view_module": "@jupyter-widgets/controls",
            "_view_module_version": "1.5.0",
            "_view_name": "ProgressView",
            "bar_style": "success",
            "description": "",
            "description_tooltip": null,
            "layout": "IPY_MODEL_b8f368ec07a94726b290e9a348d94bc7",
            "max": 498818054,
            "min": 0,
            "orientation": "horizontal",
            "style": "IPY_MODEL_6d4e047e7e8f48b1aeb723736f98a71d",
            "value": 498818054
          }
        },
        "29abe6c0ac1c4337b03e7a8a8bbc8fbe": {
          "model_module": "@jupyter-widgets/controls",
          "model_name": "HTMLModel",
          "model_module_version": "1.5.0",
          "state": {
            "_dom_classes": [],
            "_model_module": "@jupyter-widgets/controls",
            "_model_module_version": "1.5.0",
            "_model_name": "HTMLModel",
            "_view_count": null,
            "_view_module": "@jupyter-widgets/controls",
            "_view_module_version": "1.5.0",
            "_view_name": "HTMLView",
            "description": "",
            "description_tooltip": null,
            "layout": "IPY_MODEL_111de325fdd04df4bddeb58066fac492",
            "placeholder": "​",
            "style": "IPY_MODEL_2e563c4ec6e64b01971d10ae046a9249",
            "value": " 499M/499M [00:07&lt;00:00, 125MB/s]"
          }
        },
        "c1c1c90a30c4416cb5327b3c878f65f9": {
          "model_module": "@jupyter-widgets/base",
          "model_name": "LayoutModel",
          "model_module_version": "1.2.0",
          "state": {
            "_model_module": "@jupyter-widgets/base",
            "_model_module_version": "1.2.0",
            "_model_name": "LayoutModel",
            "_view_count": null,
            "_view_module": "@jupyter-widgets/base",
            "_view_module_version": "1.2.0",
            "_view_name": "LayoutView",
            "align_content": null,
            "align_items": null,
            "align_self": null,
            "border": null,
            "bottom": null,
            "display": null,
            "flex": null,
            "flex_flow": null,
            "grid_area": null,
            "grid_auto_columns": null,
            "grid_auto_flow": null,
            "grid_auto_rows": null,
            "grid_column": null,
            "grid_gap": null,
            "grid_row": null,
            "grid_template_areas": null,
            "grid_template_columns": null,
            "grid_template_rows": null,
            "height": null,
            "justify_content": null,
            "justify_items": null,
            "left": null,
            "margin": null,
            "max_height": null,
            "max_width": null,
            "min_height": null,
            "min_width": null,
            "object_fit": null,
            "object_position": null,
            "order": null,
            "overflow": null,
            "overflow_x": null,
            "overflow_y": null,
            "padding": null,
            "right": null,
            "top": null,
            "visibility": null,
            "width": null
          }
        },
        "37b431b40b8d46ec9336fb72f068fc8d": {
          "model_module": "@jupyter-widgets/base",
          "model_name": "LayoutModel",
          "model_module_version": "1.2.0",
          "state": {
            "_model_module": "@jupyter-widgets/base",
            "_model_module_version": "1.2.0",
            "_model_name": "LayoutModel",
            "_view_count": null,
            "_view_module": "@jupyter-widgets/base",
            "_view_module_version": "1.2.0",
            "_view_name": "LayoutView",
            "align_content": null,
            "align_items": null,
            "align_self": null,
            "border": null,
            "bottom": null,
            "display": null,
            "flex": null,
            "flex_flow": null,
            "grid_area": null,
            "grid_auto_columns": null,
            "grid_auto_flow": null,
            "grid_auto_rows": null,
            "grid_column": null,
            "grid_gap": null,
            "grid_row": null,
            "grid_template_areas": null,
            "grid_template_columns": null,
            "grid_template_rows": null,
            "height": null,
            "justify_content": null,
            "justify_items": null,
            "left": null,
            "margin": null,
            "max_height": null,
            "max_width": null,
            "min_height": null,
            "min_width": null,
            "object_fit": null,
            "object_position": null,
            "order": null,
            "overflow": null,
            "overflow_x": null,
            "overflow_y": null,
            "padding": null,
            "right": null,
            "top": null,
            "visibility": null,
            "width": null
          }
        },
        "8e2bf2ea4e4b4186880d4b98cb6cb7b5": {
          "model_module": "@jupyter-widgets/controls",
          "model_name": "DescriptionStyleModel",
          "model_module_version": "1.5.0",
          "state": {
            "_model_module": "@jupyter-widgets/controls",
            "_model_module_version": "1.5.0",
            "_model_name": "DescriptionStyleModel",
            "_view_count": null,
            "_view_module": "@jupyter-widgets/base",
            "_view_module_version": "1.2.0",
            "_view_name": "StyleView",
            "description_width": ""
          }
        },
        "b8f368ec07a94726b290e9a348d94bc7": {
          "model_module": "@jupyter-widgets/base",
          "model_name": "LayoutModel",
          "model_module_version": "1.2.0",
          "state": {
            "_model_module": "@jupyter-widgets/base",
            "_model_module_version": "1.2.0",
            "_model_name": "LayoutModel",
            "_view_count": null,
            "_view_module": "@jupyter-widgets/base",
            "_view_module_version": "1.2.0",
            "_view_name": "LayoutView",
            "align_content": null,
            "align_items": null,
            "align_self": null,
            "border": null,
            "bottom": null,
            "display": null,
            "flex": null,
            "flex_flow": null,
            "grid_area": null,
            "grid_auto_columns": null,
            "grid_auto_flow": null,
            "grid_auto_rows": null,
            "grid_column": null,
            "grid_gap": null,
            "grid_row": null,
            "grid_template_areas": null,
            "grid_template_columns": null,
            "grid_template_rows": null,
            "height": null,
            "justify_content": null,
            "justify_items": null,
            "left": null,
            "margin": null,
            "max_height": null,
            "max_width": null,
            "min_height": null,
            "min_width": null,
            "object_fit": null,
            "object_position": null,
            "order": null,
            "overflow": null,
            "overflow_x": null,
            "overflow_y": null,
            "padding": null,
            "right": null,
            "top": null,
            "visibility": null,
            "width": null
          }
        },
        "6d4e047e7e8f48b1aeb723736f98a71d": {
          "model_module": "@jupyter-widgets/controls",
          "model_name": "ProgressStyleModel",
          "model_module_version": "1.5.0",
          "state": {
            "_model_module": "@jupyter-widgets/controls",
            "_model_module_version": "1.5.0",
            "_model_name": "ProgressStyleModel",
            "_view_count": null,
            "_view_module": "@jupyter-widgets/base",
            "_view_module_version": "1.2.0",
            "_view_name": "StyleView",
            "bar_color": null,
            "description_width": ""
          }
        },
        "111de325fdd04df4bddeb58066fac492": {
          "model_module": "@jupyter-widgets/base",
          "model_name": "LayoutModel",
          "model_module_version": "1.2.0",
          "state": {
            "_model_module": "@jupyter-widgets/base",
            "_model_module_version": "1.2.0",
            "_model_name": "LayoutModel",
            "_view_count": null,
            "_view_module": "@jupyter-widgets/base",
            "_view_module_version": "1.2.0",
            "_view_name": "LayoutView",
            "align_content": null,
            "align_items": null,
            "align_self": null,
            "border": null,
            "bottom": null,
            "display": null,
            "flex": null,
            "flex_flow": null,
            "grid_area": null,
            "grid_auto_columns": null,
            "grid_auto_flow": null,
            "grid_auto_rows": null,
            "grid_column": null,
            "grid_gap": null,
            "grid_row": null,
            "grid_template_areas": null,
            "grid_template_columns": null,
            "grid_template_rows": null,
            "height": null,
            "justify_content": null,
            "justify_items": null,
            "left": null,
            "margin": null,
            "max_height": null,
            "max_width": null,
            "min_height": null,
            "min_width": null,
            "object_fit": null,
            "object_position": null,
            "order": null,
            "overflow": null,
            "overflow_x": null,
            "overflow_y": null,
            "padding": null,
            "right": null,
            "top": null,
            "visibility": null,
            "width": null
          }
        },
        "2e563c4ec6e64b01971d10ae046a9249": {
          "model_module": "@jupyter-widgets/controls",
          "model_name": "DescriptionStyleModel",
          "model_module_version": "1.5.0",
          "state": {
            "_model_module": "@jupyter-widgets/controls",
            "_model_module_version": "1.5.0",
            "_model_name": "DescriptionStyleModel",
            "_view_count": null,
            "_view_module": "@jupyter-widgets/base",
            "_view_module_version": "1.2.0",
            "_view_name": "StyleView",
            "description_width": ""
          }
        }
      }
    }
  },
  "cells": [
    {
      "cell_type": "markdown",
      "source": [
        "# Training LLMs - Fine Tuning Language Model on Semantic Tasks\n",
        "\n",
        "In this assignment we are going to fine tune an off the shelf pre-trained language model to understand semantic similarity. To do this we are going to use the Glue - MSRC dataset provided by microsoft to understand such semantics.\n",
        "\n",
        "The goal for this assignment is to take an off the shelf language model that is already pre-trained and fine tune it on the task understanding semantic analysis. The languge model that we are going to use is the base `roberta` model that is larger than the original base `bert` model. There are other modifications that `roberta` did to enhance `bert` such as dynamic masking, the removal of the next sentence prediction task, as well as a more enhanced tokenzer.\n",
        "\n",
        "This assignment will walk you through the steps needed to accomplish this task. You will be asked to fill in the various code blocks as we progress through the notebook. Please view the comments to monitor which code blocks to complete."
      ],
      "metadata": {
        "id": "rYDJ6PpgKDdq"
      }
    },
    {
      "cell_type": "code",
      "execution_count": 1,
      "metadata": {
        "id": "09PLyzi4fOoT",
        "colab": {
          "base_uri": "https://localhost:8080/"
        },
        "outputId": "fa6e12b3-3cc1-4fa7-d589-1090aefcbf3c"
      },
      "outputs": [
        {
          "output_type": "stream",
          "name": "stdout",
          "text": [
            "\u001b[?25l   \u001b[90m━━━━━━━━━━━━━━━━━━━━━━━━━━━━━━━━━━━━━━━━\u001b[0m \u001b[32m0.0/491.2 kB\u001b[0m \u001b[31m?\u001b[0m eta \u001b[36m-:--:--\u001b[0m\r\u001b[2K   \u001b[91m━━━━━━━━━━━━━━━━━━━━━━━━━━━━━━━━━━━━━━━\u001b[0m\u001b[90m╺\u001b[0m \u001b[32m481.3/491.2 kB\u001b[0m \u001b[31m16.0 MB/s\u001b[0m eta \u001b[36m0:00:01\u001b[0m\r\u001b[2K   \u001b[90m━━━━━━━━━━━━━━━━━━━━━━━━━━━━━━━━━━━━━━━━\u001b[0m \u001b[32m491.2/491.2 kB\u001b[0m \u001b[31m7.8 MB/s\u001b[0m eta \u001b[36m0:00:00\u001b[0m\n",
            "\u001b[2K   \u001b[90m━━━━━━━━━━━━━━━━━━━━━━━━━━━━━━━━━━━━━━━━\u001b[0m \u001b[32m84.0/84.0 kB\u001b[0m \u001b[31m5.7 MB/s\u001b[0m eta \u001b[36m0:00:00\u001b[0m\n",
            "\u001b[2K   \u001b[90m━━━━━━━━━━━━━━━━━━━━━━━━━━━━━━━━━━━━━━━━\u001b[0m \u001b[32m116.3/116.3 kB\u001b[0m \u001b[31m5.0 MB/s\u001b[0m eta \u001b[36m0:00:00\u001b[0m\n",
            "\u001b[2K   \u001b[90m━━━━━━━━━━━━━━━━━━━━━━━━━━━━━━━━━━━━━━━━\u001b[0m \u001b[32m183.9/183.9 kB\u001b[0m \u001b[31m11.5 MB/s\u001b[0m eta \u001b[36m0:00:00\u001b[0m\n",
            "\u001b[2K   \u001b[90m━━━━━━━━━━━━━━━━━━━━━━━━━━━━━━━━━━━━━━━━\u001b[0m \u001b[32m143.5/143.5 kB\u001b[0m \u001b[31m8.2 MB/s\u001b[0m eta \u001b[36m0:00:00\u001b[0m\n",
            "\u001b[2K   \u001b[90m━━━━━━━━━━━━━━━━━━━━━━━━━━━━━━━━━━━━━━━━\u001b[0m \u001b[32m363.4/363.4 MB\u001b[0m \u001b[31m3.4 MB/s\u001b[0m eta \u001b[36m0:00:00\u001b[0m\n",
            "\u001b[2K   \u001b[90m━━━━━━━━━━━━━━━━━━━━━━━━━━━━━━━━━━━━━━━━\u001b[0m \u001b[32m13.8/13.8 MB\u001b[0m \u001b[31m41.8 MB/s\u001b[0m eta \u001b[36m0:00:00\u001b[0m\n",
            "\u001b[2K   \u001b[90m━━━━━━━━━━━━━━━━━━━━━━━━━━━━━━━━━━━━━━━━\u001b[0m \u001b[32m24.6/24.6 MB\u001b[0m \u001b[31m44.8 MB/s\u001b[0m eta \u001b[36m0:00:00\u001b[0m\n",
            "\u001b[2K   \u001b[90m━━━━━━━━━━━━━━━━━━━━━━━━━━━━━━━━━━━━━━━━\u001b[0m \u001b[32m883.7/883.7 kB\u001b[0m \u001b[31m16.6 MB/s\u001b[0m eta \u001b[36m0:00:00\u001b[0m\n",
            "\u001b[2K   \u001b[90m━━━━━━━━━━━━━━━━━━━━━━━━━━━━━━━━━━━━━━━━\u001b[0m \u001b[32m664.8/664.8 MB\u001b[0m \u001b[31m2.5 MB/s\u001b[0m eta \u001b[36m0:00:00\u001b[0m\n",
            "\u001b[2K   \u001b[90m━━━━━━━━━━━━━━━━━━━━━━━━━━━━━━━━━━━━━━━━\u001b[0m \u001b[32m211.5/211.5 MB\u001b[0m \u001b[31m5.1 MB/s\u001b[0m eta \u001b[36m0:00:00\u001b[0m\n",
            "\u001b[2K   \u001b[90m━━━━━━━━━━━━━━━━━━━━━━━━━━━━━━━━━━━━━━━━\u001b[0m \u001b[32m56.3/56.3 MB\u001b[0m \u001b[31m12.4 MB/s\u001b[0m eta \u001b[36m0:00:00\u001b[0m\n",
            "\u001b[2K   \u001b[90m━━━━━━━━━━━━━━━━━━━━━━━━━━━━━━━━━━━━━━━━\u001b[0m \u001b[32m127.9/127.9 MB\u001b[0m \u001b[31m7.5 MB/s\u001b[0m eta \u001b[36m0:00:00\u001b[0m\n",
            "\u001b[2K   \u001b[90m━━━━━━━━━━━━━━━━━━━━━━━━━━━━━━━━━━━━━━━━\u001b[0m \u001b[32m207.5/207.5 MB\u001b[0m \u001b[31m5.8 MB/s\u001b[0m eta \u001b[36m0:00:00\u001b[0m\n",
            "\u001b[2K   \u001b[90m━━━━━━━━━━━━━━━━━━━━━━━━━━━━━━━━━━━━━━━━\u001b[0m \u001b[32m21.1/21.1 MB\u001b[0m \u001b[31m70.7 MB/s\u001b[0m eta \u001b[36m0:00:00\u001b[0m\n",
            "\u001b[2K   \u001b[90m━━━━━━━━━━━━━━━━━━━━━━━━━━━━━━━━━━━━━━━━\u001b[0m \u001b[32m194.8/194.8 kB\u001b[0m \u001b[31m10.6 MB/s\u001b[0m eta \u001b[36m0:00:00\u001b[0m\n",
            "\u001b[?25h\u001b[31mERROR: pip's dependency resolver does not currently take into account all the packages that are installed. This behaviour is the source of the following dependency conflicts.\n",
            "gcsfs 2025.3.0 requires fsspec==2025.3.0, but you have fsspec 2024.12.0 which is incompatible.\u001b[0m\u001b[31m\n",
            "\u001b[0m"
          ]
        }
      ],
      "source": [
        "# let's first install the various libraries that we'll\n",
        "# need for this assignment\n",
        "!pip install -q peft datasets evaluate\n"
      ]
    },
    {
      "cell_type": "code",
      "source": [
        "! pip install transformers[torch]"
      ],
      "metadata": {
        "colab": {
          "base_uri": "https://localhost:8080/"
        },
        "id": "RicdRmGtDy69",
        "outputId": "aa493336-cbbe-4e4c-b613-5ac0757ea7a3"
      },
      "execution_count": 2,
      "outputs": [
        {
          "output_type": "stream",
          "name": "stdout",
          "text": [
            "Requirement already satisfied: transformers[torch] in /usr/local/lib/python3.11/dist-packages (4.50.2)\n",
            "Requirement already satisfied: filelock in /usr/local/lib/python3.11/dist-packages (from transformers[torch]) (3.18.0)\n",
            "Requirement already satisfied: huggingface-hub<1.0,>=0.26.0 in /usr/local/lib/python3.11/dist-packages (from transformers[torch]) (0.29.3)\n",
            "Requirement already satisfied: numpy>=1.17 in /usr/local/lib/python3.11/dist-packages (from transformers[torch]) (2.0.2)\n",
            "Requirement already satisfied: packaging>=20.0 in /usr/local/lib/python3.11/dist-packages (from transformers[torch]) (24.2)\n",
            "Requirement already satisfied: pyyaml>=5.1 in /usr/local/lib/python3.11/dist-packages (from transformers[torch]) (6.0.2)\n",
            "Requirement already satisfied: regex!=2019.12.17 in /usr/local/lib/python3.11/dist-packages (from transformers[torch]) (2024.11.6)\n",
            "Requirement already satisfied: requests in /usr/local/lib/python3.11/dist-packages (from transformers[torch]) (2.32.3)\n",
            "Requirement already satisfied: tokenizers<0.22,>=0.21 in /usr/local/lib/python3.11/dist-packages (from transformers[torch]) (0.21.1)\n",
            "Requirement already satisfied: safetensors>=0.4.3 in /usr/local/lib/python3.11/dist-packages (from transformers[torch]) (0.5.3)\n",
            "Requirement already satisfied: tqdm>=4.27 in /usr/local/lib/python3.11/dist-packages (from transformers[torch]) (4.67.1)\n",
            "Requirement already satisfied: torch>=2.0 in /usr/local/lib/python3.11/dist-packages (from transformers[torch]) (2.6.0+cu124)\n",
            "Requirement already satisfied: accelerate>=0.26.0 in /usr/local/lib/python3.11/dist-packages (from transformers[torch]) (1.5.2)\n",
            "Requirement already satisfied: psutil in /usr/local/lib/python3.11/dist-packages (from accelerate>=0.26.0->transformers[torch]) (5.9.5)\n",
            "Requirement already satisfied: fsspec>=2023.5.0 in /usr/local/lib/python3.11/dist-packages (from huggingface-hub<1.0,>=0.26.0->transformers[torch]) (2024.12.0)\n",
            "Requirement already satisfied: typing-extensions>=3.7.4.3 in /usr/local/lib/python3.11/dist-packages (from huggingface-hub<1.0,>=0.26.0->transformers[torch]) (4.13.0)\n",
            "Requirement already satisfied: networkx in /usr/local/lib/python3.11/dist-packages (from torch>=2.0->transformers[torch]) (3.4.2)\n",
            "Requirement already satisfied: jinja2 in /usr/local/lib/python3.11/dist-packages (from torch>=2.0->transformers[torch]) (3.1.6)\n",
            "Requirement already satisfied: nvidia-cuda-nvrtc-cu12==12.4.127 in /usr/local/lib/python3.11/dist-packages (from torch>=2.0->transformers[torch]) (12.4.127)\n",
            "Requirement already satisfied: nvidia-cuda-runtime-cu12==12.4.127 in /usr/local/lib/python3.11/dist-packages (from torch>=2.0->transformers[torch]) (12.4.127)\n",
            "Requirement already satisfied: nvidia-cuda-cupti-cu12==12.4.127 in /usr/local/lib/python3.11/dist-packages (from torch>=2.0->transformers[torch]) (12.4.127)\n",
            "Requirement already satisfied: nvidia-cudnn-cu12==9.1.0.70 in /usr/local/lib/python3.11/dist-packages (from torch>=2.0->transformers[torch]) (9.1.0.70)\n",
            "Requirement already satisfied: nvidia-cublas-cu12==12.4.5.8 in /usr/local/lib/python3.11/dist-packages (from torch>=2.0->transformers[torch]) (12.4.5.8)\n",
            "Requirement already satisfied: nvidia-cufft-cu12==11.2.1.3 in /usr/local/lib/python3.11/dist-packages (from torch>=2.0->transformers[torch]) (11.2.1.3)\n",
            "Requirement already satisfied: nvidia-curand-cu12==10.3.5.147 in /usr/local/lib/python3.11/dist-packages (from torch>=2.0->transformers[torch]) (10.3.5.147)\n",
            "Requirement already satisfied: nvidia-cusolver-cu12==11.6.1.9 in /usr/local/lib/python3.11/dist-packages (from torch>=2.0->transformers[torch]) (11.6.1.9)\n",
            "Requirement already satisfied: nvidia-cusparse-cu12==12.3.1.170 in /usr/local/lib/python3.11/dist-packages (from torch>=2.0->transformers[torch]) (12.3.1.170)\n",
            "Requirement already satisfied: nvidia-cusparselt-cu12==0.6.2 in /usr/local/lib/python3.11/dist-packages (from torch>=2.0->transformers[torch]) (0.6.2)\n",
            "Requirement already satisfied: nvidia-nccl-cu12==2.21.5 in /usr/local/lib/python3.11/dist-packages (from torch>=2.0->transformers[torch]) (2.21.5)\n",
            "Requirement already satisfied: nvidia-nvtx-cu12==12.4.127 in /usr/local/lib/python3.11/dist-packages (from torch>=2.0->transformers[torch]) (12.4.127)\n",
            "Requirement already satisfied: nvidia-nvjitlink-cu12==12.4.127 in /usr/local/lib/python3.11/dist-packages (from torch>=2.0->transformers[torch]) (12.4.127)\n",
            "Requirement already satisfied: triton==3.2.0 in /usr/local/lib/python3.11/dist-packages (from torch>=2.0->transformers[torch]) (3.2.0)\n",
            "Requirement already satisfied: sympy==1.13.1 in /usr/local/lib/python3.11/dist-packages (from torch>=2.0->transformers[torch]) (1.13.1)\n",
            "Requirement already satisfied: mpmath<1.4,>=1.1.0 in /usr/local/lib/python3.11/dist-packages (from sympy==1.13.1->torch>=2.0->transformers[torch]) (1.3.0)\n",
            "Requirement already satisfied: charset-normalizer<4,>=2 in /usr/local/lib/python3.11/dist-packages (from requests->transformers[torch]) (3.4.1)\n",
            "Requirement already satisfied: idna<4,>=2.5 in /usr/local/lib/python3.11/dist-packages (from requests->transformers[torch]) (3.10)\n",
            "Requirement already satisfied: urllib3<3,>=1.21.1 in /usr/local/lib/python3.11/dist-packages (from requests->transformers[torch]) (2.3.0)\n",
            "Requirement already satisfied: certifi>=2017.4.17 in /usr/local/lib/python3.11/dist-packages (from requests->transformers[torch]) (2025.1.31)\n",
            "Requirement already satisfied: MarkupSafe>=2.0 in /usr/local/lib/python3.11/dist-packages (from jinja2->torch>=2.0->transformers[torch]) (3.0.2)\n"
          ]
        }
      ]
    },
    {
      "cell_type": "code",
      "source": [
        "# we are going to import\n",
        "# the various methods and classes that we will use\n",
        "# throughout the notebook.\n",
        "from transformers import (\n",
        "    AutoModelForSequenceClassification,\n",
        "    AutoTokenizer,\n",
        "    DataCollatorWithPadding,\n",
        "    TrainingArguments,\n",
        "    Trainer,\n",
        ")\n",
        "from peft import (\n",
        "    get_peft_config,\n",
        "    get_peft_model,\n",
        "    LoraConfig,\n",
        "    TaskType\n",
        "    )\n",
        "from datasets import load_dataset\n",
        "import evaluate\n",
        "import torch\n",
        "import numpy as np\n",
        "\n",
        "# we are going to pull in the RoBERTA model\n",
        "# which is a modification of BERT\n",
        "model_name_or_path = \"roberta-base\"\n",
        "# this is going to be the specific dataset that\n",
        "# we are pulling from load dataset.\n",
        "# this data allows us to understand\n",
        "# semantic similarity between documents.\n",
        "task = \"mrpc\" # microsoft research paraphrase corpus"
      ],
      "metadata": {
        "id": "mXwAonRyfW_N"
      },
      "execution_count": 3,
      "outputs": []
    },
    {
      "cell_type": "markdown",
      "source": [
        "PEFT is Parameter Efficient Fine Tuning."
      ],
      "metadata": {
        "id": "Pvw9453QAfYO"
      }
    },
    {
      "cell_type": "markdown",
      "source": [
        "As can be seen, this is a typical classification setup. We are given train, validation, and test sets. In most classifications, we don't need big models. In this case, we are dealing with a model called RoBERTa, which is an extension of BERT. MRPC is also a classification task.\n",
        "\n",
        "As a recap of BERT:\n",
        "\n",
        "![Screenshot 2025-03-28 at 8.23.48 PM.png](data:image/png;base64,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)\n",
        "\n",
        "We give an input and predict an output. BERT had two tasks. One of them being Masked Language Model.\n",
        "\n",
        "Pretraining Tasks:\n",
        "\n",
        "test = My name is BERT. I love Machine Learning. I'm from Google.\n",
        "\n",
        "Task 1: MLM - Masked Language Model                            Y\n",
        "My [MASK] is BERT.\n",
        "I love [MASK] Learning.\n",
        "[MASK] from Google.\n",
        "\n",
        "BERT's task is to predict what the word for MASK is.\n",
        "\n",
        "Task 2: NSP - Next Sentence Prediction\n",
        "My name is BERT. [SEP] I love Machine Learning. [SEP] I am from Google.\n",
        "\n",
        "Notice every sentence has a separator. BERT has to predict the next sentence has to be the same. Let's continue from the example.\n",
        "\n",
        "x                                                    y\n",
        "My name is BERT. [SEP] I love Machine Learning.      1\n",
        "My name is BERT. [SEP] I am from Google.             0\n",
        "\n",
        "BERT was created as a model to understand the language, but its limitation is predicting the next token.\n",
        "\n",
        "We can finetune BERT on downstream tasks.\n",
        "\n",
        "Downstream Task:\n",
        "1. Classification (sentiment, spam, fake news)\n",
        "2. NER (Named Entity Recognition)\n",
        "3. QA (Question Answering)\n",
        "4. Summarization\n",
        "5. Tranlation\n",
        "6. Text Generation\n",
        "7. etc."
      ],
      "metadata": {
        "id": "smXp1VeyCGiD"
      }
    },
    {
      "cell_type": "markdown",
      "source": [
        "RoBERTa, Robustly Optimized BERT, by Facebook is an extension of BERT. It had longer hours of training on more data. This model doesn't use NSP, but mainly focused on MLM. Where BERT had static masking, Facebook used dynamic masking, i.e., every epoch a randomized token is masked, which made it more robust during training.\n",
        "\n",
        "We can use any model, but because this is only a classification task, we will use a simple model that can fit on our GPU."
      ],
      "metadata": {
        "id": "_J9Onk7hCUGN"
      }
    },
    {
      "cell_type": "code",
      "source": [
        "# Original Text = My name is Chirag. I love Machine Learning. I am from India.\n",
        "\n",
        "# Self Supervised Learning (SSL)\n",
        "\n",
        "# Pretraining Tasks:\n",
        "# ---\n",
        "# Task 1: MLM Masked Language Model\n",
        "# ---\n",
        "# My [MASK] is Chirag.\n",
        "# I love [MASK] Learning.\n",
        "# I am from [MASK].\n",
        "\n",
        "# Task 2: NSP Next Sentence Prediction\n",
        "# ---\n",
        "# My name is Chirag. [SEP] I love Machine Learning. [SEP] I am from India.\n",
        "# My name is Chirag. [SEP] I love Machine Learning.       1\n",
        "# My name is Chirag. [SEP] I am from India.               0\n",
        "\n",
        "\n",
        "\n",
        "# Downstream Task (SFT / RFT):\n",
        "# --\n",
        "# 1. Classification (sentiment, spam, fake news)\n",
        "# 2. NER (Named Entity Recognition)\n",
        "# 3. QA (Question Answering)\n",
        "# 4. Summarization\n",
        "# 5. Translation\n",
        "# 6. Text Generation\n",
        "# 7. etc."
      ],
      "metadata": {
        "id": "rzGpzAe1aidB"
      },
      "execution_count": 4,
      "outputs": []
    },
    {
      "cell_type": "markdown",
      "source": [],
      "metadata": {
        "id": "alfolZZRaeQ5"
      }
    },
    {
      "cell_type": "markdown",
      "source": [
        "Model1 : Trained(Base) + Classification (sentiment)  1000\n",
        "\n",
        "Model2 : Trained(Base) + Classification (spam) 1000\n",
        "\n",
        "Model3 : Trained(Base) + Classification (fake news)  1000\n",
        "\n",
        "General Classification Model: Trained(Base) + Classification (sentiment, spam, fake news)\n",
        "\n",
        "General Chat Model: Trained(Base) + Tasks (Chat(Classification (sentiment, spam, fake news), NER (Named Entity Recognition), QA (Question Answering)))"
      ],
      "metadata": {
        "id": "bJifn8Vtaph9"
      }
    },
    {
      "cell_type": "markdown",
      "source": [
        "Any machine learning model needs two things - input and output. We calculate the loss on the output. When we have a good amount of data that is unlabeled we have to convert some into input/output pair so that we can calculate the loss on the output pair, therefore optimizing the model.\n",
        "\n",
        "The pretext tasks are not the tasks that we're trying to solve. For example, if we were trying to solve the sentiment, spam, fake news classification task, then we don't need to do the pretext tasks. It's just that for our use case, in hand, we may have some thousand labeled examples of sentiments, and we have a good amount of unlabeled data, which is just web text. GPT models are trained on the pretext tasks and they are called the Base model. There's an Instruct model, which are finetuned from the base models. Chat models are over the instruct models. The instruct and chat models are downstream models, which are supervised finetuning models, as well as, reinforcement finetuning. Downstream models use the weights of the base models. We can achieve generalization even if we only have a thousand examples.\n",
        "\n",
        "Pretraining is common, except that in BERT the tasks are different because the volume of data is different. The number of parameters are also different. We are limiting ourselves to RoBERTa base, a 500 million parameter model, which fits into this lesson."
      ],
      "metadata": {
        "id": "3gU7TLme3PYR"
      }
    },
    {
      "cell_type": "code",
      "source": [
        "# Random Weights (Base)\n",
        "# Base: Pretrain (Pretext tasks) (1B + 30 days -> 100k epochs)\n",
        "# 1. Next token prediction\n",
        "# 2. Masked Language Model\n",
        "#Trained Weights which understands meaning of tokens and sentences of the given langauge\n",
        "\n",
        "\n",
        "# Continue/Finetune the weights of the pretrained model\n",
        "# Downstream Models (SFT/ RFT): (1k + hours + 2 epochs)\n",
        "## 1. Instruct Model [\n",
        "##    X                                   y\n",
        "##  \"Convert the given text to JSON\" ,  \"{''}\"\n",
        "## 2. Chat Model.  [\n",
        "###    [USER]: Convert the given text to JSON.                                                                                           [ASSISTANT]: Here is you JSON.\n",
        "      #  [USER]: I want this in markdown ```json```                                                                                        [ASSISTANT]: some answer\n",
        "      #  [USER]: Convert the given text to JSON. [ASSISTANT]: Here is you JSON. [USER]: I want this in markdown ```json```                 [ASSISTANT]: some answer\n",
        "###\n",
        "# 3. Classifcation:\n",
        "# \"I hate this product\"           1\n",
        "# \"I love this product            0\n"
      ],
      "metadata": {
        "id": "ZwS-GHjScs3Y"
      },
      "execution_count": null,
      "outputs": []
    },
    {
      "cell_type": "markdown",
      "source": [
        "The difference between an instruct and chat model is that only one instruction is given in the instruct model. i.e., do \"xyz\" and an output is given, e.g. convert the given text to json and the output would be a json. Multiple users are not involved. Whereas, in the chat model, there is a user prompt: \"[User]: Convert the given text to JSON\", and there is an assistant: \"[ASSISTANT]: Here is your JSON\".\n",
        "\n",
        "Some times when we have an instruction model, we can finetune to be a chat model. There are some models that have gone from base to chat.\n",
        "\n",
        "\n",
        "Below, we load the dataset with a task that is are already defined in the library, which means it has access to the dataset to download it so we don't have to do anything else.\n",
        "\n",
        "This is a standard dataset on Huggingface. \"glue\" is a metric (see https://gluebenchmark.com/)."
      ],
      "metadata": {
        "id": "lAmW49at6349"
      }
    },
    {
      "cell_type": "code",
      "source": [
        "# let's load in the glue dataset with the MRPC task\n",
        "dataset = load_dataset(\"glue\", task)"
      ],
      "metadata": {
        "id": "aBQp_9HdY1UI",
        "colab": {
          "base_uri": "https://localhost:8080/",
          "height": 241,
          "referenced_widgets": [
            "5184fea2d2384a78a3df08a37e64a92d",
            "28cb51814a23464bbc068a899d7aaecc",
            "c7dadefc80d94aea96e9be279d78c658",
            "670ff5a2f135416dba5e51b9c0bef3d6",
            "eab4bd2773ce4d0f8d7f7ac8da0e600b",
            "f6e818438bba40c383c3234f5bc2b652",
            "2dac7a094e4c4a5fb61be9f030204ed5",
            "022ae90a839c4e18b023782b3179b3f8",
            "45b439530e2948429567f8a135ae680b",
            "fba3002573b34563b3ed7133491a7d23",
            "b78bfe2d80284c309327202bd022547a",
            "e7d71baafcae424082733a0c5d5a978a",
            "aa8736c586dc4ca09daaff080f87fc9f",
            "ffdf1be703b44ff5a663702101cd788f",
            "5d5fd68f977f47a9b21dac8524615b9f",
            "570ba289d3fa4d05a408b5f8c148ff72",
            "b3406ee4f71c4b82bc9da28dd53f8758",
            "d100ba70ccc44bb98ee3179b138a0f00",
            "b7e35d8bc23147c69ff2abeacaf7fdc8",
            "eb2f0c47280f4643a93b9093b01831d5",
            "f448cf2b7a1045ce934c52fdf541c32b",
            "acbfd7ba339e41c3b1ce1bea176642df",
            "3e37b628eca7458d95c3cb574f7d4de8",
            "f7ea6bc971bd40ba808ac977333fd861",
            "f59a5366e1344f2eb425fa46a0721745",
            "67ee8e9ed5394aaaa96b035d017879dc",
            "9fd3f366f4724f29892e4ef49679b4b1",
            "afa26739f46d4bb1b1261c904f21548b",
            "a14136f735724bb29b0535b772a59c06",
            "a72bb25f03354cb786466a3d2061d503",
            "cfef7360331645c09d6391ad00e44ada",
            "7458992abf004fbda62d4026d834d252",
            "d7b4ca0e95d744bf80e59511929fc483",
            "e4edcce7130447b9ad1019accafd4b5f",
            "7f499652284b49929ad2a1b4fb45ca6c",
            "7d02a241b1174f0ebf169607c3a6c117",
            "d0bf659a9a3e443989a19311fe3d4096",
            "5ce2d6349ade41b0989a9d8bad850d80",
            "43fcd0bf3fa249a0990765654fb2eb59",
            "92e48228a8244497b02fccd6cafd7ee8",
            "a6b824ce95234ddea90edd2a682425fa",
            "1b38d203e98d4a2cadb28baa369d2c97",
            "48a69220a9484f5fb1bb8b74161e6488",
            "69d74e9f71724eb9964c61bc3567a5bb",
            "05653b846a824a46af2193db20738398",
            "8d0548f9906b4b84920b3cb0b8a60a3c",
            "cf633155c02c40839cd0a02cb78f75c9",
            "7fd7d75522d4470eb7410261e8e5ddba",
            "e7d8dba1186646549fb3da9027e28632",
            "a75facff06cf4699933c7a069747d856",
            "caa961b23a454474a98398b899e34c8f",
            "28a7e6d747744deb807aac25b3f03557",
            "bb5d82f10cdb439e924dea52196e4298",
            "dd965f33cdab4827a0b6b93505c50f00",
            "2d7b5ce6e00e40c9a8f4bc552e752386",
            "63e3df05b04c41c9ba7fb79314987684",
            "0ced0efe57374af4bdac1a9065425d12",
            "c0079def805547208c10fddeb886eb45",
            "157b48bee03a4f0e80ac558c920ae996",
            "d30244d148b74b119b23cf92a3cacfc0",
            "b1661f5b54824024abbd3d657a84f5af",
            "fa1830caaf83471785cb38f853592e8f",
            "68783aa9197d44cf91e169feba5bf3f5",
            "141f0680dd744db69d8c1041bac8d006",
            "76ab6a7dcf3e44ce86a96f06cdd4f73b",
            "2db57fa4039e4a68932a2bf422704207",
            "f5436e63977a41459a2b4ad9b0a2862b",
            "30e8bf5ee8704738bf82a4e082eea79c",
            "8f86594a4bbe43e0a52ec79c4eca09f7",
            "08388b1039304ef89f51997a42830796",
            "ddfe11293b694d1aaa72e7e31885426c",
            "d2a640b9db7a448e93dd6798c0ac5195",
            "aa03ae91b95946faa3ccf602606b86ea",
            "e893e66f2a45471e9c3aeedd17a07b72",
            "d6355c56571449078fc12ca9cb1f6974",
            "b8593d50fe464a589a00dc5f0c2d4a25",
            "b06ea8102223444699bafbff97ffc833"
          ]
        },
        "outputId": "a953e6dd-df06-4f78-abc5-6258c54209c8"
      },
      "execution_count": 5,
      "outputs": [
        {
          "output_type": "display_data",
          "data": {
            "text/plain": [
              "README.md: 0.00B [00:00, ?B/s]"
            ],
            "application/vnd.jupyter.widget-view+json": {
              "version_major": 2,
              "version_minor": 0,
              "model_id": "5184fea2d2384a78a3df08a37e64a92d"
            }
          },
          "metadata": {}
        },
        {
          "output_type": "display_data",
          "data": {
            "text/plain": [
              "train-00000-of-00001.parquet:   0%|          | 0.00/649k [00:00<?, ?B/s]"
            ],
            "application/vnd.jupyter.widget-view+json": {
              "version_major": 2,
              "version_minor": 0,
              "model_id": "e7d71baafcae424082733a0c5d5a978a"
            }
          },
          "metadata": {}
        },
        {
          "output_type": "display_data",
          "data": {
            "text/plain": [
              "validation-00000-of-00001.parquet:   0%|          | 0.00/75.7k [00:00<?, ?B/s]"
            ],
            "application/vnd.jupyter.widget-view+json": {
              "version_major": 2,
              "version_minor": 0,
              "model_id": "3e37b628eca7458d95c3cb574f7d4de8"
            }
          },
          "metadata": {}
        },
        {
          "output_type": "display_data",
          "data": {
            "text/plain": [
              "test-00000-of-00001.parquet:   0%|          | 0.00/308k [00:00<?, ?B/s]"
            ],
            "application/vnd.jupyter.widget-view+json": {
              "version_major": 2,
              "version_minor": 0,
              "model_id": "e4edcce7130447b9ad1019accafd4b5f"
            }
          },
          "metadata": {}
        },
        {
          "output_type": "display_data",
          "data": {
            "text/plain": [
              "Generating train split:   0%|          | 0/3668 [00:00<?, ? examples/s]"
            ],
            "application/vnd.jupyter.widget-view+json": {
              "version_major": 2,
              "version_minor": 0,
              "model_id": "05653b846a824a46af2193db20738398"
            }
          },
          "metadata": {}
        },
        {
          "output_type": "display_data",
          "data": {
            "text/plain": [
              "Generating validation split:   0%|          | 0/408 [00:00<?, ? examples/s]"
            ],
            "application/vnd.jupyter.widget-view+json": {
              "version_major": 2,
              "version_minor": 0,
              "model_id": "63e3df05b04c41c9ba7fb79314987684"
            }
          },
          "metadata": {}
        },
        {
          "output_type": "display_data",
          "data": {
            "text/plain": [
              "Generating test split:   0%|          | 0/1725 [00:00<?, ? examples/s]"
            ],
            "application/vnd.jupyter.widget-view+json": {
              "version_major": 2,
              "version_minor": 0,
              "model_id": "f5436e63977a41459a2b4ad9b0a2862b"
            }
          },
          "metadata": {}
        }
      ]
    },
    {
      "cell_type": "code",
      "source": [
        "# let's view the data set as a whole\n",
        "dataset"
      ],
      "metadata": {
        "colab": {
          "base_uri": "https://localhost:8080/"
        },
        "id": "EZgc8nZ3Y1Ra",
        "outputId": "6b380b92-1dc6-4590-9b66-73e146b4a7e4"
      },
      "execution_count": 6,
      "outputs": [
        {
          "output_type": "execute_result",
          "data": {
            "text/plain": [
              "DatasetDict({\n",
              "    train: Dataset({\n",
              "        features: ['sentence1', 'sentence2', 'label', 'idx'],\n",
              "        num_rows: 3668\n",
              "    })\n",
              "    validation: Dataset({\n",
              "        features: ['sentence1', 'sentence2', 'label', 'idx'],\n",
              "        num_rows: 408\n",
              "    })\n",
              "    test: Dataset({\n",
              "        features: ['sentence1', 'sentence2', 'label', 'idx'],\n",
              "        num_rows: 1725\n",
              "    })\n",
              "})"
            ]
          },
          "metadata": {},
          "execution_count": 6
        }
      ]
    },
    {
      "cell_type": "markdown",
      "source": [
        "If the dataset wasn't given to us, then we would have to prepare it ourselves by CSV data splitting."
      ],
      "metadata": {
        "id": "MeBHJmoqBoPE"
      }
    },
    {
      "cell_type": "markdown",
      "source": [
        "We can convert the dataset to Pandas to get a tabular view."
      ],
      "metadata": {
        "id": "ehQu5NBuWM26"
      }
    },
    {
      "cell_type": "code",
      "source": [
        "import pandas as pd\n",
        "dataset.set_format(type=\"pandas\")\n",
        "df = dataset[\"train\"][:]\n",
        "df.head()"
      ],
      "metadata": {
        "colab": {
          "base_uri": "https://localhost:8080/",
          "height": 206
        },
        "id": "kxYl6OdlWRcv",
        "outputId": "b667ca49-47e7-4a9e-8f0c-8a5e89b25973"
      },
      "execution_count": 7,
      "outputs": [
        {
          "output_type": "execute_result",
          "data": {
            "text/plain": [
              "                                           sentence1  \\\n",
              "0  Amrozi accused his brother , whom he called \" ...   \n",
              "1  Yucaipa owned Dominick 's before selling the c...   \n",
              "2  They had published an advertisement on the Int...   \n",
              "3  Around 0335 GMT , Tab shares were up 19 cents ...   \n",
              "4  The stock rose $ 2.11 , or about 11 percent , ...   \n",
              "\n",
              "                                           sentence2  label  idx  \n",
              "0  Referring to him as only \" the witness \" , Amr...      1    0  \n",
              "1  Yucaipa bought Dominick 's in 1995 for $ 693 m...      0    1  \n",
              "2  On June 10 , the ship 's owners had published ...      1    2  \n",
              "3  Tab shares jumped 20 cents , or 4.6 % , to set...      0    3  \n",
              "4  PG & E Corp. shares jumped $ 1.63 or 8 percent...      1    4  "
            ],
            "text/html": [
              "\n",
              "  <div id=\"df-3095e925-cee5-4804-99cc-93605c937a1e\" class=\"colab-df-container\">\n",
              "    <div>\n",
              "<style scoped>\n",
              "    .dataframe tbody tr th:only-of-type {\n",
              "        vertical-align: middle;\n",
              "    }\n",
              "\n",
              "    .dataframe tbody tr th {\n",
              "        vertical-align: top;\n",
              "    }\n",
              "\n",
              "    .dataframe thead th {\n",
              "        text-align: right;\n",
              "    }\n",
              "</style>\n",
              "<table border=\"1\" class=\"dataframe\">\n",
              "  <thead>\n",
              "    <tr style=\"text-align: right;\">\n",
              "      <th></th>\n",
              "      <th>sentence1</th>\n",
              "      <th>sentence2</th>\n",
              "      <th>label</th>\n",
              "      <th>idx</th>\n",
              "    </tr>\n",
              "  </thead>\n",
              "  <tbody>\n",
              "    <tr>\n",
              "      <th>0</th>\n",
              "      <td>Amrozi accused his brother , whom he called \" ...</td>\n",
              "      <td>Referring to him as only \" the witness \" , Amr...</td>\n",
              "      <td>1</td>\n",
              "      <td>0</td>\n",
              "    </tr>\n",
              "    <tr>\n",
              "      <th>1</th>\n",
              "      <td>Yucaipa owned Dominick 's before selling the c...</td>\n",
              "      <td>Yucaipa bought Dominick 's in 1995 for $ 693 m...</td>\n",
              "      <td>0</td>\n",
              "      <td>1</td>\n",
              "    </tr>\n",
              "    <tr>\n",
              "      <th>2</th>\n",
              "      <td>They had published an advertisement on the Int...</td>\n",
              "      <td>On June 10 , the ship 's owners had published ...</td>\n",
              "      <td>1</td>\n",
              "      <td>2</td>\n",
              "    </tr>\n",
              "    <tr>\n",
              "      <th>3</th>\n",
              "      <td>Around 0335 GMT , Tab shares were up 19 cents ...</td>\n",
              "      <td>Tab shares jumped 20 cents , or 4.6 % , to set...</td>\n",
              "      <td>0</td>\n",
              "      <td>3</td>\n",
              "    </tr>\n",
              "    <tr>\n",
              "      <th>4</th>\n",
              "      <td>The stock rose $ 2.11 , or about 11 percent , ...</td>\n",
              "      <td>PG &amp; E Corp. shares jumped $ 1.63 or 8 percent...</td>\n",
              "      <td>1</td>\n",
              "      <td>4</td>\n",
              "    </tr>\n",
              "  </tbody>\n",
              "</table>\n",
              "</div>\n",
              "    <div class=\"colab-df-buttons\">\n",
              "\n",
              "  <div class=\"colab-df-container\">\n",
              "    <button class=\"colab-df-convert\" onclick=\"convertToInteractive('df-3095e925-cee5-4804-99cc-93605c937a1e')\"\n",
              "            title=\"Convert this dataframe to an interactive table.\"\n",
              "            style=\"display:none;\">\n",
              "\n",
              "  <svg xmlns=\"http://www.w3.org/2000/svg\" height=\"24px\" viewBox=\"0 -960 960 960\">\n",
              "    <path d=\"M120-120v-720h720v720H120Zm60-500h600v-160H180v160Zm220 220h160v-160H400v160Zm0 220h160v-160H400v160ZM180-400h160v-160H180v160Zm440 0h160v-160H620v160ZM180-180h160v-160H180v160Zm440 0h160v-160H620v160Z\"/>\n",
              "  </svg>\n",
              "    </button>\n",
              "\n",
              "  <style>\n",
              "    .colab-df-container {\n",
              "      display:flex;\n",
              "      gap: 12px;\n",
              "    }\n",
              "\n",
              "    .colab-df-convert {\n",
              "      background-color: #E8F0FE;\n",
              "      border: none;\n",
              "      border-radius: 50%;\n",
              "      cursor: pointer;\n",
              "      display: none;\n",
              "      fill: #1967D2;\n",
              "      height: 32px;\n",
              "      padding: 0 0 0 0;\n",
              "      width: 32px;\n",
              "    }\n",
              "\n",
              "    .colab-df-convert:hover {\n",
              "      background-color: #E2EBFA;\n",
              "      box-shadow: 0px 1px 2px rgba(60, 64, 67, 0.3), 0px 1px 3px 1px rgba(60, 64, 67, 0.15);\n",
              "      fill: #174EA6;\n",
              "    }\n",
              "\n",
              "    .colab-df-buttons div {\n",
              "      margin-bottom: 4px;\n",
              "    }\n",
              "\n",
              "    [theme=dark] .colab-df-convert {\n",
              "      background-color: #3B4455;\n",
              "      fill: #D2E3FC;\n",
              "    }\n",
              "\n",
              "    [theme=dark] .colab-df-convert:hover {\n",
              "      background-color: #434B5C;\n",
              "      box-shadow: 0px 1px 3px 1px rgba(0, 0, 0, 0.15);\n",
              "      filter: drop-shadow(0px 1px 2px rgba(0, 0, 0, 0.3));\n",
              "      fill: #FFFFFF;\n",
              "    }\n",
              "  </style>\n",
              "\n",
              "    <script>\n",
              "      const buttonEl =\n",
              "        document.querySelector('#df-3095e925-cee5-4804-99cc-93605c937a1e button.colab-df-convert');\n",
              "      buttonEl.style.display =\n",
              "        google.colab.kernel.accessAllowed ? 'block' : 'none';\n",
              "\n",
              "      async function convertToInteractive(key) {\n",
              "        const element = document.querySelector('#df-3095e925-cee5-4804-99cc-93605c937a1e');\n",
              "        const dataTable =\n",
              "          await google.colab.kernel.invokeFunction('convertToInteractive',\n",
              "                                                    [key], {});\n",
              "        if (!dataTable) return;\n",
              "\n",
              "        const docLinkHtml = 'Like what you see? Visit the ' +\n",
              "          '<a target=\"_blank\" href=https://colab.research.google.com/notebooks/data_table.ipynb>data table notebook</a>'\n",
              "          + ' to learn more about interactive tables.';\n",
              "        element.innerHTML = '';\n",
              "        dataTable['output_type'] = 'display_data';\n",
              "        await google.colab.output.renderOutput(dataTable, element);\n",
              "        const docLink = document.createElement('div');\n",
              "        docLink.innerHTML = docLinkHtml;\n",
              "        element.appendChild(docLink);\n",
              "      }\n",
              "    </script>\n",
              "  </div>\n",
              "\n",
              "\n",
              "<div id=\"df-5272219e-d13d-4ffe-b648-0160f13a71d8\">\n",
              "  <button class=\"colab-df-quickchart\" onclick=\"quickchart('df-5272219e-d13d-4ffe-b648-0160f13a71d8')\"\n",
              "            title=\"Suggest charts\"\n",
              "            style=\"display:none;\">\n",
              "\n",
              "<svg xmlns=\"http://www.w3.org/2000/svg\" height=\"24px\"viewBox=\"0 0 24 24\"\n",
              "     width=\"24px\">\n",
              "    <g>\n",
              "        <path d=\"M19 3H5c-1.1 0-2 .9-2 2v14c0 1.1.9 2 2 2h14c1.1 0 2-.9 2-2V5c0-1.1-.9-2-2-2zM9 17H7v-7h2v7zm4 0h-2V7h2v10zm4 0h-2v-4h2v4z\"/>\n",
              "    </g>\n",
              "</svg>\n",
              "  </button>\n",
              "\n",
              "<style>\n",
              "  .colab-df-quickchart {\n",
              "      --bg-color: #E8F0FE;\n",
              "      --fill-color: #1967D2;\n",
              "      --hover-bg-color: #E2EBFA;\n",
              "      --hover-fill-color: #174EA6;\n",
              "      --disabled-fill-color: #AAA;\n",
              "      --disabled-bg-color: #DDD;\n",
              "  }\n",
              "\n",
              "  [theme=dark] .colab-df-quickchart {\n",
              "      --bg-color: #3B4455;\n",
              "      --fill-color: #D2E3FC;\n",
              "      --hover-bg-color: #434B5C;\n",
              "      --hover-fill-color: #FFFFFF;\n",
              "      --disabled-bg-color: #3B4455;\n",
              "      --disabled-fill-color: #666;\n",
              "  }\n",
              "\n",
              "  .colab-df-quickchart {\n",
              "    background-color: var(--bg-color);\n",
              "    border: none;\n",
              "    border-radius: 50%;\n",
              "    cursor: pointer;\n",
              "    display: none;\n",
              "    fill: var(--fill-color);\n",
              "    height: 32px;\n",
              "    padding: 0;\n",
              "    width: 32px;\n",
              "  }\n",
              "\n",
              "  .colab-df-quickchart:hover {\n",
              "    background-color: var(--hover-bg-color);\n",
              "    box-shadow: 0 1px 2px rgba(60, 64, 67, 0.3), 0 1px 3px 1px rgba(60, 64, 67, 0.15);\n",
              "    fill: var(--button-hover-fill-color);\n",
              "  }\n",
              "\n",
              "  .colab-df-quickchart-complete:disabled,\n",
              "  .colab-df-quickchart-complete:disabled:hover {\n",
              "    background-color: var(--disabled-bg-color);\n",
              "    fill: var(--disabled-fill-color);\n",
              "    box-shadow: none;\n",
              "  }\n",
              "\n",
              "  .colab-df-spinner {\n",
              "    border: 2px solid var(--fill-color);\n",
              "    border-color: transparent;\n",
              "    border-bottom-color: var(--fill-color);\n",
              "    animation:\n",
              "      spin 1s steps(1) infinite;\n",
              "  }\n",
              "\n",
              "  @keyframes spin {\n",
              "    0% {\n",
              "      border-color: transparent;\n",
              "      border-bottom-color: var(--fill-color);\n",
              "      border-left-color: var(--fill-color);\n",
              "    }\n",
              "    20% {\n",
              "      border-color: transparent;\n",
              "      border-left-color: var(--fill-color);\n",
              "      border-top-color: var(--fill-color);\n",
              "    }\n",
              "    30% {\n",
              "      border-color: transparent;\n",
              "      border-left-color: var(--fill-color);\n",
              "      border-top-color: var(--fill-color);\n",
              "      border-right-color: var(--fill-color);\n",
              "    }\n",
              "    40% {\n",
              "      border-color: transparent;\n",
              "      border-right-color: var(--fill-color);\n",
              "      border-top-color: var(--fill-color);\n",
              "    }\n",
              "    60% {\n",
              "      border-color: transparent;\n",
              "      border-right-color: var(--fill-color);\n",
              "    }\n",
              "    80% {\n",
              "      border-color: transparent;\n",
              "      border-right-color: var(--fill-color);\n",
              "      border-bottom-color: var(--fill-color);\n",
              "    }\n",
              "    90% {\n",
              "      border-color: transparent;\n",
              "      border-bottom-color: var(--fill-color);\n",
              "    }\n",
              "  }\n",
              "</style>\n",
              "\n",
              "  <script>\n",
              "    async function quickchart(key) {\n",
              "      const quickchartButtonEl =\n",
              "        document.querySelector('#' + key + ' button');\n",
              "      quickchartButtonEl.disabled = true;  // To prevent multiple clicks.\n",
              "      quickchartButtonEl.classList.add('colab-df-spinner');\n",
              "      try {\n",
              "        const charts = await google.colab.kernel.invokeFunction(\n",
              "            'suggestCharts', [key], {});\n",
              "      } catch (error) {\n",
              "        console.error('Error during call to suggestCharts:', error);\n",
              "      }\n",
              "      quickchartButtonEl.classList.remove('colab-df-spinner');\n",
              "      quickchartButtonEl.classList.add('colab-df-quickchart-complete');\n",
              "    }\n",
              "    (() => {\n",
              "      let quickchartButtonEl =\n",
              "        document.querySelector('#df-5272219e-d13d-4ffe-b648-0160f13a71d8 button');\n",
              "      quickchartButtonEl.style.display =\n",
              "        google.colab.kernel.accessAllowed ? 'block' : 'none';\n",
              "    })();\n",
              "  </script>\n",
              "</div>\n",
              "\n",
              "    </div>\n",
              "  </div>\n"
            ],
            "application/vnd.google.colaboratory.intrinsic+json": {
              "type": "dataframe",
              "variable_name": "df",
              "summary": "{\n  \"name\": \"df\",\n  \"rows\": 3668,\n  \"fields\": [\n    {\n      \"column\": \"sentence1\",\n      \"properties\": {\n        \"dtype\": \"string\",\n        \"num_unique_values\": 3668,\n        \"samples\": [\n          \"Tibco has used the Rendezvous name since 1994 for several of its technology products , according to the Palo Alto , California company .\",\n          \"Most of the alleged spammers engaged in fraudulent or deceptive practices , said Brad Smith , Microsoft 's senior VP and general counsel .\",\n          \"Yesterday , Taiwan reported 35 new infections , bringing the total number of cases to 418 .\"\n        ],\n        \"semantic_type\": \"\",\n        \"description\": \"\"\n      }\n    },\n    {\n      \"column\": \"sentence2\",\n      \"properties\": {\n        \"dtype\": \"string\",\n        \"num_unique_values\": 3522,\n        \"samples\": [\n          \"He and colleagues named it Colymbosathon ecplecticos , which means \\\" swimmer with a large penis . \\\"\",\n          \"Smiledge said he hasn 't spoken with his son in eight years and wants nothing to do with him .\",\n          \"The International Committee of the Red Cross , fearful for the safety of its staff operating in Iraq , announced it was temporarily shutting its offices in Baghdad and Basra .\"\n        ],\n        \"semantic_type\": \"\",\n        \"description\": \"\"\n      }\n    },\n    {\n      \"column\": \"label\",\n      \"properties\": {\n        \"dtype\": \"number\",\n        \"std\": 0,\n        \"min\": 0,\n        \"max\": 1,\n        \"num_unique_values\": 2,\n        \"samples\": [\n          0,\n          1\n        ],\n        \"semantic_type\": \"\",\n        \"description\": \"\"\n      }\n    },\n    {\n      \"column\": \"idx\",\n      \"properties\": {\n        \"dtype\": \"int32\",\n        \"num_unique_values\": 3668,\n        \"samples\": [\n          201,\n          2977\n        ],\n        \"semantic_type\": \"\",\n        \"description\": \"\"\n      }\n    }\n  ]\n}"
            }
          },
          "metadata": {},
          "execution_count": 7
        }
      ]
    },
    {
      "cell_type": "markdown",
      "source": [
        "Afterward, we need to convert back to continue."
      ],
      "metadata": {
        "id": "1WRg-M1lWfVb"
      }
    },
    {
      "cell_type": "code",
      "source": [
        "dataset.reset_format()"
      ],
      "metadata": {
        "id": "aJMLAussWm45"
      },
      "execution_count": 8,
      "outputs": []
    },
    {
      "cell_type": "code",
      "source": [
        "# look at a few records of the train dataset.\n",
        "# label refers to if those sentences are indeed\n",
        "# similar\n",
        "\n",
        "## code here\n",
        "dataset['train'][0]"
      ],
      "metadata": {
        "colab": {
          "base_uri": "https://localhost:8080/"
        },
        "id": "brU6NJ-TZEUM",
        "outputId": "da9b4672-3387-40fb-aa93-5d73f5b16249"
      },
      "execution_count": 9,
      "outputs": [
        {
          "output_type": "execute_result",
          "data": {
            "text/plain": [
              "{'sentence1': 'Amrozi accused his brother , whom he called \" the witness \" , of deliberately distorting his evidence .',\n",
              " 'sentence2': 'Referring to him as only \" the witness \" , Amrozi accused his brother of deliberately distorting his evidence .',\n",
              " 'label': 1,\n",
              " 'idx': 0}"
            ]
          },
          "metadata": {},
          "execution_count": 9
        }
      ]
    },
    {
      "cell_type": "code",
      "source": [
        "x = dataset['train'][0]"
      ],
      "metadata": {
        "id": "WWXopci_o4KE"
      },
      "execution_count": 10,
      "outputs": []
    },
    {
      "cell_type": "code",
      "source": [
        "x"
      ],
      "metadata": {
        "colab": {
          "base_uri": "https://localhost:8080/"
        },
        "id": "rb46yhVIcqn5",
        "outputId": "0f489962-bbfb-491f-c59c-2da5490808c9"
      },
      "execution_count": 11,
      "outputs": [
        {
          "output_type": "execute_result",
          "data": {
            "text/plain": [
              "{'sentence1': 'Amrozi accused his brother , whom he called \" the witness \" , of deliberately distorting his evidence .',\n",
              " 'sentence2': 'Referring to him as only \" the witness \" , Amrozi accused his brother of deliberately distorting his evidence .',\n",
              " 'label': 1,\n",
              " 'idx': 0}"
            ]
          },
          "metadata": {},
          "execution_count": 11
        }
      ]
    },
    {
      "cell_type": "code",
      "source": [
        "x = {\"X\": x[\"sentence1\"] + x[\"sentence2\"], \"Y\": x[\"label\"]}"
      ],
      "metadata": {
        "id": "nTvIgA0_o6TT"
      },
      "execution_count": 11,
      "outputs": []
    },
    {
      "cell_type": "code",
      "source": [
        "x"
      ],
      "metadata": {
        "colab": {
          "base_uri": "https://localhost:8080/"
        },
        "id": "TlVd-a81h-E_",
        "outputId": "4f67b37e-ae08-4e42-dcfb-6aff84f571f4"
      },
      "execution_count": 12,
      "outputs": [
        {
          "output_type": "execute_result",
          "data": {
            "text/plain": [
              "{'X': 'Amrozi accused his brother , whom he called \" the witness \" , of deliberately distorting his evidence .Referring to him as only \" the witness \" , Amrozi accused his brother of deliberately distorting his evidence .',\n",
              " 'Y': 1}"
            ]
          },
          "metadata": {},
          "execution_count": 12
        }
      ]
    },
    {
      "cell_type": "markdown",
      "source": [
        "As is typical when fine tuning language models, we need to create a function that will keep track of metrics while training. In order to do this we are going to use the native metric that is seen in the GLEU dataset creation.\n",
        "\n",
        "For more information on the GLUE Metric and Datasets, please view this link: [GLEU](https://huggingface.co/spaces/evaluate-metric/glue)."
      ],
      "metadata": {
        "id": "Kc_MOFpvdnS8"
      }
    },
    {
      "cell_type": "code",
      "source": [
        "# at this point we are going to load in the metric\n",
        "# that we should be using when evaluating the MRPC dataset.\n",
        "# we will use this as part of computing metrics\n",
        "metric = evaluate.load(\"glue\", task)"
      ],
      "metadata": {
        "id": "-Qo854u6gDIw",
        "colab": {
          "base_uri": "https://localhost:8080/",
          "height": 49,
          "referenced_widgets": [
            "dfa86c707fa74e95a9c4019b667fa858",
            "3fd68cc1d8dc4fa99e7572d61ad37d63",
            "ee07b0c4b88c4d11a8bf0d7c380a916a",
            "c84afd195032491f9fd3d0bd99760403",
            "0497536d30d24f9c8f198ea230675b2b",
            "98850bf2d8a04c42abf5d77d56cf3f94",
            "6b014f3040b04d9ebf1247343a97c9fb",
            "8ce3be909d9f48339dae397925cd210c",
            "dfae786e07a04667ae6a04b432d73b74",
            "70a94c07e5c141e3b8c2810dc6611b27",
            "b93926bb393a48519d1211cf9e5c506d"
          ]
        },
        "outputId": "b816a8d2-f4a1-42fe-8786-bca74952efb2"
      },
      "execution_count": 13,
      "outputs": [
        {
          "output_type": "display_data",
          "data": {
            "text/plain": [
              "Downloading builder script: 0.00B [00:00, ?B/s]"
            ],
            "application/vnd.jupyter.widget-view+json": {
              "version_major": 2,
              "version_minor": 0,
              "model_id": "dfa86c707fa74e95a9c4019b667fa858"
            }
          },
          "metadata": {}
        }
      ]
    },
    {
      "cell_type": "markdown",
      "source": [
        "Instead of writing all of this by ourselves, Huggingface has very good bootstrapping. The evaluate library has a lot of metrics."
      ],
      "metadata": {
        "id": "-cCHsh5Ldq-C"
      }
    },
    {
      "cell_type": "code",
      "source": [
        "# let's visualize what this metric\n",
        "# looks like.\n",
        "metric"
      ],
      "metadata": {
        "colab": {
          "base_uri": "https://localhost:8080/"
        },
        "id": "fVsNQIhSZdPf",
        "outputId": "55cc0866-5836-475d-82e0-778653da1753"
      },
      "execution_count": 14,
      "outputs": [
        {
          "output_type": "execute_result",
          "data": {
            "text/plain": [
              "EvaluationModule(name: \"glue\", module_type: \"metric\", features: {'predictions': Value(dtype='int64', id=None), 'references': Value(dtype='int64', id=None)}, usage: \"\"\"\n",
              "Compute GLUE evaluation metric associated to each GLUE dataset.\n",
              "Args:\n",
              "    predictions: list of predictions to score.\n",
              "        Each translation should be tokenized into a list of tokens.\n",
              "    references: list of lists of references for each translation.\n",
              "        Each reference should be tokenized into a list of tokens.\n",
              "Returns: depending on the GLUE subset, one or several of:\n",
              "    \"accuracy\": Accuracy\n",
              "    \"f1\": F1 score\n",
              "    \"pearson\": Pearson Correlation\n",
              "    \"spearmanr\": Spearman Correlation\n",
              "    \"matthews_correlation\": Matthew Correlation\n",
              "Examples:\n",
              "\n",
              "    >>> glue_metric = evaluate.load('glue', 'sst2')  # 'sst2' or any of [\"mnli\", \"mnli_mismatched\", \"mnli_matched\", \"qnli\", \"rte\", \"wnli\", \"hans\"]\n",
              "    >>> references = [0, 1]\n",
              "    >>> predictions = [0, 1]\n",
              "    >>> results = glue_metric.compute(predictions=predictions, references=references)\n",
              "    >>> print(results)\n",
              "    {'accuracy': 1.0}\n",
              "\n",
              "    >>> glue_metric = evaluate.load('glue', 'mrpc')  # 'mrpc' or 'qqp'\n",
              "    >>> references = [0, 1]\n",
              "    >>> predictions = [0, 1]\n",
              "    >>> results = glue_metric.compute(predictions=predictions, references=references)\n",
              "    >>> print(results)\n",
              "    {'accuracy': 1.0, 'f1': 1.0}\n",
              "\n",
              "    >>> glue_metric = evaluate.load('glue', 'stsb')\n",
              "    >>> references = [0., 1., 2., 3., 4., 5.]\n",
              "    >>> predictions = [0., 1., 2., 3., 4., 5.]\n",
              "    >>> results = glue_metric.compute(predictions=predictions, references=references)\n",
              "    >>> print({\"pearson\": round(results[\"pearson\"], 2), \"spearmanr\": round(results[\"spearmanr\"], 2)})\n",
              "    {'pearson': 1.0, 'spearmanr': 1.0}\n",
              "\n",
              "    >>> glue_metric = evaluate.load('glue', 'cola')\n",
              "    >>> references = [0, 1]\n",
              "    >>> predictions = [0, 1]\n",
              "    >>> results = glue_metric.compute(predictions=predictions, references=references)\n",
              "    >>> print(results)\n",
              "    {'matthews_correlation': 1.0}\n",
              "\"\"\", stored examples: 0)"
            ]
          },
          "metadata": {},
          "execution_count": 14
        }
      ]
    },
    {
      "cell_type": "code",
      "source": [
        "# we can see an example here\n",
        "# between references and predictions\n",
        "# this metric is how we will account for\n",
        "# the training and validation loss during\n",
        "# model training\n",
        "references = [0, 1]\n",
        "predictions = [1, 1]\n",
        "results = metric.compute(predictions=predictions, references=references)\n",
        "print(results)"
      ],
      "metadata": {
        "colab": {
          "base_uri": "https://localhost:8080/"
        },
        "id": "-YLQmEPZZwly",
        "outputId": "e2820fbe-23f8-414e-af50-cb3a8b5c207d"
      },
      "execution_count": 15,
      "outputs": [
        {
          "output_type": "stream",
          "name": "stdout",
          "text": [
            "{'accuracy': 0.5, 'f1': 0.6666666666666666}\n"
          ]
        }
      ]
    },
    {
      "cell_type": "code",
      "source": [
        "# go ahead and write a compute_metrics\n",
        "# function that will take an eval_pred\n",
        "# object and return the metric calculation\n",
        "# of the predictions vs the labels.\n",
        "\n",
        "## code here\n",
        "def compute_metrics(eval_pred):\n",
        "    predictions, labels = eval_pred\n",
        "    predictions = np.argmax(predictions, axis=1)\n",
        "    return metric.compute(predictions=predictions, references=labels)"
      ],
      "metadata": {
        "id": "7Ym3RWcWgIvQ"
      },
      "execution_count": 16,
      "outputs": []
    },
    {
      "cell_type": "markdown",
      "source": [
        "Now that we have a model we have to fine tune it. Here's an example of the data.\n",
        "\n",
        "{'sentence1': 'Amrozi accused his brother , whom he called \" the witness \" , of deliberately distorting his evidence .',\n",
        " 'sentence2': 'Referring to him as only \" the witness \" , Amrozi accused his brother of deliberately distorting his evidence .',\n",
        " 'label': 1,\n",
        " 'idx': 0}\n",
        "\n",
        " We pass 2 sentences and a label for training.\n",
        "\n",
        "  'sentence1' 'sentence2'     label\n",
        "\n",
        "To do this, we have to tokenize because the model only understands the tokens. Fortunately, every model comes with a tokenizer. (See the tokenizer.json, tokenizer_config.json and vocab.json at https://huggingface.co/FacebookAI/roberta-base/tree/main)"
      ],
      "metadata": {
        "id": "3VwpsuztfTKQ"
      }
    },
    {
      "cell_type": "markdown",
      "source": [
        "Below we look at the end-of-sentence token id."
      ],
      "metadata": {
        "id": "4ks9vF9ni3gS"
      }
    },
    {
      "cell_type": "markdown",
      "source": [
        "We use Huggingface's AutoTokenizer library to load in the requisite tokenizer. The function truncates or pads the sentences so they are the same length. The sentence can be padded either on the left or right."
      ],
      "metadata": {
        "id": "UwiYYtoSiM4B"
      }
    },
    {
      "cell_type": "code",
      "source": [
        "# load in the requisite tokenizer for the RoBERTA model\n",
        "tokenizer = AutoTokenizer.from_pretrained(model_name_or_path, padding_side=\"right\")\n",
        "if getattr(tokenizer, \"pad_token_id\") is None:\n",
        "    tokenizer.pad_token_id = tokenizer.eos_token_id\n",
        "\n",
        "# write a function that will take in a batch (or example)\n",
        "# and tokenize both the first sentence and second sentence\n",
        "# make sure to truncate the text and don't worry about the max length for now.\n",
        "\n",
        "## code here\n",
        "def tokenize_function(examples):\n",
        "    outputs = tokenizer(examples[\"sentence1\"], examples[\"sentence2\"], truncation=True, max_length=None)\n",
        "    return outputs"
      ],
      "metadata": {
        "id": "YWM_QPGvgMEB",
        "colab": {
          "base_uri": "https://localhost:8080/",
          "height": 177,
          "referenced_widgets": [
            "6190b596d2184bc5920dd7efc3bdfcc4",
            "179f47191e3b4ffbabf3e6c61580d2f0",
            "14b75b068fa549cba416f936a7157575",
            "0f86179a7ed8401fad9bb464dc1161bb",
            "1e83d1b0634346c5a504f4880bf60261",
            "1e9b8b33cada455f816ca7884bebe00c",
            "6a227c24396b45e39cbe41b70234d7b8",
            "1b36373f586a4883aec848bebfdb3caf",
            "d220054bc5d841f6b07d6b4397454d4f",
            "3d1ef1a360ff4c97b1e0bd88045fe99c",
            "3b4ea0bd06bc449cb36a0df52e34a90a",
            "bceaf52df57f4781980cf6bcb6b2970e",
            "bc97894339b243aebec50c70c53a355b",
            "70b5c63299ce4e46a3e6966a5088f120",
            "ca509e0e8f7d4bf0b8a5d6f179900b5e",
            "2615450894474d6792bafd26fff62654",
            "73cd85d61b334b97b586380b07057781",
            "8e0dc3d3cc134da4aac06d19b6b61404",
            "aaf94ee0b3204c3cb85b3e20237dc36a",
            "f26c533a7a5a4f6382f88946706b09c9",
            "377b667ed8ec4c7dac521e539beee9f0",
            "8ae05d1360b4435ea15f9675a461f69a",
            "6a78d3b3793444ecb2f0ac7cd16e9289",
            "558d49a357524780995c24e1fbbb2d71",
            "66d749f15528491ab05a8f650ed31d7c",
            "1d3b5d1dbd7c44f3b22975de36e09cea",
            "821ff0fc2eba4798bdd64b1541969244",
            "1934b95050854a7db4423f7cd3288d8b",
            "b549483b2edd4515b3d463f922220870",
            "ba4d2c43be6a441aadec1fdc87096d39",
            "5be34d695cb4452ba1d71619ddc48c9e",
            "ba7f060e839345e58173e26bf0e9bc66",
            "9d46d15a15c3491fb4333d5ccd1d40b7",
            "0f82cffa712f45a1bb8787538b153c7f",
            "95d7108ee9e9404ca134931470f3f566",
            "c88dc2385be64f86ae0a9d87c8fdb4fc",
            "73e402b235b244aba7b3bec1d43f5b73",
            "a4a4b6b8e99549cda573f76abc71aad6",
            "b8e7429ebbee4dd788fef0040cb0c26b",
            "995a84c3841c42dfa024cb2b0a5ae7fe",
            "e4a4775d27df465d9c3bee5ddf6cc5e9",
            "61daef6174594605b398a44e4a5c85a5",
            "4a4590f5047a40b39b94fe3ebc309697",
            "696a47f23db14e44a40632c8de2f6a1d",
            "ba259abe1686419988f4624f1117af95",
            "77d1278725d74428bfba1b24b7ab6158",
            "d2842c6e9e174b2688ebb6200dcd6273",
            "f563e711779f4159b2f51364079e8c41",
            "e8351aacb4d74860985ac500bfc40120",
            "0176e5a769904b21a06b97759c2c7ad4",
            "58f78c7ed246476cb4050f1b8c270404",
            "fdb00b7254ea4506a6cbb89fe0ca11fb",
            "d9f4ddf0d3a14b4791ecc05dbeaa977c",
            "92307769308d419aba4b6f15f231e5e3",
            "35648cd6a1f44dafab166926a6ba7937"
          ]
        },
        "outputId": "127c3d42-13f6-4bdb-a06c-a54578769bb6"
      },
      "execution_count": 18,
      "outputs": [
        {
          "output_type": "display_data",
          "data": {
            "text/plain": [
              "tokenizer_config.json:   0%|          | 0.00/25.0 [00:00<?, ?B/s]"
            ],
            "application/vnd.jupyter.widget-view+json": {
              "version_major": 2,
              "version_minor": 0,
              "model_id": "6190b596d2184bc5920dd7efc3bdfcc4"
            }
          },
          "metadata": {}
        },
        {
          "output_type": "display_data",
          "data": {
            "text/plain": [
              "config.json:   0%|          | 0.00/481 [00:00<?, ?B/s]"
            ],
            "application/vnd.jupyter.widget-view+json": {
              "version_major": 2,
              "version_minor": 0,
              "model_id": "bceaf52df57f4781980cf6bcb6b2970e"
            }
          },
          "metadata": {}
        },
        {
          "output_type": "display_data",
          "data": {
            "text/plain": [
              "vocab.json:   0%|          | 0.00/899k [00:00<?, ?B/s]"
            ],
            "application/vnd.jupyter.widget-view+json": {
              "version_major": 2,
              "version_minor": 0,
              "model_id": "6a78d3b3793444ecb2f0ac7cd16e9289"
            }
          },
          "metadata": {}
        },
        {
          "output_type": "display_data",
          "data": {
            "text/plain": [
              "merges.txt:   0%|          | 0.00/456k [00:00<?, ?B/s]"
            ],
            "application/vnd.jupyter.widget-view+json": {
              "version_major": 2,
              "version_minor": 0,
              "model_id": "0f82cffa712f45a1bb8787538b153c7f"
            }
          },
          "metadata": {}
        },
        {
          "output_type": "display_data",
          "data": {
            "text/plain": [
              "tokenizer.json:   0%|          | 0.00/1.36M [00:00<?, ?B/s]"
            ],
            "application/vnd.jupyter.widget-view+json": {
              "version_major": 2,
              "version_minor": 0,
              "model_id": "ba259abe1686419988f4624f1117af95"
            }
          },
          "metadata": {}
        }
      ]
    },
    {
      "cell_type": "code",
      "source": [
        "tokenizer.eos_token_id"
      ],
      "metadata": {
        "colab": {
          "base_uri": "https://localhost:8080/"
        },
        "id": "cvKvax7SmI3p",
        "outputId": "1baf0a20-5389-4404-8fc5-6f586f6ad2bb"
      },
      "execution_count": 19,
      "outputs": [
        {
          "output_type": "execute_result",
          "data": {
            "text/plain": [
              "2"
            ]
          },
          "metadata": {},
          "execution_count": 19
        }
      ]
    },
    {
      "cell_type": "code",
      "source": [
        "# df.apply(functio)\n",
        "# dataset.map()"
      ],
      "metadata": {
        "id": "laNybqOimmQ8"
      },
      "execution_count": null,
      "outputs": []
    },
    {
      "cell_type": "code",
      "source": [
        "# take your just written tokenize function\n",
        "# and tokenize the entire dataset that we\n",
        "# pulled in at the beginning\n",
        "\n",
        "## code here\n",
        "tokenized_datasets = dataset.map(\n",
        "    tokenize_function,\n",
        "    batched=True,\n",
        "    remove_columns=[\"idx\", \"sentence1\", \"sentence2\"],\n",
        ")\n",
        "\n",
        "# afterwards, rename the \"label\" feature as \"labels\"\n",
        "\n",
        "## code here\n",
        "tokenized_datasets = tokenized_datasets.rename_column(\"label\", \"labels\")"
      ],
      "metadata": {
        "id": "c3jQdyjggPPx",
        "colab": {
          "base_uri": "https://localhost:8080/",
          "height": 113,
          "referenced_widgets": [
            "cedb54182ef04fb0b0cd1c38eb3fd2f3",
            "64bed42fc82649e69601334b2ef84729",
            "1e460de103234a45b887d446031e79d6",
            "92facced5c0d46e786b7b4557ba0c57a",
            "4d23a93212e14e7d9e99c2a740c5b340",
            "26952966a2414e87b3af1da382e3ec37",
            "9f94572f9f994644a210ff448079f705",
            "977dbeda2ad14801bbb929eb259c18ae",
            "ed0361fc54e94b94b8e68ce30fb3dfe6",
            "1bfbb45d328a47fe8bdbc66cedecf2e6",
            "ef3a4bd0cbdb41d699823733ccef933e",
            "cfed27f50c0b4becad9b446ec03462d0",
            "ed9169c7387846099fd5d95a289495bc",
            "f451f0608a734aee9e8e0d23a54a6437",
            "9fcc7ab86fb344f8b301e398bf49f5bb",
            "4e586f83bf074104aa7d4b9d5351f1b3",
            "5230b10468cc441faa2e5b23593113f9",
            "ee38414dce94442da82f8db0022c195d",
            "d389f52570f84a1cb4f830077db96761",
            "48ceedaddb7c424d94c5ad95fa58f65a",
            "179057b8eef04d35a11a7c8ded77d620",
            "ac968f5bafb44163abc83e9dcfc9a58c",
            "2b7ed430590f4538b69c6b5f2f45946b",
            "d28df3beed1e4d669b49eaf54bbcb36f",
            "062e9f34e63d4315828dd085539b9a72",
            "eb9d351991cb41f199152ca0c9e752de",
            "eb013dce9cdb4c3baa444ac4b007be69",
            "8dfc150d0721403283aa1d2ccf7c6414",
            "314366eeda5a4369818470023779e76b",
            "5919131b290f4ddb8c21cfaeda178c15",
            "4ced28e315ca46f99fddaab32dea287f",
            "ccf7fa7baba649048b6240f8e8d68c7d",
            "2d5f93769cb04dd880d70918e66ba48c"
          ]
        },
        "outputId": "20bc4765-b5f6-434f-d359-b73603f14c42"
      },
      "execution_count": 20,
      "outputs": [
        {
          "output_type": "display_data",
          "data": {
            "text/plain": [
              "Map:   0%|          | 0/3668 [00:00<?, ? examples/s]"
            ],
            "application/vnd.jupyter.widget-view+json": {
              "version_major": 2,
              "version_minor": 0,
              "model_id": "cedb54182ef04fb0b0cd1c38eb3fd2f3"
            }
          },
          "metadata": {}
        },
        {
          "output_type": "display_data",
          "data": {
            "text/plain": [
              "Map:   0%|          | 0/408 [00:00<?, ? examples/s]"
            ],
            "application/vnd.jupyter.widget-view+json": {
              "version_major": 2,
              "version_minor": 0,
              "model_id": "cfed27f50c0b4becad9b446ec03462d0"
            }
          },
          "metadata": {}
        },
        {
          "output_type": "display_data",
          "data": {
            "text/plain": [
              "Map:   0%|          | 0/1725 [00:00<?, ? examples/s]"
            ],
            "application/vnd.jupyter.widget-view+json": {
              "version_major": 2,
              "version_minor": 0,
              "model_id": "2b7ed430590f4538b69c6b5f2f45946b"
            }
          },
          "metadata": {}
        }
      ]
    },
    {
      "cell_type": "code",
      "source": [
        "# view the first few examples of\n",
        "# your tokenized data set to see what it looks\n",
        "# like.\n",
        "x = tokenized_datasets['train'][0]"
      ],
      "metadata": {
        "id": "co6nVJa4Ecfs"
      },
      "execution_count": 21,
      "outputs": []
    },
    {
      "cell_type": "markdown",
      "source": [
        "We see labels, input_ids, and attention_mask. We haven't trained the model yet. We are preparing the data for the model. Currently, nothing is masked. We want to see all tokens."
      ],
      "metadata": {
        "id": "0DBEbXwtsIe3"
      }
    },
    {
      "cell_type": "code",
      "source": [
        "x['labels']"
      ],
      "metadata": {
        "colab": {
          "base_uri": "https://localhost:8080/"
        },
        "id": "4B7uhdr5oGxQ",
        "outputId": "3cbb1602-30c3-46fb-eff7-5b6eff3aaad0"
      },
      "execution_count": 22,
      "outputs": [
        {
          "output_type": "execute_result",
          "data": {
            "text/plain": [
              "1"
            ]
          },
          "metadata": {},
          "execution_count": 22
        }
      ]
    },
    {
      "cell_type": "markdown",
      "source": [
        "The input_ids are what we will feed to the model."
      ],
      "metadata": {
        "id": "9jbAULinr3PW"
      }
    },
    {
      "cell_type": "code",
      "source": [
        "x['input_ids']"
      ],
      "metadata": {
        "colab": {
          "base_uri": "https://localhost:8080/"
        },
        "id": "U94tDflXour2",
        "outputId": "cc3a7c55-f57c-42fd-cf56-33733539196e"
      },
      "execution_count": 23,
      "outputs": [
        {
          "output_type": "execute_result",
          "data": {
            "text/plain": [
              "[0,\n",
              " 10127,\n",
              " 1001,\n",
              " 6182,\n",
              " 1238,\n",
              " 39,\n",
              " 2138,\n",
              " 2156,\n",
              " 2661,\n",
              " 37,\n",
              " 373,\n",
              " 22,\n",
              " 5,\n",
              " 4562,\n",
              " 22,\n",
              " 2156,\n",
              " 9,\n",
              " 12507,\n",
              " 7018,\n",
              " 23817,\n",
              " 39,\n",
              " 1283,\n",
              " 479,\n",
              " 2,\n",
              " 2,\n",
              " 48310,\n",
              " 4506,\n",
              " 7,\n",
              " 123,\n",
              " 25,\n",
              " 129,\n",
              " 22,\n",
              " 5,\n",
              " 4562,\n",
              " 22,\n",
              " 2156,\n",
              " 1918,\n",
              " 1001,\n",
              " 6182,\n",
              " 1238,\n",
              " 39,\n",
              " 2138,\n",
              " 9,\n",
              " 12507,\n",
              " 7018,\n",
              " 23817,\n",
              " 39,\n",
              " 1283,\n",
              " 479,\n",
              " 2]"
            ]
          },
          "metadata": {},
          "execution_count": 23
        }
      ]
    },
    {
      "cell_type": "code",
      "source": [
        "# so that you van view get the input ids from any\n",
        "# example that you choose, and run it through the following code,\n",
        "# what do you notice?\n",
        "example_input_ids = tokenized_datasets['train'][1]['input_ids']\n",
        "tokenizer.convert_tokens_to_string(tokenizer.convert_ids_to_tokens(example_input_ids))"
      ],
      "metadata": {
        "colab": {
          "base_uri": "https://localhost:8080/",
          "height": 53
        },
        "id": "mJbKKu6t_azH",
        "outputId": "1ade9d31-649b-4a1d-9654-3830301cbbab"
      },
      "execution_count": 24,
      "outputs": [
        {
          "output_type": "execute_result",
          "data": {
            "text/plain": [
              "\"<s>Yucaipa owned Dominick 's before selling the chain to Safeway in 1998 for $ 2.5 billion .</s></s>Yucaipa bought Dominick 's in 1995 for $ 693 million and sold it to Safeway for $ 1.8 billion in 1998 .</s>\""
            ],
            "application/vnd.google.colaboratory.intrinsic+json": {
              "type": "string"
            }
          },
          "metadata": {},
          "execution_count": 24
        }
      ]
    },
    {
      "cell_type": "code",
      "source": [],
      "metadata": {
        "id": "zMrKDjn0rcwS"
      },
      "execution_count": null,
      "outputs": []
    },
    {
      "cell_type": "code",
      "source": [
        "# 50 x 50"
      ],
      "metadata": {
        "id": "9GcZb7SNrWEa"
      },
      "execution_count": null,
      "outputs": []
    },
    {
      "cell_type": "code",
      "source": [
        "len(tokenized_datasets['train'])"
      ],
      "metadata": {
        "colab": {
          "base_uri": "https://localhost:8080/"
        },
        "id": "3SgKiPyOpsy-",
        "outputId": "6efec0f6-2f5a-4510-966d-b61718f45c24"
      },
      "execution_count": 25,
      "outputs": [
        {
          "output_type": "execute_result",
          "data": {
            "text/plain": [
              "3668"
            ]
          },
          "metadata": {},
          "execution_count": 25
        }
      ]
    },
    {
      "cell_type": "markdown",
      "source": [
        "At this stage, the data preparation and tokenization has been done. Each and every row are of the same dimension. We have a matrix. We can't see all this because it is lazy execution.\n",
        "\n",
        "The decoding steps above allows you to see what's going on under the hood. None of it is used in the modeling pipeline."
      ],
      "metadata": {
        "id": "Gl-o3CNTvSvI"
      }
    },
    {
      "cell_type": "code",
      "source": [
        "# let's now make a DataCollator object will dynamically pad\n",
        "# our inputs using the tokenizer in question.\n",
        "# ideally we want to pad to the longest sentences that we see in question.\n",
        "data_collator = DataCollatorWithPadding(tokenizer=tokenizer, padding=\"longest\")"
      ],
      "metadata": {
        "id": "28yt8X0lgUak"
      },
      "execution_count": 26,
      "outputs": []
    },
    {
      "cell_type": "markdown",
      "source": [
        "## Fine Tuning Languge Model\n",
        "Let's first fine tune the full language model. We will then compare it to fine tuning on the PEFT version and notice any major differences."
      ],
      "metadata": {
        "id": "YJ1i7iGmi-So"
      }
    },
    {
      "cell_type": "code",
      "source": [
        "# pull in the RoBERTA model\n",
        "# remember to use AutoModelForSequenceClassification\n",
        "# class because we are going to be classifying on a known label.\n",
        "model = AutoModelForSequenceClassification.from_pretrained(model_name_or_path, return_dict=True)"
      ],
      "metadata": {
        "colab": {
          "base_uri": "https://localhost:8080/",
          "height": 105,
          "referenced_widgets": [
            "3dced6c9c4b5401a85672481bd60d741",
            "2f0c25a63a6d43e2b78acf601f39ff6a",
            "bfcf6ac2a9af412d938cf0cfabf753c2",
            "29abe6c0ac1c4337b03e7a8a8bbc8fbe",
            "c1c1c90a30c4416cb5327b3c878f65f9",
            "37b431b40b8d46ec9336fb72f068fc8d",
            "8e2bf2ea4e4b4186880d4b98cb6cb7b5",
            "b8f368ec07a94726b290e9a348d94bc7",
            "6d4e047e7e8f48b1aeb723736f98a71d",
            "111de325fdd04df4bddeb58066fac492",
            "2e563c4ec6e64b01971d10ae046a9249"
          ]
        },
        "id": "AegNuYUGi99h",
        "outputId": "dc6af9f2-544b-4c1d-b40b-c6ecfb4ab384"
      },
      "execution_count": 27,
      "outputs": [
        {
          "output_type": "display_data",
          "data": {
            "text/plain": [
              "model.safetensors:   0%|          | 0.00/499M [00:00<?, ?B/s]"
            ],
            "application/vnd.jupyter.widget-view+json": {
              "version_major": 2,
              "version_minor": 0,
              "model_id": "3dced6c9c4b5401a85672481bd60d741"
            }
          },
          "metadata": {}
        },
        {
          "output_type": "stream",
          "name": "stderr",
          "text": [
            "Some weights of RobertaForSequenceClassification were not initialized from the model checkpoint at roberta-base and are newly initialized: ['classifier.dense.bias', 'classifier.dense.weight', 'classifier.out_proj.bias', 'classifier.out_proj.weight']\n",
            "You should probably TRAIN this model on a down-stream task to be able to use it for predictions and inference.\n"
          ]
        }
      ]
    },
    {
      "cell_type": "code",
      "source": [
        "## find the number of trainable parameters that this model\n",
        "## will use when fine tuning\n",
        "\n",
        "## code here\n",
        "sum(p.numel() for p in model.parameters())"
      ],
      "metadata": {
        "colab": {
          "base_uri": "https://localhost:8080/"
        },
        "id": "SDfXVUyNDBMj",
        "outputId": "16841b55-6248-4df8-88cc-6a433c190600"
      },
      "execution_count": 28,
      "outputs": [
        {
          "output_type": "execute_result",
          "data": {
            "text/plain": [
              "124647170"
            ]
          },
          "metadata": {},
          "execution_count": 28
        }
      ]
    },
    {
      "cell_type": "markdown",
      "source": [
        "Below, we pass in parameters for finetuning. We set up a low learning rate, which relates to gradient descent. The weight decay is the decay that happens over the learning rate. We don't want to have a constant learning rate; therefore, there is a weight_decay. Once an epoch is complete evaluate then. There are occasions where the evaulation occurs in between. Let's say there is a hundred batches in an epoch, the evaluation occurs after 50 steps. Checkpoint is saved after every epoch, but log after every hundred steps. This also means that thee are 200 steps in an epoch. After 200 batches the log gets printed.\n",
        "\n",
        "Once training is complete, the best model is loaded based on the evaluation number into the memory back.\n",
        "\n",
        "The default gradient descent algorithm, which isn't shown is Adam. We can specify a different algorithm such as SG Grad or RMS prop should we choose.\n",
        "Since we have the weights, how we optimize further is our choice. BTW, Adam is the most safest. (See optimizer which is a tuple shown on https://huggingface.co/docs/transformers/main_classes/trainer)\n",
        "\n",
        "As a rule of thumb, use a learning rate that is lower than the model used for pretraining. Generally, the models will show this. If we trained if a larger learning rate then the model may forget what it learned earlier in the base model; therefore, we use a smaller learning rate."
      ],
      "metadata": {
        "id": "6s0gsh_2lc_6"
      }
    },
    {
      "cell_type": "code",
      "source": [
        "## using the TrainingArguments class\n",
        "## choose the best hyperparameters for\n",
        "## fine tuning the languge model.\n",
        "## NOTE: It may help because of the size of the\n",
        "## Roberta model to use logging_steps around 100.\n",
        "\n",
        "## code here\n",
        "training_args = TrainingArguments(\n",
        "    output_dir=\"ik_test/roberta-base-peft-p-tuning\",\n",
        "    learning_rate=1e-3,\n",
        "    per_device_train_batch_size=32,\n",
        "    per_device_eval_batch_size=32,\n",
        "    num_train_epochs=2,\n",
        "    weight_decay=0.01,\n",
        "    evaluation_strategy=\"epoch\",\n",
        "    save_strategy=\"epoch\",\n",
        "    logging_steps=100,\n",
        "    load_best_model_at_end=True,\n",
        ")"
      ],
      "metadata": {
        "colab": {
          "base_uri": "https://localhost:8080/"
        },
        "id": "4rc9mFzJi90a",
        "outputId": "ebf0a81c-eeed-4cb1-f46b-f6bcfd75e5bd"
      },
      "execution_count": 29,
      "outputs": [
        {
          "output_type": "stream",
          "name": "stderr",
          "text": [
            "/usr/local/lib/python3.11/dist-packages/transformers/training_args.py:1611: FutureWarning: `evaluation_strategy` is deprecated and will be removed in version 4.46 of 🤗 Transformers. Use `eval_strategy` instead\n",
            "  warnings.warn(\n"
          ]
        }
      ]
    },
    {
      "cell_type": "markdown",
      "source": [
        "We can log into tools like wandb to log for our training, validation graphs, parameter, GPU, CPU, and RAM usages."
      ],
      "metadata": {
        "id": "NhJqlIsdm-oW"
      }
    },
    {
      "cell_type": "code",
      "source": [
        "!wandb login --relogin"
      ],
      "metadata": {
        "colab": {
          "base_uri": "https://localhost:8080/"
        },
        "id": "bWCwCqBaWFFc",
        "outputId": "8699a6bb-ced7-4201-cf93-0f487fcc75ca"
      },
      "execution_count": 32,
      "outputs": [
        {
          "output_type": "stream",
          "name": "stdout",
          "text": [
            "\u001b[34m\u001b[1mwandb\u001b[0m: Logging into wandb.ai. (Learn how to deploy a W&B server locally: https://wandb.me/wandb-server)\n",
            "\u001b[34m\u001b[1mwandb\u001b[0m: You can find your API key in your browser here: https://wandb.ai/authorize\n",
            "\u001b[34m\u001b[1mwandb\u001b[0m: Paste an API key from your profile and hit enter, or press ctrl+c to quit: \n",
            "\u001b[34m\u001b[1mwandb\u001b[0m: No netrc file found, creating one.\n",
            "\u001b[34m\u001b[1mwandb\u001b[0m: Appending key for api.wandb.ai to your netrc file: /root/.netrc\n",
            "\u001b[34m\u001b[1mwandb\u001b[0m: W&B API key is configured. Use \u001b[1m`wandb login --relogin`\u001b[0m to force relogin\n"
          ]
        }
      ]
    },
    {
      "cell_type": "markdown",
      "source": [],
      "metadata": {
        "id": "Dn4yZb8FWNQY"
      }
    },
    {
      "cell_type": "markdown",
      "source": [
        "The data_collator will make things equal."
      ],
      "metadata": {
        "id": "h8NCviporjSt"
      }
    },
    {
      "cell_type": "code",
      "source": [
        "# put your model, training args, datasets,\n",
        "# tokenizer, data collator, and metrics into a Trainer object\n",
        "# and then begin the fine tuning process\n",
        "\n",
        "## code here\n",
        "trainer = Trainer(\n",
        "    model=model,\n",
        "    args=training_args,\n",
        "    train_dataset=tokenized_datasets[\"train\"],\n",
        "    eval_dataset=tokenized_datasets[\"test\"],\n",
        "    tokenizer=tokenizer,\n",
        "    data_collator=data_collator,\n",
        "    compute_metrics=compute_metrics,\n",
        ")\n",
        "# train the model here\n",
        "## code here\n",
        "trainer.train()"
      ],
      "metadata": {
        "colab": {
          "base_uri": "https://localhost:8080/",
          "height": 370
        },
        "id": "5U-D2kj3i9By",
        "outputId": "a7789029-3a28-4e4f-d03a-d566e039b15d"
      },
      "execution_count": 33,
      "outputs": [
        {
          "output_type": "stream",
          "name": "stderr",
          "text": [
            "<ipython-input-33-e613daccc87a>:6: FutureWarning: `tokenizer` is deprecated and will be removed in version 5.0.0 for `Trainer.__init__`. Use `processing_class` instead.\n",
            "  trainer = Trainer(\n",
            "\u001b[34m\u001b[1mwandb\u001b[0m: \u001b[33mWARNING\u001b[0m The `run_name` is currently set to the same value as `TrainingArguments.output_dir`. If this was not intended, please specify a different run name by setting the `TrainingArguments.run_name` parameter.\n",
            "\u001b[34m\u001b[1mwandb\u001b[0m: Using wandb-core as the SDK backend.  Please refer to https://wandb.me/wandb-core for more information.\n",
            "\u001b[34m\u001b[1mwandb\u001b[0m: Currently logged in as: \u001b[33mqcbit\u001b[0m (\u001b[33mqcbit9\u001b[0m) to \u001b[32mhttps://api.wandb.ai\u001b[0m. Use \u001b[1m`wandb login --relogin`\u001b[0m to force relogin\n"
          ]
        },
        {
          "output_type": "display_data",
          "data": {
            "text/plain": [
              "<IPython.core.display.HTML object>"
            ],
            "text/html": [
              "Tracking run with wandb version 0.19.8"
            ]
          },
          "metadata": {}
        },
        {
          "output_type": "display_data",
          "data": {
            "text/plain": [
              "<IPython.core.display.HTML object>"
            ],
            "text/html": [
              "Run data is saved locally in <code>/content/wandb/run-20250401_184003-iq2xu57w</code>"
            ]
          },
          "metadata": {}
        },
        {
          "output_type": "display_data",
          "data": {
            "text/plain": [
              "<IPython.core.display.HTML object>"
            ],
            "text/html": [
              "Syncing run <strong><a href='https://wandb.ai/qcbit9/huggingface/runs/iq2xu57w' target=\"_blank\">ik_test/roberta-base-peft-p-tuning</a></strong> to <a href='https://wandb.ai/qcbit9/huggingface' target=\"_blank\">Weights & Biases</a> (<a href='https://wandb.me/developer-guide' target=\"_blank\">docs</a>)<br>"
            ]
          },
          "metadata": {}
        },
        {
          "output_type": "display_data",
          "data": {
            "text/plain": [
              "<IPython.core.display.HTML object>"
            ],
            "text/html": [
              " View project at <a href='https://wandb.ai/qcbit9/huggingface' target=\"_blank\">https://wandb.ai/qcbit9/huggingface</a>"
            ]
          },
          "metadata": {}
        },
        {
          "output_type": "display_data",
          "data": {
            "text/plain": [
              "<IPython.core.display.HTML object>"
            ],
            "text/html": [
              " View run at <a href='https://wandb.ai/qcbit9/huggingface/runs/iq2xu57w' target=\"_blank\">https://wandb.ai/qcbit9/huggingface/runs/iq2xu57w</a>"
            ]
          },
          "metadata": {}
        },
        {
          "output_type": "display_data",
          "data": {
            "text/plain": [
              "<IPython.core.display.HTML object>"
            ],
            "text/html": [
              "\n",
              "    <div>\n",
              "      \n",
              "      <progress value='230' max='230' style='width:300px; height:20px; vertical-align: middle;'></progress>\n",
              "      [230/230 02:21, Epoch 2/2]\n",
              "    </div>\n",
              "    <table border=\"1\" class=\"dataframe\">\n",
              "  <thead>\n",
              " <tr style=\"text-align: left;\">\n",
              "      <th>Epoch</th>\n",
              "      <th>Training Loss</th>\n",
              "      <th>Validation Loss</th>\n",
              "      <th>Accuracy</th>\n",
              "      <th>F1</th>\n",
              "    </tr>\n",
              "  </thead>\n",
              "  <tbody>\n",
              "    <tr>\n",
              "      <td>1</td>\n",
              "      <td>0.694200</td>\n",
              "      <td>0.639770</td>\n",
              "      <td>0.664928</td>\n",
              "      <td>0.798747</td>\n",
              "    </tr>\n",
              "    <tr>\n",
              "      <td>2</td>\n",
              "      <td>0.633200</td>\n",
              "      <td>0.638734</td>\n",
              "      <td>0.664928</td>\n",
              "      <td>0.798747</td>\n",
              "    </tr>\n",
              "  </tbody>\n",
              "</table><p>"
            ]
          },
          "metadata": {}
        },
        {
          "output_type": "execute_result",
          "data": {
            "text/plain": [
              "TrainOutput(global_step=230, training_loss=0.660602503237517, metrics={'train_runtime': 148.4212, 'train_samples_per_second': 49.427, 'train_steps_per_second': 1.55, 'total_flos': 302442047026080.0, 'train_loss': 0.660602503237517, 'epoch': 2.0})"
            ]
          },
          "metadata": {},
          "execution_count": 33
        }
      ]
    },
    {
      "cell_type": "code",
      "source": [
        "from sklearn.metrics import ConfusionMatrixDisplay, confusion_matrix\n",
        "import matplotlib.pyplot as plt\n",
        "# here is a plot confusion matrix from before\n",
        "# lets use it to plot a confusion matrix\n",
        "# of our labels\n",
        "def plot_confusion_matrix(y_preds, y_true, labels):\n",
        "    cm = confusion_matrix(y_true, y_preds, normalize=\"true\")\n",
        "    fig, ax = plt.subplots(figsize=(6, 6))\n",
        "    disp = ConfusionMatrixDisplay(confusion_matrix=cm, display_labels=labels)\n",
        "    disp.plot(cmap=\"Blues\", values_format=\".2f\", ax=ax, colorbar=False)\n",
        "    plt.title(\"Normalized confusion matrix\")\n",
        "    plt.show()\n",
        "\n",
        "## code here\n",
        "y_preds = np.argmax(trainer.predict(tokenized_datasets[\"test\"]).predictions, axis=1)\n",
        "y_test = tokenized_datasets[\"test\"]['labels']"
      ],
      "metadata": {
        "colab": {
          "base_uri": "https://localhost:8080/",
          "height": 17
        },
        "id": "CbNIPwFLFDau",
        "outputId": "49cf3423-95a1-4cbc-c68c-0c11c3329bb8"
      },
      "execution_count": 34,
      "outputs": [
        {
          "output_type": "display_data",
          "data": {
            "text/plain": [
              "<IPython.core.display.HTML object>"
            ],
            "text/html": []
          },
          "metadata": {}
        }
      ]
    },
    {
      "cell_type": "code",
      "source": [
        "# plot the confusion matrix\n",
        "## code here\n",
        "labels = [\"not equivalent\", \"equivalent\"]\n",
        "plot_confusion_matrix(y_preds, y_test, labels)"
      ],
      "metadata": {
        "colab": {
          "base_uri": "https://localhost:8080/",
          "height": 564
        },
        "id": "FH26lRMwFS8W",
        "outputId": "792326cd-2242-473e-e33d-c00101cdea27"
      },
      "execution_count": 35,
      "outputs": [
        {
          "output_type": "display_data",
          "data": {
            "text/plain": [
              "<Figure size 600x600 with 1 Axes>"
            ],
            "image/png": "[encoded data removed]"
          },
          "metadata": {}
        }
      ]
    },
    {
      "cell_type": "markdown",
      "source": [
        "The shown normalized confusion matrix isn't that good, but perhaps if we were to train more then a better one will be shown. We can do this by increasing the epochs in the training arguments. This is one way of finetuning."
      ],
      "metadata": {
        "id": "xoeqp62PuHf6"
      }
    },
    {
      "cell_type": "markdown",
      "source": [
        "## Train the LoRA variation of the RoBERTA Model\n",
        "In this section we are going to fine tune the language model using the LoRA configuration. It will follow a similar procedure as done before.\n",
        "\n",
        "Consider a bigger model. One that we cannot fine tune all the parameters. What happens if we cannot afford to fine tune a model that has 125 million parameters? That is, our GPU and memory is not allowing us to fine tune. We can use LoRA (Low Rank Adapter) to help us. (see https://www.databricks.com/blog/efficient-fine-tuning-lora-guide-llms, https://huggingface.co/docs/diffusers/v0.32.2/en/api/loaders/lora#lora, and https://en.wikipedia.org/wiki/Fine-tuning_(deep_learning)#Low-rank_adaptation)\n",
        "\n",
        "The LoraConfig reduces the rank space with the parameter r. LoRA is part of the PEFT (Parameter Efficient Fine Tuning) library on HuggingFace. LoRA is not by default in the Transformers. There are multiple PEFT task types (see https://huggingface.co/docs/peft/package_reference/peft_types).\n",
        "\n",
        "Resource:\n",
        "\n",
        "LoRA: Low-Rank Adaptation of Large Language Models (https://arxiv.org/pdf/2106.09685)\n",
        "\n",
        "Low-Rank Adapter LoRA Explained (https://medium.com/@shelikohan/low-rank-adapter-lora-explained-0d3677395639)"
      ],
      "metadata": {
        "id": "7S8fcTssliWl"
      }
    },
    {
      "cell_type": "code",
      "source": [
        "# let us now get the LoRA confirguration\n",
        "# get the lora configuration of the model\n",
        "# in order to do this use lora_config and choose the appropriate rank\n",
        "\n",
        "## code here\n",
        "lora_config = LoraConfig(\n",
        "    task_type=TaskType.SEQ_CLS, r=32, lora_alpha=1, lora_dropout=0.1)"
      ],
      "metadata": {
        "id": "S2aKQKSVgYUd"
      },
      "execution_count": 36,
      "outputs": []
    },
    {
      "cell_type": "code",
      "source": [
        "# now create the pretained model using the RoBERTA path\n",
        "# and wrap it around the lora configuration\n",
        "# afterwards print out the number of trainable parameters\n",
        "# what do you notice with the original roberta model?\n",
        "\n",
        "## code here\n",
        "model = AutoModelForSequenceClassification.from_pretrained(model_name_or_path, return_dict=True)\n",
        "model = get_peft_model(model, lora_config)\n",
        "model.print_trainable_parameters()"
      ],
      "metadata": {
        "colab": {
          "base_uri": "https://localhost:8080/"
        },
        "id": "1Bh1xtUlgg2Y",
        "outputId": "2786e9ac-c8e6-4729-8245-bab32b8e31d4"
      },
      "execution_count": 37,
      "outputs": [
        {
          "output_type": "stream",
          "name": "stderr",
          "text": [
            "Some weights of RobertaForSequenceClassification were not initialized from the model checkpoint at roberta-base and are newly initialized: ['classifier.dense.bias', 'classifier.dense.weight', 'classifier.out_proj.bias', 'classifier.out_proj.weight']\n",
            "You should probably TRAIN this model on a down-stream task to be able to use it for predictions and inference.\n"
          ]
        },
        {
          "output_type": "stream",
          "name": "stdout",
          "text": [
            "trainable params: 1,771,778 || all params: 126,418,948 || trainable%: 1.4015\n"
          ]
        }
      ]
    },
    {
      "cell_type": "markdown",
      "source": [
        "Regarding the training arguments, one thing to note is that before when we train the LLM choosing the learning_rate is critical so that information is not lost. For LoRA, this isn't the case. For a specialized task, using LoRA for training is better. For a full task, LoRA is not optimal."
      ],
      "metadata": {
        "id": "yO5GgyU6dJLY"
      }
    },
    {
      "cell_type": "code",
      "source": [
        "# in a similar way as before,\n",
        "# write out the training arguments that you wish\n",
        "# to use for the lora configuration of Roberta.\n",
        "\n",
        "## code here\n",
        "training_args = TrainingArguments(\n",
        "    output_dir=\"ik_test/roberta-base-peft-p-tuning\",\n",
        "    learning_rate=1e-3,\n",
        "    per_device_train_batch_size=32,\n",
        "    per_device_eval_batch_size=32,\n",
        "    num_train_epochs=4,\n",
        "    weight_decay=0.01,\n",
        "    evaluation_strategy=\"epoch\",\n",
        "    save_strategy=\"epoch\",\n",
        "    logging_steps=100,\n",
        "    load_best_model_at_end=True,\n",
        ")"
      ],
      "metadata": {
        "id": "Nv6HNJ1fgsnM",
        "colab": {
          "base_uri": "https://localhost:8080/"
        },
        "outputId": "54acda4e-750d-42c6-c28b-2c645fb000d7"
      },
      "execution_count": 38,
      "outputs": [
        {
          "output_type": "stream",
          "name": "stderr",
          "text": [
            "/usr/local/lib/python3.11/dist-packages/transformers/training_args.py:1611: FutureWarning: `evaluation_strategy` is deprecated and will be removed in version 4.46 of 🤗 Transformers. Use `eval_strategy` instead\n",
            "  warnings.warn(\n"
          ]
        }
      ]
    },
    {
      "cell_type": "markdown",
      "source": [
        "Notice that if you compare this Trainer object to the previous Trainer object, nothing has changed. The change is in the model, i.e., LoRA was applied."
      ],
      "metadata": {
        "id": "VpJq1gq9E_xn"
      }
    },
    {
      "cell_type": "code",
      "source": [
        "# similarly as before write down the Trainer\n",
        "# object and with your training arguments, lora model\n",
        "# datasets, tokenizer, data collator, and compute metrics\n",
        "\n",
        "## code here\n",
        "trainer = Trainer(\n",
        "    model=model,\n",
        "    args=training_args,\n",
        "    train_dataset=tokenized_datasets[\"train\"],\n",
        "    eval_dataset=tokenized_datasets[\"test\"],\n",
        "    tokenizer=tokenizer,\n",
        "    data_collator=data_collator,\n",
        "    compute_metrics=compute_metrics,\n",
        ")\n",
        "\n",
        "# train the model\n",
        "## code here\n",
        "trainer.train()"
      ],
      "metadata": {
        "colab": {
          "base_uri": "https://localhost:8080/",
          "height": 310
        },
        "id": "NXMGYTQkg7dU",
        "outputId": "8d55be78-ebe8-4c86-94bc-989d897849ee"
      },
      "execution_count": 39,
      "outputs": [
        {
          "output_type": "stream",
          "name": "stderr",
          "text": [
            "<ipython-input-39-747e88e4de0f>:6: FutureWarning: `tokenizer` is deprecated and will be removed in version 5.0.0 for `Trainer.__init__`. Use `processing_class` instead.\n",
            "  trainer = Trainer(\n",
            "No label_names provided for model class `PeftModelForSequenceClassification`. Since `PeftModel` hides base models input arguments, if label_names is not given, label_names can't be set automatically within `Trainer`. Note that empty label_names list will be used instead.\n"
          ]
        },
        {
          "output_type": "display_data",
          "data": {
            "text/plain": [
              "<IPython.core.display.HTML object>"
            ],
            "text/html": [
              "\n",
              "    <div>\n",
              "      \n",
              "      <progress value='460' max='460' style='width:300px; height:20px; vertical-align: middle;'></progress>\n",
              "      [460/460 03:01, Epoch 4/4]\n",
              "    </div>\n",
              "    <table border=\"1\" class=\"dataframe\">\n",
              "  <thead>\n",
              " <tr style=\"text-align: left;\">\n",
              "      <th>Epoch</th>\n",
              "      <th>Training Loss</th>\n",
              "      <th>Validation Loss</th>\n",
              "      <th>Accuracy</th>\n",
              "      <th>F1</th>\n",
              "    </tr>\n",
              "  </thead>\n",
              "  <tbody>\n",
              "    <tr>\n",
              "      <td>1</td>\n",
              "      <td>0.622000</td>\n",
              "      <td>0.544938</td>\n",
              "      <td>0.749565</td>\n",
              "      <td>0.827476</td>\n",
              "    </tr>\n",
              "    <tr>\n",
              "      <td>2</td>\n",
              "      <td>0.506700</td>\n",
              "      <td>0.407117</td>\n",
              "      <td>0.805797</td>\n",
              "      <td>0.864865</td>\n",
              "    </tr>\n",
              "    <tr>\n",
              "      <td>3</td>\n",
              "      <td>0.425900</td>\n",
              "      <td>0.349696</td>\n",
              "      <td>0.839420</td>\n",
              "      <td>0.881269</td>\n",
              "    </tr>\n",
              "    <tr>\n",
              "      <td>4</td>\n",
              "      <td>0.371700</td>\n",
              "      <td>0.337543</td>\n",
              "      <td>0.846377</td>\n",
              "      <td>0.887186</td>\n",
              "    </tr>\n",
              "  </tbody>\n",
              "</table><p>"
            ]
          },
          "metadata": {}
        },
        {
          "output_type": "execute_result",
          "data": {
            "text/plain": [
              "TrainOutput(global_step=460, training_loss=0.46890073029891305, metrics={'train_runtime': 181.9602, 'train_samples_per_second': 80.633, 'train_steps_per_second': 2.528, 'total_flos': 617951048233344.0, 'train_loss': 0.46890073029891305, 'epoch': 4.0})"
            ]
          },
          "metadata": {},
          "execution_count": 39
        }
      ]
    },
    {
      "cell_type": "code",
      "source": [
        "# get the training predictions\n",
        "# as well as the test target outputs\n",
        "# lastly plot the confusion matric\n",
        "\n",
        "## code here\n",
        "y_preds = np.argmax(trainer.predict(tokenized_datasets[\"test\"]).predictions, axis=1)\n",
        "y_test = tokenized_datasets[\"test\"]['labels']\n",
        "labels = [\"not equivalent\", \"equivalent\"]\n",
        "plot_confusion_matrix(y_preds, y_test, labels)"
      ],
      "metadata": {
        "colab": {
          "base_uri": "https://localhost:8080/",
          "height": 564
        },
        "id": "jE5lxw4ql7XI",
        "outputId": "4c9c7d5b-3aea-4a0b-9e21-1edd9affa369"
      },
      "execution_count": 40,
      "outputs": [
        {
          "output_type": "display_data",
          "data": {
            "text/plain": [
              "<IPython.core.display.HTML object>"
            ],
            "text/html": []
          },
          "metadata": {}
        },
        {
          "output_type": "display_data",
          "data": {
            "text/plain": [
              "<Figure size 600x600 with 1 Axes>"
            ],
            "image/png": "[encoded data removed]"
          },
          "metadata": {}
        }
      ]
    },
    {
      "cell_type": "markdown",
      "source": [
        "Now we are ready to begin testing our LoRA model on test data that we generate ourselves. We are providing two sentences and the code in order to determine semantic similarity. Afterwards, you can test some yourselves."
      ],
      "metadata": {
        "id": "rXx5QTz1HpAQ"
      }
    },
    {
      "cell_type": "code",
      "source": [
        "# let's look at a specific example\n",
        "# and see what the trained model will do on two samples\n",
        "# that are not necessarily in the training or valiudation data\n",
        "\n",
        "## here is the code to take in two sentences, tokenize them,\n",
        "## and generate model logit outputs. Lastly, we are going to generate predictions\n",
        "## for each classes.\n",
        "def get_preds(sentence1, sentence2, classes=[\"not equivalent\", \"equivalent\"]):\n",
        "  inputs = tokenizer(sentence1,\n",
        "                     sentence2,\n",
        "                     truncation=True,\n",
        "                     padding=\"longest\",\n",
        "                     return_tensors=\"pt\").to(\"cuda\")\n",
        "  with torch.no_grad():\n",
        "    outputs = trainer.model(**inputs).logits\n",
        "    print(outputs)\n",
        "\n",
        "  paraphrased_text = torch.softmax(outputs, dim=1).tolist()[0]\n",
        "  for i in range(len(classes)):\n",
        "      print(f\"{classes[i]}: {int(round(paraphrased_text[i] * 100))}%\")\n",
        "\n",
        "\n",
        "## here are two sentences and we'd like to understand\n",
        "## if the two sentences are equivalent\n",
        "sentence1 = \"Coast redwood trees are the tallest trees on the planet and can grow over 300 feet tall.\"\n",
        "sentence2 = \"The coast redwood trees, which can attain a height of over 300 feet, are the tallest trees on earth.\"\n",
        "## run the get_preds function with these two sentences\n",
        "\n",
        "## code here\n",
        "get_preds(sentence1, sentence2)"
      ],
      "metadata": {
        "colab": {
          "base_uri": "https://localhost:8080/"
        },
        "id": "zsa4TJ3kl36D",
        "outputId": "0d1af37d-eb69-4d13-bd2f-e54a611d6474"
      },
      "execution_count": 41,
      "outputs": [
        {
          "output_type": "stream",
          "name": "stdout",
          "text": [
            "tensor([[-2.0304,  1.8988]], device='cuda:0')\n",
            "not equivalent: 2%\n",
            "equivalent: 98%\n"
          ]
        }
      ]
    },
    {
      "cell_type": "code",
      "source": [
        "## go ahead and chose two sentences and\n",
        "## check if they are semantically equivalent\n",
        "## what do you notice about the sentences you choose?\n",
        "\n",
        "sentence1 = 'Howdy, my name is Harry and I like data science'\n",
        "sentence2 = 'Howdy, my name is Albert and I like mathematics'\n",
        "get_preds(sentence1, sentence2)"
      ],
      "metadata": {
        "id": "NQcD0IVziQsz",
        "colab": {
          "base_uri": "https://localhost:8080/"
        },
        "outputId": "ca61e100-76cb-49ca-ca6f-1f4003b4cf35"
      },
      "execution_count": 42,
      "outputs": [
        {
          "output_type": "stream",
          "name": "stdout",
          "text": [
            "tensor([[-0.7960,  0.6250]], device='cuda:0')\n",
            "not equivalent: 19%\n",
            "equivalent: 81%\n"
          ]
        }
      ]
    },
    {
      "cell_type": "code",
      "source": [
        "# Evaluate\n",
        "# Datasets\n",
        "# Tokenizers\n",
        "# Transformer\n",
        "# Peft"
      ],
      "metadata": {
        "id": "DZkVT5b_ri_c"
      },
      "execution_count": null,
      "outputs": []
    }
  ]
}