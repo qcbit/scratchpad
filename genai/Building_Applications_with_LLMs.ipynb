{
  "nbformat": 4,
  "nbformat_minor": 0,
  "metadata": {
    "colab": {
      "provenance": []
    },
    "kernelspec": {
      "name": "python3",
      "display_name": "Python 3"
    },
    "language_info": {
      "name": "python"
    }
  },
  "cells": [
    {
      "cell_type": "code",
      "execution_count": 2,
      "metadata": {
        "colab": {
          "base_uri": "https://localhost:8080/"
        },
        "id": "7saQrSXSiBvt",
        "outputId": "433bb491-1659-4337-b05e-116b19519e33",
        "collapsed": true
      },
      "outputs": [
        {
          "output_type": "stream",
          "name": "stdout",
          "text": [
            "Requirement already satisfied: langchainhub in /usr/local/lib/python3.11/dist-packages (0.1.21)\n",
            "Requirement already satisfied: packaging<25,>=23.2 in /usr/local/lib/python3.11/dist-packages (from langchainhub) (24.2)\n",
            "Requirement already satisfied: requests<3,>=2 in /usr/local/lib/python3.11/dist-packages (from langchainhub) (2.32.3)\n",
            "Requirement already satisfied: types-requests<3.0.0.0,>=2.31.0.2 in /usr/local/lib/python3.11/dist-packages (from langchainhub) (2.32.0.20250306)\n",
            "Requirement already satisfied: charset-normalizer<4,>=2 in /usr/local/lib/python3.11/dist-packages (from requests<3,>=2->langchainhub) (3.4.1)\n",
            "Requirement already satisfied: idna<4,>=2.5 in /usr/local/lib/python3.11/dist-packages (from requests<3,>=2->langchainhub) (3.10)\n",
            "Requirement already satisfied: urllib3<3,>=1.21.1 in /usr/local/lib/python3.11/dist-packages (from requests<3,>=2->langchainhub) (2.3.0)\n",
            "Requirement already satisfied: certifi>=2017.4.17 in /usr/local/lib/python3.11/dist-packages (from requests<3,>=2->langchainhub) (2025.1.31)\n",
            "Requirement already satisfied: langchain-openai in /usr/local/lib/python3.11/dist-packages (0.3.9)\n",
            "Requirement already satisfied: langchain-core<1.0.0,>=0.3.45 in /usr/local/lib/python3.11/dist-packages (from langchain-openai) (0.3.45)\n",
            "Requirement already satisfied: openai<2.0.0,>=1.66.3 in /usr/local/lib/python3.11/dist-packages (from langchain-openai) (1.66.3)\n",
            "Requirement already satisfied: tiktoken<1,>=0.7 in /usr/local/lib/python3.11/dist-packages (from langchain-openai) (0.9.0)\n",
            "Requirement already satisfied: langsmith<0.4,>=0.1.125 in /usr/local/lib/python3.11/dist-packages (from langchain-core<1.0.0,>=0.3.45->langchain-openai) (0.3.13)\n",
            "Requirement already satisfied: tenacity!=8.4.0,<10.0.0,>=8.1.0 in /usr/local/lib/python3.11/dist-packages (from langchain-core<1.0.0,>=0.3.45->langchain-openai) (9.0.0)\n",
            "Requirement already satisfied: jsonpatch<2.0,>=1.33 in /usr/local/lib/python3.11/dist-packages (from langchain-core<1.0.0,>=0.3.45->langchain-openai) (1.33)\n",
            "Requirement already satisfied: PyYAML>=5.3 in /usr/local/lib/python3.11/dist-packages (from langchain-core<1.0.0,>=0.3.45->langchain-openai) (6.0.2)\n",
            "Requirement already satisfied: packaging<25,>=23.2 in /usr/local/lib/python3.11/dist-packages (from langchain-core<1.0.0,>=0.3.45->langchain-openai) (24.2)\n",
            "Requirement already satisfied: typing-extensions>=4.7 in /usr/local/lib/python3.11/dist-packages (from langchain-core<1.0.0,>=0.3.45->langchain-openai) (4.12.2)\n",
            "Requirement already satisfied: pydantic<3.0.0,>=2.5.2 in /usr/local/lib/python3.11/dist-packages (from langchain-core<1.0.0,>=0.3.45->langchain-openai) (2.10.6)\n",
            "Requirement already satisfied: anyio<5,>=3.5.0 in /usr/local/lib/python3.11/dist-packages (from openai<2.0.0,>=1.66.3->langchain-openai) (3.7.1)\n",
            "Requirement already satisfied: distro<2,>=1.7.0 in /usr/local/lib/python3.11/dist-packages (from openai<2.0.0,>=1.66.3->langchain-openai) (1.9.0)\n",
            "Requirement already satisfied: httpx<1,>=0.23.0 in /usr/local/lib/python3.11/dist-packages (from openai<2.0.0,>=1.66.3->langchain-openai) (0.28.1)\n",
            "Requirement already satisfied: jiter<1,>=0.4.0 in /usr/local/lib/python3.11/dist-packages (from openai<2.0.0,>=1.66.3->langchain-openai) (0.9.0)\n",
            "Requirement already satisfied: sniffio in /usr/local/lib/python3.11/dist-packages (from openai<2.0.0,>=1.66.3->langchain-openai) (1.3.1)\n",
            "Requirement already satisfied: tqdm>4 in /usr/local/lib/python3.11/dist-packages (from openai<2.0.0,>=1.66.3->langchain-openai) (4.67.1)\n",
            "Requirement already satisfied: regex>=2022.1.18 in /usr/local/lib/python3.11/dist-packages (from tiktoken<1,>=0.7->langchain-openai) (2024.11.6)\n",
            "Requirement already satisfied: requests>=2.26.0 in /usr/local/lib/python3.11/dist-packages (from tiktoken<1,>=0.7->langchain-openai) (2.32.3)\n",
            "Requirement already satisfied: idna>=2.8 in /usr/local/lib/python3.11/dist-packages (from anyio<5,>=3.5.0->openai<2.0.0,>=1.66.3->langchain-openai) (3.10)\n",
            "Requirement already satisfied: certifi in /usr/local/lib/python3.11/dist-packages (from httpx<1,>=0.23.0->openai<2.0.0,>=1.66.3->langchain-openai) (2025.1.31)\n",
            "Requirement already satisfied: httpcore==1.* in /usr/local/lib/python3.11/dist-packages (from httpx<1,>=0.23.0->openai<2.0.0,>=1.66.3->langchain-openai) (1.0.7)\n",
            "Requirement already satisfied: h11<0.15,>=0.13 in /usr/local/lib/python3.11/dist-packages (from httpcore==1.*->httpx<1,>=0.23.0->openai<2.0.0,>=1.66.3->langchain-openai) (0.14.0)\n",
            "Requirement already satisfied: jsonpointer>=1.9 in /usr/local/lib/python3.11/dist-packages (from jsonpatch<2.0,>=1.33->langchain-core<1.0.0,>=0.3.45->langchain-openai) (3.0.0)\n",
            "Requirement already satisfied: orjson<4.0.0,>=3.9.14 in /usr/local/lib/python3.11/dist-packages (from langsmith<0.4,>=0.1.125->langchain-core<1.0.0,>=0.3.45->langchain-openai) (3.10.15)\n",
            "Requirement already satisfied: requests-toolbelt<2.0.0,>=1.0.0 in /usr/local/lib/python3.11/dist-packages (from langsmith<0.4,>=0.1.125->langchain-core<1.0.0,>=0.3.45->langchain-openai) (1.0.0)\n",
            "Requirement already satisfied: zstandard<0.24.0,>=0.23.0 in /usr/local/lib/python3.11/dist-packages (from langsmith<0.4,>=0.1.125->langchain-core<1.0.0,>=0.3.45->langchain-openai) (0.23.0)\n",
            "Requirement already satisfied: annotated-types>=0.6.0 in /usr/local/lib/python3.11/dist-packages (from pydantic<3.0.0,>=2.5.2->langchain-core<1.0.0,>=0.3.45->langchain-openai) (0.7.0)\n",
            "Requirement already satisfied: pydantic-core==2.27.2 in /usr/local/lib/python3.11/dist-packages (from pydantic<3.0.0,>=2.5.2->langchain-core<1.0.0,>=0.3.45->langchain-openai) (2.27.2)\n",
            "Requirement already satisfied: charset-normalizer<4,>=2 in /usr/local/lib/python3.11/dist-packages (from requests>=2.26.0->tiktoken<1,>=0.7->langchain-openai) (3.4.1)\n",
            "Requirement already satisfied: urllib3<3,>=1.21.1 in /usr/local/lib/python3.11/dist-packages (from requests>=2.26.0->tiktoken<1,>=0.7->langchain-openai) (2.3.0)\n",
            "Requirement already satisfied: langchain in /usr/local/lib/python3.11/dist-packages (0.3.20)\n",
            "Requirement already satisfied: langchain-core<1.0.0,>=0.3.41 in /usr/local/lib/python3.11/dist-packages (from langchain) (0.3.45)\n",
            "Requirement already satisfied: langchain-text-splitters<1.0.0,>=0.3.6 in /usr/local/lib/python3.11/dist-packages (from langchain) (0.3.6)\n",
            "Requirement already satisfied: langsmith<0.4,>=0.1.17 in /usr/local/lib/python3.11/dist-packages (from langchain) (0.3.13)\n",
            "Requirement already satisfied: pydantic<3.0.0,>=2.7.4 in /usr/local/lib/python3.11/dist-packages (from langchain) (2.10.6)\n",
            "Requirement already satisfied: SQLAlchemy<3,>=1.4 in /usr/local/lib/python3.11/dist-packages (from langchain) (2.0.39)\n",
            "Requirement already satisfied: requests<3,>=2 in /usr/local/lib/python3.11/dist-packages (from langchain) (2.32.3)\n",
            "Requirement already satisfied: PyYAML>=5.3 in /usr/local/lib/python3.11/dist-packages (from langchain) (6.0.2)\n",
            "Requirement already satisfied: tenacity!=8.4.0,<10.0.0,>=8.1.0 in /usr/local/lib/python3.11/dist-packages (from langchain-core<1.0.0,>=0.3.41->langchain) (9.0.0)\n",
            "Requirement already satisfied: jsonpatch<2.0,>=1.33 in /usr/local/lib/python3.11/dist-packages (from langchain-core<1.0.0,>=0.3.41->langchain) (1.33)\n",
            "Requirement already satisfied: packaging<25,>=23.2 in /usr/local/lib/python3.11/dist-packages (from langchain-core<1.0.0,>=0.3.41->langchain) (24.2)\n",
            "Requirement already satisfied: typing-extensions>=4.7 in /usr/local/lib/python3.11/dist-packages (from langchain-core<1.0.0,>=0.3.41->langchain) (4.12.2)\n",
            "Requirement already satisfied: httpx<1,>=0.23.0 in /usr/local/lib/python3.11/dist-packages (from langsmith<0.4,>=0.1.17->langchain) (0.28.1)\n",
            "Requirement already satisfied: orjson<4.0.0,>=3.9.14 in /usr/local/lib/python3.11/dist-packages (from langsmith<0.4,>=0.1.17->langchain) (3.10.15)\n",
            "Requirement already satisfied: requests-toolbelt<2.0.0,>=1.0.0 in /usr/local/lib/python3.11/dist-packages (from langsmith<0.4,>=0.1.17->langchain) (1.0.0)\n",
            "Requirement already satisfied: zstandard<0.24.0,>=0.23.0 in /usr/local/lib/python3.11/dist-packages (from langsmith<0.4,>=0.1.17->langchain) (0.23.0)\n",
            "Requirement already satisfied: annotated-types>=0.6.0 in /usr/local/lib/python3.11/dist-packages (from pydantic<3.0.0,>=2.7.4->langchain) (0.7.0)\n",
            "Requirement already satisfied: pydantic-core==2.27.2 in /usr/local/lib/python3.11/dist-packages (from pydantic<3.0.0,>=2.7.4->langchain) (2.27.2)\n",
            "Requirement already satisfied: charset-normalizer<4,>=2 in /usr/local/lib/python3.11/dist-packages (from requests<3,>=2->langchain) (3.4.1)\n",
            "Requirement already satisfied: idna<4,>=2.5 in /usr/local/lib/python3.11/dist-packages (from requests<3,>=2->langchain) (3.10)\n",
            "Requirement already satisfied: urllib3<3,>=1.21.1 in /usr/local/lib/python3.11/dist-packages (from requests<3,>=2->langchain) (2.3.0)\n",
            "Requirement already satisfied: certifi>=2017.4.17 in /usr/local/lib/python3.11/dist-packages (from requests<3,>=2->langchain) (2025.1.31)\n",
            "Requirement already satisfied: greenlet!=0.4.17 in /usr/local/lib/python3.11/dist-packages (from SQLAlchemy<3,>=1.4->langchain) (3.1.1)\n",
            "Requirement already satisfied: anyio in /usr/local/lib/python3.11/dist-packages (from httpx<1,>=0.23.0->langsmith<0.4,>=0.1.17->langchain) (3.7.1)\n",
            "Requirement already satisfied: httpcore==1.* in /usr/local/lib/python3.11/dist-packages (from httpx<1,>=0.23.0->langsmith<0.4,>=0.1.17->langchain) (1.0.7)\n",
            "Requirement already satisfied: h11<0.15,>=0.13 in /usr/local/lib/python3.11/dist-packages (from httpcore==1.*->httpx<1,>=0.23.0->langsmith<0.4,>=0.1.17->langchain) (0.14.0)\n",
            "Requirement already satisfied: jsonpointer>=1.9 in /usr/local/lib/python3.11/dist-packages (from jsonpatch<2.0,>=1.33->langchain-core<1.0.0,>=0.3.41->langchain) (3.0.0)\n",
            "Requirement already satisfied: sniffio>=1.1 in /usr/local/lib/python3.11/dist-packages (from anyio->httpx<1,>=0.23.0->langsmith<0.4,>=0.1.17->langchain) (1.3.1)\n",
            "Requirement already satisfied: beautifulsoup4 in /usr/local/lib/python3.11/dist-packages (4.13.3)\n",
            "Requirement already satisfied: soupsieve>1.2 in /usr/local/lib/python3.11/dist-packages (from beautifulsoup4) (2.6)\n",
            "Requirement already satisfied: typing-extensions>=4.0.0 in /usr/local/lib/python3.11/dist-packages (from beautifulsoup4) (4.12.2)\n",
            "Requirement already satisfied: langchain-community in /usr/local/lib/python3.11/dist-packages (0.3.19)\n",
            "Requirement already satisfied: langchain-core<1.0.0,>=0.3.41 in /usr/local/lib/python3.11/dist-packages (from langchain-community) (0.3.45)\n",
            "Requirement already satisfied: langchain<1.0.0,>=0.3.20 in /usr/local/lib/python3.11/dist-packages (from langchain-community) (0.3.20)\n",
            "Requirement already satisfied: SQLAlchemy<3,>=1.4 in /usr/local/lib/python3.11/dist-packages (from langchain-community) (2.0.39)\n",
            "Requirement already satisfied: requests<3,>=2 in /usr/local/lib/python3.11/dist-packages (from langchain-community) (2.32.3)\n",
            "Requirement already satisfied: PyYAML>=5.3 in /usr/local/lib/python3.11/dist-packages (from langchain-community) (6.0.2)\n",
            "Requirement already satisfied: aiohttp<4.0.0,>=3.8.3 in /usr/local/lib/python3.11/dist-packages (from langchain-community) (3.11.13)\n",
            "Requirement already satisfied: tenacity!=8.4.0,<10,>=8.1.0 in /usr/local/lib/python3.11/dist-packages (from langchain-community) (9.0.0)\n",
            "Requirement already satisfied: dataclasses-json<0.7,>=0.5.7 in /usr/local/lib/python3.11/dist-packages (from langchain-community) (0.6.7)\n",
            "Requirement already satisfied: pydantic-settings<3.0.0,>=2.4.0 in /usr/local/lib/python3.11/dist-packages (from langchain-community) (2.8.1)\n",
            "Requirement already satisfied: langsmith<0.4,>=0.1.125 in /usr/local/lib/python3.11/dist-packages (from langchain-community) (0.3.13)\n",
            "Requirement already satisfied: httpx-sse<1.0.0,>=0.4.0 in /usr/local/lib/python3.11/dist-packages (from langchain-community) (0.4.0)\n",
            "Requirement already satisfied: numpy<3,>=1.26.2 in /usr/local/lib/python3.11/dist-packages (from langchain-community) (1.26.4)\n",
            "Requirement already satisfied: aiohappyeyeballs>=2.3.0 in /usr/local/lib/python3.11/dist-packages (from aiohttp<4.0.0,>=3.8.3->langchain-community) (2.6.1)\n",
            "Requirement already satisfied: aiosignal>=1.1.2 in /usr/local/lib/python3.11/dist-packages (from aiohttp<4.0.0,>=3.8.3->langchain-community) (1.3.2)\n",
            "Requirement already satisfied: attrs>=17.3.0 in /usr/local/lib/python3.11/dist-packages (from aiohttp<4.0.0,>=3.8.3->langchain-community) (25.3.0)\n",
            "Requirement already satisfied: frozenlist>=1.1.1 in /usr/local/lib/python3.11/dist-packages (from aiohttp<4.0.0,>=3.8.3->langchain-community) (1.5.0)\n",
            "Requirement already satisfied: multidict<7.0,>=4.5 in /usr/local/lib/python3.11/dist-packages (from aiohttp<4.0.0,>=3.8.3->langchain-community) (6.1.0)\n",
            "Requirement already satisfied: propcache>=0.2.0 in /usr/local/lib/python3.11/dist-packages (from aiohttp<4.0.0,>=3.8.3->langchain-community) (0.3.0)\n",
            "Requirement already satisfied: yarl<2.0,>=1.17.0 in /usr/local/lib/python3.11/dist-packages (from aiohttp<4.0.0,>=3.8.3->langchain-community) (1.18.3)\n",
            "Requirement already satisfied: marshmallow<4.0.0,>=3.18.0 in /usr/local/lib/python3.11/dist-packages (from dataclasses-json<0.7,>=0.5.7->langchain-community) (3.26.1)\n",
            "Requirement already satisfied: typing-inspect<1,>=0.4.0 in /usr/local/lib/python3.11/dist-packages (from dataclasses-json<0.7,>=0.5.7->langchain-community) (0.9.0)\n",
            "Requirement already satisfied: langchain-text-splitters<1.0.0,>=0.3.6 in /usr/local/lib/python3.11/dist-packages (from langchain<1.0.0,>=0.3.20->langchain-community) (0.3.6)\n",
            "Requirement already satisfied: pydantic<3.0.0,>=2.7.4 in /usr/local/lib/python3.11/dist-packages (from langchain<1.0.0,>=0.3.20->langchain-community) (2.10.6)\n",
            "Requirement already satisfied: jsonpatch<2.0,>=1.33 in /usr/local/lib/python3.11/dist-packages (from langchain-core<1.0.0,>=0.3.41->langchain-community) (1.33)\n",
            "Requirement already satisfied: packaging<25,>=23.2 in /usr/local/lib/python3.11/dist-packages (from langchain-core<1.0.0,>=0.3.41->langchain-community) (24.2)\n",
            "Requirement already satisfied: typing-extensions>=4.7 in /usr/local/lib/python3.11/dist-packages (from langchain-core<1.0.0,>=0.3.41->langchain-community) (4.12.2)\n",
            "Requirement already satisfied: httpx<1,>=0.23.0 in /usr/local/lib/python3.11/dist-packages (from langsmith<0.4,>=0.1.125->langchain-community) (0.28.1)\n",
            "Requirement already satisfied: orjson<4.0.0,>=3.9.14 in /usr/local/lib/python3.11/dist-packages (from langsmith<0.4,>=0.1.125->langchain-community) (3.10.15)\n",
            "Requirement already satisfied: requests-toolbelt<2.0.0,>=1.0.0 in /usr/local/lib/python3.11/dist-packages (from langsmith<0.4,>=0.1.125->langchain-community) (1.0.0)\n",
            "Requirement already satisfied: zstandard<0.24.0,>=0.23.0 in /usr/local/lib/python3.11/dist-packages (from langsmith<0.4,>=0.1.125->langchain-community) (0.23.0)\n",
            "Requirement already satisfied: python-dotenv>=0.21.0 in /usr/local/lib/python3.11/dist-packages (from pydantic-settings<3.0.0,>=2.4.0->langchain-community) (1.0.1)\n",
            "Requirement already satisfied: charset-normalizer<4,>=2 in /usr/local/lib/python3.11/dist-packages (from requests<3,>=2->langchain-community) (3.4.1)\n",
            "Requirement already satisfied: idna<4,>=2.5 in /usr/local/lib/python3.11/dist-packages (from requests<3,>=2->langchain-community) (3.10)\n",
            "Requirement already satisfied: urllib3<3,>=1.21.1 in /usr/local/lib/python3.11/dist-packages (from requests<3,>=2->langchain-community) (2.3.0)\n",
            "Requirement already satisfied: certifi>=2017.4.17 in /usr/local/lib/python3.11/dist-packages (from requests<3,>=2->langchain-community) (2025.1.31)\n",
            "Requirement already satisfied: greenlet!=0.4.17 in /usr/local/lib/python3.11/dist-packages (from SQLAlchemy<3,>=1.4->langchain-community) (3.1.1)\n",
            "Requirement already satisfied: anyio in /usr/local/lib/python3.11/dist-packages (from httpx<1,>=0.23.0->langsmith<0.4,>=0.1.125->langchain-community) (3.7.1)\n",
            "Requirement already satisfied: httpcore==1.* in /usr/local/lib/python3.11/dist-packages (from httpx<1,>=0.23.0->langsmith<0.4,>=0.1.125->langchain-community) (1.0.7)\n",
            "Requirement already satisfied: h11<0.15,>=0.13 in /usr/local/lib/python3.11/dist-packages (from httpcore==1.*->httpx<1,>=0.23.0->langsmith<0.4,>=0.1.125->langchain-community) (0.14.0)\n",
            "Requirement already satisfied: jsonpointer>=1.9 in /usr/local/lib/python3.11/dist-packages (from jsonpatch<2.0,>=1.33->langchain-core<1.0.0,>=0.3.41->langchain-community) (3.0.0)\n",
            "Requirement already satisfied: annotated-types>=0.6.0 in /usr/local/lib/python3.11/dist-packages (from pydantic<3.0.0,>=2.7.4->langchain<1.0.0,>=0.3.20->langchain-community) (0.7.0)\n",
            "Requirement already satisfied: pydantic-core==2.27.2 in /usr/local/lib/python3.11/dist-packages (from pydantic<3.0.0,>=2.7.4->langchain<1.0.0,>=0.3.20->langchain-community) (2.27.2)\n",
            "Requirement already satisfied: mypy-extensions>=0.3.0 in /usr/local/lib/python3.11/dist-packages (from typing-inspect<1,>=0.4.0->dataclasses-json<0.7,>=0.5.7->langchain-community) (1.0.0)\n",
            "Requirement already satisfied: sniffio>=1.1 in /usr/local/lib/python3.11/dist-packages (from anyio->httpx<1,>=0.23.0->langsmith<0.4,>=0.1.125->langchain-community) (1.3.1)\n",
            "Requirement already satisfied: faiss-cpu in /usr/local/lib/python3.11/dist-packages (1.10.0)\n",
            "Requirement already satisfied: numpy<3.0,>=1.25.0 in /usr/local/lib/python3.11/dist-packages (from faiss-cpu) (1.26.4)\n",
            "Requirement already satisfied: packaging in /usr/local/lib/python3.11/dist-packages (from faiss-cpu) (24.2)\n",
            "Requirement already satisfied: langchain-community in /usr/local/lib/python3.11/dist-packages (0.3.19)\n",
            "Requirement already satisfied: tavily-python in /usr/local/lib/python3.11/dist-packages (0.5.1)\n",
            "Requirement already satisfied: langchain-core<1.0.0,>=0.3.41 in /usr/local/lib/python3.11/dist-packages (from langchain-community) (0.3.45)\n",
            "Requirement already satisfied: langchain<1.0.0,>=0.3.20 in /usr/local/lib/python3.11/dist-packages (from langchain-community) (0.3.20)\n",
            "Requirement already satisfied: SQLAlchemy<3,>=1.4 in /usr/local/lib/python3.11/dist-packages (from langchain-community) (2.0.39)\n",
            "Requirement already satisfied: requests<3,>=2 in /usr/local/lib/python3.11/dist-packages (from langchain-community) (2.32.3)\n",
            "Requirement already satisfied: PyYAML>=5.3 in /usr/local/lib/python3.11/dist-packages (from langchain-community) (6.0.2)\n",
            "Requirement already satisfied: aiohttp<4.0.0,>=3.8.3 in /usr/local/lib/python3.11/dist-packages (from langchain-community) (3.11.13)\n",
            "Requirement already satisfied: tenacity!=8.4.0,<10,>=8.1.0 in /usr/local/lib/python3.11/dist-packages (from langchain-community) (9.0.0)\n",
            "Requirement already satisfied: dataclasses-json<0.7,>=0.5.7 in /usr/local/lib/python3.11/dist-packages (from langchain-community) (0.6.7)\n",
            "Requirement already satisfied: pydantic-settings<3.0.0,>=2.4.0 in /usr/local/lib/python3.11/dist-packages (from langchain-community) (2.8.1)\n",
            "Requirement already satisfied: langsmith<0.4,>=0.1.125 in /usr/local/lib/python3.11/dist-packages (from langchain-community) (0.3.13)\n",
            "Requirement already satisfied: httpx-sse<1.0.0,>=0.4.0 in /usr/local/lib/python3.11/dist-packages (from langchain-community) (0.4.0)\n",
            "Requirement already satisfied: numpy<3,>=1.26.2 in /usr/local/lib/python3.11/dist-packages (from langchain-community) (1.26.4)\n",
            "Requirement already satisfied: tiktoken>=0.5.1 in /usr/local/lib/python3.11/dist-packages (from tavily-python) (0.9.0)\n",
            "Requirement already satisfied: httpx in /usr/local/lib/python3.11/dist-packages (from tavily-python) (0.28.1)\n",
            "Requirement already satisfied: aiohappyeyeballs>=2.3.0 in /usr/local/lib/python3.11/dist-packages (from aiohttp<4.0.0,>=3.8.3->langchain-community) (2.6.1)\n",
            "Requirement already satisfied: aiosignal>=1.1.2 in /usr/local/lib/python3.11/dist-packages (from aiohttp<4.0.0,>=3.8.3->langchain-community) (1.3.2)\n",
            "Requirement already satisfied: attrs>=17.3.0 in /usr/local/lib/python3.11/dist-packages (from aiohttp<4.0.0,>=3.8.3->langchain-community) (25.3.0)\n",
            "Requirement already satisfied: frozenlist>=1.1.1 in /usr/local/lib/python3.11/dist-packages (from aiohttp<4.0.0,>=3.8.3->langchain-community) (1.5.0)\n",
            "Requirement already satisfied: multidict<7.0,>=4.5 in /usr/local/lib/python3.11/dist-packages (from aiohttp<4.0.0,>=3.8.3->langchain-community) (6.1.0)\n",
            "Requirement already satisfied: propcache>=0.2.0 in /usr/local/lib/python3.11/dist-packages (from aiohttp<4.0.0,>=3.8.3->langchain-community) (0.3.0)\n",
            "Requirement already satisfied: yarl<2.0,>=1.17.0 in /usr/local/lib/python3.11/dist-packages (from aiohttp<4.0.0,>=3.8.3->langchain-community) (1.18.3)\n",
            "Requirement already satisfied: marshmallow<4.0.0,>=3.18.0 in /usr/local/lib/python3.11/dist-packages (from dataclasses-json<0.7,>=0.5.7->langchain-community) (3.26.1)\n",
            "Requirement already satisfied: typing-inspect<1,>=0.4.0 in /usr/local/lib/python3.11/dist-packages (from dataclasses-json<0.7,>=0.5.7->langchain-community) (0.9.0)\n",
            "Requirement already satisfied: langchain-text-splitters<1.0.0,>=0.3.6 in /usr/local/lib/python3.11/dist-packages (from langchain<1.0.0,>=0.3.20->langchain-community) (0.3.6)\n",
            "Requirement already satisfied: pydantic<3.0.0,>=2.7.4 in /usr/local/lib/python3.11/dist-packages (from langchain<1.0.0,>=0.3.20->langchain-community) (2.10.6)\n",
            "Requirement already satisfied: jsonpatch<2.0,>=1.33 in /usr/local/lib/python3.11/dist-packages (from langchain-core<1.0.0,>=0.3.41->langchain-community) (1.33)\n",
            "Requirement already satisfied: packaging<25,>=23.2 in /usr/local/lib/python3.11/dist-packages (from langchain-core<1.0.0,>=0.3.41->langchain-community) (24.2)\n",
            "Requirement already satisfied: typing-extensions>=4.7 in /usr/local/lib/python3.11/dist-packages (from langchain-core<1.0.0,>=0.3.41->langchain-community) (4.12.2)\n",
            "Requirement already satisfied: orjson<4.0.0,>=3.9.14 in /usr/local/lib/python3.11/dist-packages (from langsmith<0.4,>=0.1.125->langchain-community) (3.10.15)\n",
            "Requirement already satisfied: requests-toolbelt<2.0.0,>=1.0.0 in /usr/local/lib/python3.11/dist-packages (from langsmith<0.4,>=0.1.125->langchain-community) (1.0.0)\n",
            "Requirement already satisfied: zstandard<0.24.0,>=0.23.0 in /usr/local/lib/python3.11/dist-packages (from langsmith<0.4,>=0.1.125->langchain-community) (0.23.0)\n",
            "Requirement already satisfied: anyio in /usr/local/lib/python3.11/dist-packages (from httpx->tavily-python) (3.7.1)\n",
            "Requirement already satisfied: certifi in /usr/local/lib/python3.11/dist-packages (from httpx->tavily-python) (2025.1.31)\n",
            "Requirement already satisfied: httpcore==1.* in /usr/local/lib/python3.11/dist-packages (from httpx->tavily-python) (1.0.7)\n",
            "Requirement already satisfied: idna in /usr/local/lib/python3.11/dist-packages (from httpx->tavily-python) (3.10)\n",
            "Requirement already satisfied: h11<0.15,>=0.13 in /usr/local/lib/python3.11/dist-packages (from httpcore==1.*->httpx->tavily-python) (0.14.0)\n",
            "Requirement already satisfied: python-dotenv>=0.21.0 in /usr/local/lib/python3.11/dist-packages (from pydantic-settings<3.0.0,>=2.4.0->langchain-community) (1.0.1)\n",
            "Requirement already satisfied: charset-normalizer<4,>=2 in /usr/local/lib/python3.11/dist-packages (from requests<3,>=2->langchain-community) (3.4.1)\n",
            "Requirement already satisfied: urllib3<3,>=1.21.1 in /usr/local/lib/python3.11/dist-packages (from requests<3,>=2->langchain-community) (2.3.0)\n",
            "Requirement already satisfied: greenlet!=0.4.17 in /usr/local/lib/python3.11/dist-packages (from SQLAlchemy<3,>=1.4->langchain-community) (3.1.1)\n",
            "Requirement already satisfied: regex>=2022.1.18 in /usr/local/lib/python3.11/dist-packages (from tiktoken>=0.5.1->tavily-python) (2024.11.6)\n",
            "Requirement already satisfied: jsonpointer>=1.9 in /usr/local/lib/python3.11/dist-packages (from jsonpatch<2.0,>=1.33->langchain-core<1.0.0,>=0.3.41->langchain-community) (3.0.0)\n",
            "Requirement already satisfied: annotated-types>=0.6.0 in /usr/local/lib/python3.11/dist-packages (from pydantic<3.0.0,>=2.7.4->langchain<1.0.0,>=0.3.20->langchain-community) (0.7.0)\n",
            "Requirement already satisfied: pydantic-core==2.27.2 in /usr/local/lib/python3.11/dist-packages (from pydantic<3.0.0,>=2.7.4->langchain<1.0.0,>=0.3.20->langchain-community) (2.27.2)\n",
            "Requirement already satisfied: mypy-extensions>=0.3.0 in /usr/local/lib/python3.11/dist-packages (from typing-inspect<1,>=0.4.0->dataclasses-json<0.7,>=0.5.7->langchain-community) (1.0.0)\n",
            "Requirement already satisfied: sniffio>=1.1 in /usr/local/lib/python3.11/dist-packages (from anyio->httpx->tavily-python) (1.3.1)\n",
            "Collecting gradio_client==0.2.10\n",
            "  Downloading gradio_client-0.2.10-py3-none-any.whl.metadata (7.1 kB)\n",
            "Requirement already satisfied: fsspec in /usr/local/lib/python3.11/dist-packages (from gradio_client==0.2.10) (2024.10.0)\n",
            "Requirement already satisfied: httpx in /usr/local/lib/python3.11/dist-packages (from gradio_client==0.2.10) (0.28.1)\n",
            "Requirement already satisfied: huggingface-hub>=0.13.0 in /usr/local/lib/python3.11/dist-packages (from gradio_client==0.2.10) (0.28.1)\n",
            "Requirement already satisfied: packaging in /usr/local/lib/python3.11/dist-packages (from gradio_client==0.2.10) (24.2)\n",
            "Requirement already satisfied: requests~=2.0 in /usr/local/lib/python3.11/dist-packages (from gradio_client==0.2.10) (2.32.3)\n",
            "Requirement already satisfied: typing-extensions~=4.0 in /usr/local/lib/python3.11/dist-packages (from gradio_client==0.2.10) (4.12.2)\n",
            "Requirement already satisfied: websockets<12.0,>=10.0 in /usr/local/lib/python3.11/dist-packages (from gradio_client==0.2.10) (11.0.3)\n",
            "Requirement already satisfied: filelock in /usr/local/lib/python3.11/dist-packages (from huggingface-hub>=0.13.0->gradio_client==0.2.10) (3.17.0)\n",
            "Requirement already satisfied: pyyaml>=5.1 in /usr/local/lib/python3.11/dist-packages (from huggingface-hub>=0.13.0->gradio_client==0.2.10) (6.0.2)\n",
            "Requirement already satisfied: tqdm>=4.42.1 in /usr/local/lib/python3.11/dist-packages (from huggingface-hub>=0.13.0->gradio_client==0.2.10) (4.67.1)\n",
            "Requirement already satisfied: charset-normalizer<4,>=2 in /usr/local/lib/python3.11/dist-packages (from requests~=2.0->gradio_client==0.2.10) (3.4.1)\n",
            "Requirement already satisfied: idna<4,>=2.5 in /usr/local/lib/python3.11/dist-packages (from requests~=2.0->gradio_client==0.2.10) (3.10)\n",
            "Requirement already satisfied: urllib3<3,>=1.21.1 in /usr/local/lib/python3.11/dist-packages (from requests~=2.0->gradio_client==0.2.10) (2.3.0)\n",
            "Requirement already satisfied: certifi>=2017.4.17 in /usr/local/lib/python3.11/dist-packages (from requests~=2.0->gradio_client==0.2.10) (2025.1.31)\n",
            "Requirement already satisfied: anyio in /usr/local/lib/python3.11/dist-packages (from httpx->gradio_client==0.2.10) (3.7.1)\n",
            "Requirement already satisfied: httpcore==1.* in /usr/local/lib/python3.11/dist-packages (from httpx->gradio_client==0.2.10) (1.0.7)\n",
            "Requirement already satisfied: h11<0.15,>=0.13 in /usr/local/lib/python3.11/dist-packages (from httpcore==1.*->httpx->gradio_client==0.2.10) (0.14.0)\n",
            "Requirement already satisfied: sniffio>=1.1 in /usr/local/lib/python3.11/dist-packages (from anyio->httpx->gradio_client==0.2.10) (1.3.1)\n",
            "Downloading gradio_client-0.2.10-py3-none-any.whl (288 kB)\n",
            "\u001b[2K   \u001b[90m━━━━━━━━━━━━━━━━━━━━━━━━━━━━━━━━━━━━━━━━\u001b[0m \u001b[32m289.0/289.0 kB\u001b[0m \u001b[31m6.4 MB/s\u001b[0m eta \u001b[36m0:00:00\u001b[0m\n",
            "\u001b[?25hInstalling collected packages: gradio_client\n",
            "  Attempting uninstall: gradio_client\n",
            "    Found existing installation: gradio_client 1.8.0\n",
            "    Uninstalling gradio_client-1.8.0:\n",
            "      Successfully uninstalled gradio_client-1.8.0\n",
            "Successfully installed gradio_client-0.2.10\n",
            "Requirement already satisfied: gradio==3.38.0 in /usr/local/lib/python3.11/dist-packages (3.38.0)\n",
            "Requirement already satisfied: aiofiles<24.0,>=22.0 in /usr/local/lib/python3.11/dist-packages (from gradio==3.38.0) (23.2.1)\n",
            "Requirement already satisfied: aiohttp~=3.0 in /usr/local/lib/python3.11/dist-packages (from gradio==3.38.0) (3.11.13)\n",
            "Requirement already satisfied: altair<6.0,>=4.2.0 in /usr/local/lib/python3.11/dist-packages (from gradio==3.38.0) (5.5.0)\n",
            "Requirement already satisfied: fastapi in /usr/local/lib/python3.11/dist-packages (from gradio==3.38.0) (0.115.11)\n",
            "Requirement already satisfied: ffmpy in /usr/local/lib/python3.11/dist-packages (from gradio==3.38.0) (0.5.0)\n",
            "Requirement already satisfied: gradio-client>=0.2.10 in /usr/local/lib/python3.11/dist-packages (from gradio==3.38.0) (0.2.10)\n",
            "Requirement already satisfied: httpx in /usr/local/lib/python3.11/dist-packages (from gradio==3.38.0) (0.28.1)\n",
            "Requirement already satisfied: huggingface-hub>=0.14.0 in /usr/local/lib/python3.11/dist-packages (from gradio==3.38.0) (0.28.1)\n",
            "Requirement already satisfied: jinja2<4.0 in /usr/local/lib/python3.11/dist-packages (from gradio==3.38.0) (3.1.6)\n",
            "Requirement already satisfied: markdown-it-py>=2.0.0 in /usr/local/lib/python3.11/dist-packages (from markdown-it-py[linkify]>=2.0.0->gradio==3.38.0) (2.2.0)\n",
            "Requirement already satisfied: markupsafe~=2.0 in /usr/local/lib/python3.11/dist-packages (from gradio==3.38.0) (2.1.5)\n",
            "Requirement already satisfied: matplotlib~=3.0 in /usr/local/lib/python3.11/dist-packages (from gradio==3.38.0) (3.10.0)\n",
            "Requirement already satisfied: mdit-py-plugins<=0.3.3 in /usr/local/lib/python3.11/dist-packages (from gradio==3.38.0) (0.3.3)\n",
            "Requirement already satisfied: numpy~=1.0 in /usr/local/lib/python3.11/dist-packages (from gradio==3.38.0) (1.26.4)\n",
            "Requirement already satisfied: orjson~=3.0 in /usr/local/lib/python3.11/dist-packages (from gradio==3.38.0) (3.10.15)\n",
            "Requirement already satisfied: packaging in /usr/local/lib/python3.11/dist-packages (from gradio==3.38.0) (24.2)\n",
            "Requirement already satisfied: pandas<3.0,>=1.0 in /usr/local/lib/python3.11/dist-packages (from gradio==3.38.0) (2.2.2)\n",
            "Requirement already satisfied: pillow<11.0,>=8.0 in /usr/local/lib/python3.11/dist-packages (from gradio==3.38.0) (10.4.0)\n",
            "Requirement already satisfied: pydantic!=1.8,!=1.8.1,!=2.0.0,!=2.0.1,<3.0.0,>=1.7.4 in /usr/local/lib/python3.11/dist-packages (from gradio==3.38.0) (2.10.6)\n",
            "Requirement already satisfied: pydub in /usr/local/lib/python3.11/dist-packages (from gradio==3.38.0) (0.25.1)\n",
            "Requirement already satisfied: python-multipart in /usr/local/lib/python3.11/dist-packages (from gradio==3.38.0) (0.0.20)\n",
            "Requirement already satisfied: pyyaml<7.0,>=5.0 in /usr/local/lib/python3.11/dist-packages (from gradio==3.38.0) (6.0.2)\n",
            "Requirement already satisfied: requests~=2.0 in /usr/local/lib/python3.11/dist-packages (from gradio==3.38.0) (2.32.3)\n",
            "Requirement already satisfied: semantic-version~=2.0 in /usr/local/lib/python3.11/dist-packages (from gradio==3.38.0) (2.10.0)\n",
            "Requirement already satisfied: typing-extensions~=4.0 in /usr/local/lib/python3.11/dist-packages (from gradio==3.38.0) (4.12.2)\n",
            "Requirement already satisfied: uvicorn>=0.14.0 in /usr/local/lib/python3.11/dist-packages (from gradio==3.38.0) (0.34.0)\n",
            "Requirement already satisfied: websockets<12.0,>=10.0 in /usr/local/lib/python3.11/dist-packages (from gradio==3.38.0) (11.0.3)\n",
            "Requirement already satisfied: aiohappyeyeballs>=2.3.0 in /usr/local/lib/python3.11/dist-packages (from aiohttp~=3.0->gradio==3.38.0) (2.6.1)\n",
            "Requirement already satisfied: aiosignal>=1.1.2 in /usr/local/lib/python3.11/dist-packages (from aiohttp~=3.0->gradio==3.38.0) (1.3.2)\n",
            "Requirement already satisfied: attrs>=17.3.0 in /usr/local/lib/python3.11/dist-packages (from aiohttp~=3.0->gradio==3.38.0) (25.3.0)\n",
            "Requirement already satisfied: frozenlist>=1.1.1 in /usr/local/lib/python3.11/dist-packages (from aiohttp~=3.0->gradio==3.38.0) (1.5.0)\n",
            "Requirement already satisfied: multidict<7.0,>=4.5 in /usr/local/lib/python3.11/dist-packages (from aiohttp~=3.0->gradio==3.38.0) (6.1.0)\n",
            "Requirement already satisfied: propcache>=0.2.0 in /usr/local/lib/python3.11/dist-packages (from aiohttp~=3.0->gradio==3.38.0) (0.3.0)\n",
            "Requirement already satisfied: yarl<2.0,>=1.17.0 in /usr/local/lib/python3.11/dist-packages (from aiohttp~=3.0->gradio==3.38.0) (1.18.3)\n",
            "Requirement already satisfied: jsonschema>=3.0 in /usr/local/lib/python3.11/dist-packages (from altair<6.0,>=4.2.0->gradio==3.38.0) (4.23.0)\n",
            "Requirement already satisfied: narwhals>=1.14.2 in /usr/local/lib/python3.11/dist-packages (from altair<6.0,>=4.2.0->gradio==3.38.0) (1.30.0)\n",
            "Requirement already satisfied: fsspec in /usr/local/lib/python3.11/dist-packages (from gradio-client>=0.2.10->gradio==3.38.0) (2024.10.0)\n",
            "Requirement already satisfied: filelock in /usr/local/lib/python3.11/dist-packages (from huggingface-hub>=0.14.0->gradio==3.38.0) (3.17.0)\n",
            "Requirement already satisfied: tqdm>=4.42.1 in /usr/local/lib/python3.11/dist-packages (from huggingface-hub>=0.14.0->gradio==3.38.0) (4.67.1)\n",
            "Requirement already satisfied: mdurl~=0.1 in /usr/local/lib/python3.11/dist-packages (from markdown-it-py>=2.0.0->markdown-it-py[linkify]>=2.0.0->gradio==3.38.0) (0.1.2)\n",
            "Requirement already satisfied: linkify-it-py<3,>=1 in /usr/local/lib/python3.11/dist-packages (from markdown-it-py[linkify]>=2.0.0->gradio==3.38.0) (2.0.3)\n",
            "Requirement already satisfied: contourpy>=1.0.1 in /usr/local/lib/python3.11/dist-packages (from matplotlib~=3.0->gradio==3.38.0) (1.3.1)\n",
            "Requirement already satisfied: cycler>=0.10 in /usr/local/lib/python3.11/dist-packages (from matplotlib~=3.0->gradio==3.38.0) (0.12.1)\n",
            "Requirement already satisfied: fonttools>=4.22.0 in /usr/local/lib/python3.11/dist-packages (from matplotlib~=3.0->gradio==3.38.0) (4.56.0)\n",
            "Requirement already satisfied: kiwisolver>=1.3.1 in /usr/local/lib/python3.11/dist-packages (from matplotlib~=3.0->gradio==3.38.0) (1.4.8)\n",
            "Requirement already satisfied: pyparsing>=2.3.1 in /usr/local/lib/python3.11/dist-packages (from matplotlib~=3.0->gradio==3.38.0) (3.2.1)\n",
            "Requirement already satisfied: python-dateutil>=2.7 in /usr/local/lib/python3.11/dist-packages (from matplotlib~=3.0->gradio==3.38.0) (2.8.2)\n",
            "Requirement already satisfied: pytz>=2020.1 in /usr/local/lib/python3.11/dist-packages (from pandas<3.0,>=1.0->gradio==3.38.0) (2025.1)\n",
            "Requirement already satisfied: tzdata>=2022.7 in /usr/local/lib/python3.11/dist-packages (from pandas<3.0,>=1.0->gradio==3.38.0) (2025.1)\n",
            "Requirement already satisfied: annotated-types>=0.6.0 in /usr/local/lib/python3.11/dist-packages (from pydantic!=1.8,!=1.8.1,!=2.0.0,!=2.0.1,<3.0.0,>=1.7.4->gradio==3.38.0) (0.7.0)\n",
            "Requirement already satisfied: pydantic-core==2.27.2 in /usr/local/lib/python3.11/dist-packages (from pydantic!=1.8,!=1.8.1,!=2.0.0,!=2.0.1,<3.0.0,>=1.7.4->gradio==3.38.0) (2.27.2)\n",
            "Requirement already satisfied: charset-normalizer<4,>=2 in /usr/local/lib/python3.11/dist-packages (from requests~=2.0->gradio==3.38.0) (3.4.1)\n",
            "Requirement already satisfied: idna<4,>=2.5 in /usr/local/lib/python3.11/dist-packages (from requests~=2.0->gradio==3.38.0) (3.10)\n",
            "Requirement already satisfied: urllib3<3,>=1.21.1 in /usr/local/lib/python3.11/dist-packages (from requests~=2.0->gradio==3.38.0) (2.3.0)\n",
            "Requirement already satisfied: certifi>=2017.4.17 in /usr/local/lib/python3.11/dist-packages (from requests~=2.0->gradio==3.38.0) (2025.1.31)\n",
            "Requirement already satisfied: click>=7.0 in /usr/local/lib/python3.11/dist-packages (from uvicorn>=0.14.0->gradio==3.38.0) (8.1.8)\n",
            "Requirement already satisfied: h11>=0.8 in /usr/local/lib/python3.11/dist-packages (from uvicorn>=0.14.0->gradio==3.38.0) (0.14.0)\n",
            "Requirement already satisfied: starlette<0.47.0,>=0.40.0 in /usr/local/lib/python3.11/dist-packages (from fastapi->gradio==3.38.0) (0.46.1)\n",
            "Requirement already satisfied: anyio in /usr/local/lib/python3.11/dist-packages (from httpx->gradio==3.38.0) (3.7.1)\n",
            "Requirement already satisfied: httpcore==1.* in /usr/local/lib/python3.11/dist-packages (from httpx->gradio==3.38.0) (1.0.7)\n",
            "Requirement already satisfied: jsonschema-specifications>=2023.03.6 in /usr/local/lib/python3.11/dist-packages (from jsonschema>=3.0->altair<6.0,>=4.2.0->gradio==3.38.0) (2024.10.1)\n",
            "Requirement already satisfied: referencing>=0.28.4 in /usr/local/lib/python3.11/dist-packages (from jsonschema>=3.0->altair<6.0,>=4.2.0->gradio==3.38.0) (0.36.2)\n",
            "Requirement already satisfied: rpds-py>=0.7.1 in /usr/local/lib/python3.11/dist-packages (from jsonschema>=3.0->altair<6.0,>=4.2.0->gradio==3.38.0) (0.23.1)\n",
            "Requirement already satisfied: uc-micro-py in /usr/local/lib/python3.11/dist-packages (from linkify-it-py<3,>=1->markdown-it-py[linkify]>=2.0.0->gradio==3.38.0) (1.0.3)\n",
            "Requirement already satisfied: six>=1.5 in /usr/local/lib/python3.11/dist-packages (from python-dateutil>=2.7->matplotlib~=3.0->gradio==3.38.0) (1.17.0)\n",
            "Requirement already satisfied: sniffio>=1.1 in /usr/local/lib/python3.11/dist-packages (from anyio->httpx->gradio==3.38.0) (1.3.1)\n"
          ]
        }
      ],
      "source": [
        "!pip install langchainhub\n",
        "!pip install langchain-openai\n",
        "!pip install langchain\n",
        "!pip install beautifulsoup4\n",
        "!pip install langchain-community\n",
        "!pip install faiss-cpu\n",
        "!pip install -U langchain-community tavily-python\n",
        "!pip install gradio_client==0.2.10\n",
        "!pip install gradio==3.38.0"
      ]
    },
    {
      "cell_type": "code",
      "source": [
        "import json\n",
        "\n",
        "from google.colab import drive\n",
        "drive.mount('/content/drive')\n",
        "\n",
        "with open(\"/content/drive/MyDrive/keys.json\", \"r\") as f:\n",
        "  open_api_key = json.loads(f.read())[\"open_api_key\"]\n",
        "\n",
        "with open(\"/content/drive/MyDrive/keys.json\", \"r\") as f:\n",
        "  tavily_api_key = json.loads(f.read())[\"tavily_api_key\"]"
      ],
      "metadata": {
        "colab": {
          "base_uri": "https://localhost:8080/"
        },
        "collapsed": true,
        "id": "x7fSoR02qw0W",
        "outputId": "3cfbf725-150b-4c5b-d50b-3c7409c442ea"
      },
      "execution_count": 28,
      "outputs": [
        {
          "output_type": "stream",
          "name": "stdout",
          "text": [
            "Drive already mounted at /content/drive; to attempt to forcibly remount, call drive.mount(\"/content/drive\", force_remount=True).\n"
          ]
        }
      ]
    },
    {
      "cell_type": "code",
      "source": [
        "from langchain.chat_models import init_chat_model\n",
        "\n",
        "model = init_chat_model(\"gpt-4o-mini\", model_provider=\"openai\", api_key=open_api_key)"
      ],
      "metadata": {
        "id": "VsGh2geWuqPr"
      },
      "execution_count": 29,
      "outputs": []
    },
    {
      "cell_type": "markdown",
      "source": [
        "# **RAG**"
      ],
      "metadata": {
        "id": "CDz9dbdQENL4"
      }
    },
    {
      "cell_type": "code",
      "source": [
        "%pip install -qU langchain-community\n",
        "from langchain_community.document_loaders import WebBaseLoader\n",
        "\n",
        "url = input(\"Enter the URL address of the site you wish to query: \") # https://www.bestbuy.com/site/iphone/all-iphone/pcmcat1683750935583.c?id=pcmcat1683750935583\n",
        "# url = \"https://www.bestbuy.com/site/iphone/all-iphone/pcmcat1683750935583.c?id=pcmcat1683750935583\"\n",
        "loader = WebBaseLoader(url)\n",
        "data = loader.load()"
      ],
      "metadata": {
        "colab": {
          "base_uri": "https://localhost:8080/"
        },
        "id": "l0u7aak2P4Az",
        "outputId": "09cf06ec-9aa9-4099-9278-60fdaad5e16d"
      },
      "execution_count": 5,
      "outputs": [
        {
          "output_type": "stream",
          "name": "stderr",
          "text": [
            "WARNING:langchain_community.utils.user_agent:USER_AGENT environment variable not set, consider setting it to identify your requests.\n"
          ]
        }
      ]
    },
    {
      "cell_type": "code",
      "source": [
        "from langchain_openai import OpenAIEmbeddings\n",
        "\n",
        "embeddings = OpenAIEmbeddings(api_key=open_api_key)"
      ],
      "metadata": {
        "id": "9CemCI02S1iX"
      },
      "execution_count": 30,
      "outputs": []
    },
    {
      "cell_type": "code",
      "source": [
        "from langchain_community.vectorstores import FAISS\n",
        "from langchain_text_splitters import RecursiveCharacterTextSplitter\n",
        "\n",
        "text_splitter = RecursiveCharacterTextSplitter(chunk_size=1000, chunk_overlap=200)\n",
        "documents = text_splitter.split_documents(data)\n",
        "vector = FAISS.from_documents(documents, embeddings)"
      ],
      "metadata": {
        "id": "KwZryHFtToW4"
      },
      "execution_count": 7,
      "outputs": []
    },
    {
      "cell_type": "code",
      "source": [
        "from langchain.chains.combine_documents import create_stuff_documents_chain\n",
        "from langchain_core.prompts import ChatPromptTemplate\n",
        "from langchain_openai import ChatOpenAI\n",
        "from langchain_core.output_parsers import StrOutputParser\n",
        "\n",
        "llm = ChatOpenAI(api_key=api_key)\n",
        "output_parser = StrOutputParser()\n",
        "\n",
        "prompt = ChatPromptTemplate.from_template(\"\"\"Answer the following question based solely on the provided context:\n",
        "<context>\n",
        "{context}\n",
        "</context>\n",
        "\n",
        "Question: {input}\"\"\", output_parser=output_parser)\n",
        "\n",
        "document_chain = create_stuff_documents_chain(llm=llm, prompt=prompt)"
      ],
      "metadata": {
        "id": "t4-5BHObXFbd"
      },
      "execution_count": 8,
      "outputs": []
    },
    {
      "cell_type": "code",
      "source": [
        "from langchain.chains import create_retrieval_chain\n",
        "\n",
        "retriever = vector.as_retriever()\n",
        "retrieval_chain = create_retrieval_chain(llm, prompt)"
      ],
      "metadata": {
        "id": "IZhcqjX72CyS"
      },
      "execution_count": 9,
      "outputs": []
    },
    {
      "cell_type": "markdown",
      "source": [],
      "metadata": {
        "id": "cuJN78BN28SV"
      }
    },
    {
      "cell_type": "markdown",
      "source": [
        "![Rag-LangChain.jpg](data:image/jpeg;base64,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)"
      ],
      "metadata": {
        "id": "6zmZP_3egcaV"
      }
    },
    {
      "cell_type": "markdown",
      "source": [
        "# **Agent**"
      ],
      "metadata": {
        "id": "gf8DZW0b2-7Y"
      }
    },
    {
      "cell_type": "code",
      "source": [
        "from langchain.tools.retriever import create_retriever_tool\n",
        "retriever_tool = create_retriever_tool(\n",
        "    retriever,\n",
        "    \"webpage_search\",\n",
        "    \"Search for information on the webpage. For any questions about the supplied webpage, use this tool.\",\n",
        ")"
      ],
      "metadata": {
        "id": "sH-16S6z3DLX"
      },
      "execution_count": 13,
      "outputs": []
    },
    {
      "cell_type": "code",
      "source": [
        "from langchain_community.utilities.tavily_search import TavilySearchAPIWrapper\n",
        "\n",
        "search = TavilySearchAPIWrapper(tavily_api_key=tavily_api_key)\n",
        "search_tool = TavilySearchResults(api_wrapper=search)"
      ],
      "metadata": {
        "id": "w_qTM06vwGbD"
      },
      "execution_count": 32,
      "outputs": []
    },
    {
      "cell_type": "code",
      "source": [
        "tools = [retriever_tool, search_tool]"
      ],
      "metadata": {
        "id": "AA7ZhccOwRbO"
      },
      "execution_count": 33,
      "outputs": []
    },
    {
      "cell_type": "code",
      "source": [
        "from langchain_openai import ChatOpenAI\n",
        "from langchain import hub\n",
        "from langchain.agents import create_openai_functions_agent\n",
        "from langchain.agents import AgentExecutor\n",
        "\n",
        "prompt = hub.pull(\"hwchase17/openai-functions-agent\", api_key=open_api_key)\n",
        "\n",
        "llm = ChatOpenAI(model=\"gpt-3.5-turbo\", temperature=0, api_key=open_api_key)\n",
        "agent = create_openai_functions_agent(llm, tools, prompt)\n",
        "agent_executor = AgentExecutor(agent=agent, tools=tools, verbose=True)"
      ],
      "metadata": {
        "id": "-ddZSRhVwUll"
      },
      "execution_count": 34,
      "outputs": []
    },
    {
      "cell_type": "code",
      "source": [
        "print(prompt)"
      ],
      "metadata": {
        "colab": {
          "base_uri": "https://localhost:8080/"
        },
        "id": "7pqjB74D2SsU",
        "outputId": "3e29ebda-604d-426a-b2b3-492e4758d948"
      },
      "execution_count": 35,
      "outputs": [
        {
          "output_type": "stream",
          "name": "stdout",
          "text": [
            "input_variables=['agent_scratchpad', 'input'] optional_variables=['chat_history'] input_types={'chat_history': list[typing.Annotated[typing.Union[typing.Annotated[langchain_core.messages.ai.AIMessage, Tag(tag='ai')], typing.Annotated[langchain_core.messages.human.HumanMessage, Tag(tag='human')], typing.Annotated[langchain_core.messages.chat.ChatMessage, Tag(tag='chat')], typing.Annotated[langchain_core.messages.system.SystemMessage, Tag(tag='system')], typing.Annotated[langchain_core.messages.function.FunctionMessage, Tag(tag='function')], typing.Annotated[langchain_core.messages.tool.ToolMessage, Tag(tag='tool')], typing.Annotated[langchain_core.messages.ai.AIMessageChunk, Tag(tag='AIMessageChunk')], typing.Annotated[langchain_core.messages.human.HumanMessageChunk, Tag(tag='HumanMessageChunk')], typing.Annotated[langchain_core.messages.chat.ChatMessageChunk, Tag(tag='ChatMessageChunk')], typing.Annotated[langchain_core.messages.system.SystemMessageChunk, Tag(tag='SystemMessageChunk')], typing.Annotated[langchain_core.messages.function.FunctionMessageChunk, Tag(tag='FunctionMessageChunk')], typing.Annotated[langchain_core.messages.tool.ToolMessageChunk, Tag(tag='ToolMessageChunk')]], FieldInfo(annotation=NoneType, required=True, discriminator=Discriminator(discriminator=<function _get_type at 0x7b507ac67560>, custom_error_type=None, custom_error_message=None, custom_error_context=None))]], 'agent_scratchpad': list[typing.Annotated[typing.Union[typing.Annotated[langchain_core.messages.ai.AIMessage, Tag(tag='ai')], typing.Annotated[langchain_core.messages.human.HumanMessage, Tag(tag='human')], typing.Annotated[langchain_core.messages.chat.ChatMessage, Tag(tag='chat')], typing.Annotated[langchain_core.messages.system.SystemMessage, Tag(tag='system')], typing.Annotated[langchain_core.messages.function.FunctionMessage, Tag(tag='function')], typing.Annotated[langchain_core.messages.tool.ToolMessage, Tag(tag='tool')], typing.Annotated[langchain_core.messages.ai.AIMessageChunk, Tag(tag='AIMessageChunk')], typing.Annotated[langchain_core.messages.human.HumanMessageChunk, Tag(tag='HumanMessageChunk')], typing.Annotated[langchain_core.messages.chat.ChatMessageChunk, Tag(tag='ChatMessageChunk')], typing.Annotated[langchain_core.messages.system.SystemMessageChunk, Tag(tag='SystemMessageChunk')], typing.Annotated[langchain_core.messages.function.FunctionMessageChunk, Tag(tag='FunctionMessageChunk')], typing.Annotated[langchain_core.messages.tool.ToolMessageChunk, Tag(tag='ToolMessageChunk')]], FieldInfo(annotation=NoneType, required=True, discriminator=Discriminator(discriminator=<function _get_type at 0x7b507ac67560>, custom_error_type=None, custom_error_message=None, custom_error_context=None))]]} partial_variables={'chat_history': []} metadata={'lc_hub_owner': 'hwchase17', 'lc_hub_repo': 'openai-functions-agent', 'lc_hub_commit_hash': 'a1655024b06afbd95d17449f21316291e0726f13dcfaf990cc0d18087ad689a5'} messages=[SystemMessagePromptTemplate(prompt=PromptTemplate(input_variables=[], input_types={}, partial_variables={}, template='You are a helpful assistant'), additional_kwargs={}), MessagesPlaceholder(variable_name='chat_history', optional=True), HumanMessagePromptTemplate(prompt=PromptTemplate(input_variables=['input'], input_types={}, partial_variables={}, template='{input}'), additional_kwargs={}), MessagesPlaceholder(variable_name='agent_scratchpad')]\n"
          ]
        }
      ]
    },
    {
      "cell_type": "code",
      "source": [
        "result = agent_executor.invoke({\"input\": \"Show me the different iPhone models\"})"
      ],
      "metadata": {
        "colab": {
          "base_uri": "https://localhost:8080/"
        },
        "id": "qipWIOoH2XLT",
        "outputId": "ff27b6bd-8356-4e81-ff0a-06be68681bb4"
      },
      "execution_count": 36,
      "outputs": [
        {
          "output_type": "stream",
          "name": "stdout",
          "text": [
            "\n",
            "\n",
            "\u001b[1m> Entering new AgentExecutor chain...\u001b[0m\n",
            "\u001b[32;1m\u001b[1;3m\n",
            "Invoking: `webpage_search` with `{'query': 'iPhone models'}`\n",
            "\n",
            "\n",
            "\u001b[0m\u001b[36;1m\u001b[1;3mskip to resultsskip to filtersBest BuyCell PhonesiPhoneAll iPhone Categories & FiltersGet it fastStore PickupSame-day pickupModel FamilyApple iPhone 15Apple iPhone 15 PlusApple iPhone 15 ProApple iPhone 15 Pro MaxApple iPhone 14Apple iPhone 14 Pro MaxApple iPhone 14 ProApple iPhone 14 PlusApple iPhone 11Apple iPhone 12Show MoreConditionNewPre-OwnedRefurbishedOpen-BoxCarrier CompatibilityUnlockedT-MobileAT&TVerizonMetro by T-MobileMint MobileCricketVisibleShow MoreBrandBest Buy BrandsAppleInsignia™ZAGGInternal Storage Capacity1000 gigabytes512 gigabytes256 gigabytes128 gigabytes64 gigabytesPricetoLess than $25$25 - $49.99$75 - $99.99$100 - $149.99$150 - $199.99$200 - $249.99$250 - $499.99$500 - $749.99$750 - $999.99$1000 - $1249.99Current DealsOn SaleFree Shipping EligiblePackage DealsNo Contract/UnlockedUnlockedNo-ContractColorPinkWhiteBlackGrayBluePurpleSpace GrayGreenShow MoreFeatures5G EnabledBluetoothMobile Hotspot CapabilityGPS EnabledWireless ChargingHigh Dynamic Range (HDR)4G\n",
            "\n",
            "TitaniumGet previous slideselectedGet next slideModel: A2849SKU: 6586591Rating 4.5 out of 5 stars with 110 reviews(110)CompareSave $1,029.99Your price for this item is $1,029.99SponsoredApple - iPhone 13 5G 128GB (Unlocked) - Starlight  Color:StarlightGet previous slideselectedGet next slideModel: MMM73LL/ASKU: 6417789Rating 4.8 out of 5 stars with 1806 reviews(1,806)CompareSave $549.99Your price for this item is $549.99Apple - Pre-Owned Excellent iPhone XR 64GB (Unlocked) - BlackModel: XR-64GB-BLKSKU: 6510040Rating 4.3 out of 5 stars with 1586 reviews(1,586)CompareSave $229.99Your price for this item is $229.99Comp. Value: $239.99The comparable value price is $239.99Apple - Geek Squad Certified Refurbished iPhone 12 5G 128GB - Black (Verizon)Model: GSRF MGHC3LL/ASKU: 6573863Rating 3 out of 5 stars with 2 reviews(2)CompareSave $249.99Your price for this item is $249.99Comp. Value: $679.99The comparable value price is $679.99Apple - Pre-Owned Excellent iPhone 11 64GB (Unlocked) - Black\n",
            "\n",
            "A2848SKU: 6586122Rating 4.1 out of 5 stars with 14 reviews(14)CompareSave $849.99Your price for this item is $849.991-18 of 214 items214 itemsPrevious1Page 1. Selected.23...12NextRelated Searches iphoneiphone 15iphone 16iphone 14iphone 15 proNo content\n",
            "\n",
            "Contract/UnlockedUnlockedNo-ContractColorPinkWhiteBlackGrayBluePurpleSpace GrayGreenShow MoreFeatures5G EnabledBluetoothMobile Hotspot CapabilityGPS EnabledWireless ChargingHigh Dynamic Range (HDR)4G LTE EnabledEPEAT QualifiedShow MoreProcessor BrandAppleDiscountAll Discounted Items20% Off or More30% Off or More40% Off or More50% Off or More60% Off or MoreCustomer RatingTop-Rated54 & Up3 & Up2 & Up1 & UpSIM Card SlotsSingle SIMDual SIMCharging InterfaceUSB-CLightningWorks WithSiriApple HomeKitWireless Networking StandardWi-Fi 6Wi-Fi 6EWi-Fi 5Operating SystemApple iOSApple iPadOSSponsoredNo contentResults214 itemsSort By: No contentMain ResultsApple - iPhone 15 128GB (Unlocked) - Black  Color:BlackGet previous slideselectedGet next slideModel: MTPJ3LL/ASKU: 6507478Rating 4.8 out of 5 stars with 232 reviews(232)CompareSave $679.99Your price for this item is $679.99Comp. Value: $729.99The comparable value price is $729.99Apple - Pre-Owned Excellent iPhone SE (2020) 64GB (Unlocked) -\u001b[0m\u001b[32;1m\u001b[1;3mHere are some of the iPhone models available:\n",
            "\n",
            "1. Apple iPhone 15\n",
            "2. Apple iPhone 15 Plus\n",
            "3. Apple iPhone 15 Pro\n",
            "4. Apple iPhone 15 Pro Max\n",
            "5. Apple iPhone 14\n",
            "6. Apple iPhone 14 Pro Max\n",
            "7. Apple iPhone 14 Pro\n",
            "8. Apple iPhone 14 Plus\n",
            "9. Apple iPhone 11\n",
            "10. Apple iPhone 12\n",
            "\n",
            "These are some of the iPhone models currently available in the market.\u001b[0m\n",
            "\n",
            "\u001b[1m> Finished chain.\u001b[0m\n"
          ]
        }
      ]
    },
    {
      "cell_type": "code",
      "source": [
        "print(result[\"output\"])"
      ],
      "metadata": {
        "colab": {
          "base_uri": "https://localhost:8080/"
        },
        "id": "Hen3M1aW3FhS",
        "outputId": "c32da5f6-4231-439d-e378-291c3c93d9c3"
      },
      "execution_count": 38,
      "outputs": [
        {
          "output_type": "stream",
          "name": "stdout",
          "text": [
            "Here are some of the iPhone models available:\n",
            "\n",
            "1. Apple iPhone 15\n",
            "2. Apple iPhone 15 Plus\n",
            "3. Apple iPhone 15 Pro\n",
            "4. Apple iPhone 15 Pro Max\n",
            "5. Apple iPhone 14\n",
            "6. Apple iPhone 14 Pro Max\n",
            "7. Apple iPhone 14 Pro\n",
            "8. Apple iPhone 14 Plus\n",
            "9. Apple iPhone 11\n",
            "10. Apple iPhone 12\n",
            "\n",
            "These are some of the iPhone models currently available in the market.\n"
          ]
        }
      ]
    },
    {
      "cell_type": "markdown",
      "source": [
        "# **Gradio - To quickly build and share ML apps**"
      ],
      "metadata": {
        "id": "jYr12-Ss3PzX"
      }
    },
    {
      "cell_type": "code",
      "source": [
        "import gradio as gr"
      ],
      "metadata": {
        "id": "iTVSVmrd3YS9"
      },
      "execution_count": 39,
      "outputs": []
    },
    {
      "cell_type": "code",
      "source": [
        "def predict(message, _):\n",
        "  result = agent_executor.invoke({\"input\": message})\n",
        "  return result[\"output\"]"
      ],
      "metadata": {
        "id": "1E0qsX0-4LNp"
      },
      "execution_count": 40,
      "outputs": []
    },
    {
      "cell_type": "code",
      "source": [
        "gr.ChatInterface(predict,\n",
        "    chatbot=gr.Chatbot(height=300),\n",
        "    textbox=gr.Textbox(placeholder=\"Hi I am your virtual assistant, how can I help you today?\", container=False, scale=7),\n",
        "    title=\"BotAssist\",\n",
        "    theme=\"soft\",\n",
        "    examples=[\"What is the weather like in SF?\", \"What is LangSmith?\"],\n",
        "    retry_btn=None,\n",
        "    undo_btn=\"Delete Previous\",\n",
        "    clear_btn=\"Clear\",).launch(share=True)"
      ],
      "metadata": {
        "colab": {
          "base_uri": "https://localhost:8080/",
          "height": 628
        },
        "id": "38aJYisQ4Va7",
        "outputId": "417675c8-5b6e-4a05-ec07-616171bf9dc6"
      },
      "execution_count": 43,
      "outputs": [
        {
          "output_type": "stream",
          "name": "stdout",
          "text": [
            "Colab notebook detected. To show errors in colab notebook, set debug=True in launch()\n",
            "IMPORTANT: You are using gradio version 3.38.0, however version 4.44.1 is available, please upgrade.\n",
            "--------\n",
            "Running on public URL: https://8e1cd4b21721d9eaa2.gradio.live\n",
            "\n",
            "This share link expires in 72 hours. For free permanent hosting and GPU upgrades, run `gradio deploy` from Terminal to deploy to Spaces (https://huggingface.co/spaces)\n"
          ]
        },
        {
          "output_type": "display_data",
          "data": {
            "text/plain": [
              "<IPython.core.display.HTML object>"
            ],
            "text/html": [
              "<div><iframe src=\"https://8e1cd4b21721d9eaa2.gradio.live\" width=\"100%\" height=\"500\" allow=\"autoplay; camera; microphone; clipboard-read; clipboard-write;\" frameborder=\"0\" allowfullscreen></iframe></div>"
            ]
          },
          "metadata": {}
        },
        {
          "output_type": "execute_result",
          "data": {
            "text/plain": []
          },
          "metadata": {},
          "execution_count": 43
        }
      ]
    }
  ]
}